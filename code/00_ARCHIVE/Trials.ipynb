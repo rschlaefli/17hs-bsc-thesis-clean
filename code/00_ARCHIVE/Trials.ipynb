{
 "cells": [
  {
   "cell_type": "markdown",
   "metadata": {},
   "source": [
    "# GRIB1,\tGRIB2,\tNetCDF:\tWhich\tdo\tI\tchoose?\t\n",
    "\n",
    "Your\tchoice\tof\tdata\tformat\tdepends\ton\tthe\tdate\trange\tthat\tyou\tneed\tand\twhat\tyou\t\n",
    "want\tto\tdo\twith\tthe\tdata.\t\n",
    "\n",
    "GRIB\tis\ta\tWorld\tMeteorological\tOrganization\t(WMO)\tinternational\tstandard\tfor\t\n",
    "exchanging\tGRidded\tBInary\tdata.\tGRIB1\tis\tthe\toriginal\tformat\tand\trequires\ta\t\n",
    "separate\tparameter\ttable\tto\tunpack\tthe\tdata.\t\tGRIB2\timproves\tupon\tthe\tstandard\t\n",
    "with\tHile\tcompression\tand\tthe\tinclusion\tof\tthe\tmetadata/parameter\ttable\tthat\tyou\t\n",
    "need\tto\tunpack\tthe\tdata\tin\teach\tHile.\t\tGRIB2\texploits\tthe\tsame\tcompression\tsoftware\t\n",
    "commonly\tused\tfor\timages\tto\tgain\ta\troughly\t50%\treduction\tin\tHile\tsize\tover\tGRIB1.\t\n",
    "\n",
    "If\tyou\tare\tinterested\tin\t2007.12.06\tor\tlater,\tthen\tchoose\tGRIB2\tbecause\tof\tits\tsmaller\t\n",
    "size.\t\tFor\tearlier\tdates,\tuse\tGRIB1.\t\tIf\tyou\tare\tusing\tsoftware\tthat\treads\tNetCDF\tbut\t\n",
    "not\tGRIB,\tthen\tconvert\tthe\tHiles\tto\tNetCDF\t*.nc\tformat.\t\tUnless\tyou\tneed\tto\tuse\t\n",
    "NetCDF\ttools,\tuse\tGRIB2\tfor\tits\tefHiciency.\t\n",
    "\n",
    "The\tWRF\tmesoscale\tmodel\tcan\tuse\teither\tGRIB1\tor\tGRIB2.\tNewer\tversions\tof\tWRF\t\n",
    "Preprocessing\tSystem\t(WPS)\tcan\trecognize\tFNL\tGRIB1\tand\tGRIB2;\tWPS\twill\teven\t\n",
    "provide\tthe\tappropriate\tparameter\ttable\tfor\tFNL\tin\tGRIB1\tformat\tso\tyou\tdo\tnot\t\n",
    "need\tto\tdo\tso\tmanually.\t\tIf\tyou\tare\tusing\tthe\tolder\tMM5\tmesoscale\tmodel,\tuse\tGRIB1.\t\t\t\n",
    "\n",
    "You\tcan\tperform\tmany\tdata\tprocessing\ttasks\ton\tGRIB\tHiles\twith\twgrib\t\t(for\tGRIB1)\t\n",
    "and\twgrib2\t(for\tGRIB2).\t\tYou\tcan\tprocess\tand\tvisualize\tGRIB\tHiles\twith\tGRADS,\tIDL,\t\n",
    "Panoply,\tand\tR\t(using\tthe\trNOMADS\tpackage).\t\tYou\tcan\tuse\tthe\textensive\tNetCDF\t\n",
    "software\tlibraries\tif\tyou\tconvert\tthe\tHiles\tto\tNetCDF.\t\tHowever,\tbe\tmindful\tthat\t\n",
    "NetCDF\tHiles\tare\tnot\tas\tcompact\tas\tGRIB2,\teven\twhen\tcompressed.\t"
   ]
  },
  {
   "cell_type": "markdown",
   "metadata": {},
   "source": [
    "# Resources\n",
    "- https://www.pgc.umn.edu/apps/convert/\n",
    "- https://jswhit.github.io/pygrib/docs/\n",
    "- http://pyaos.johnny-lin.com/\n",
    "- https://nbviewer.jupyter.org/gist/jswhit/8635665"
   ]
  },
  {
   "cell_type": "markdown",
   "metadata": {},
   "source": [
    "# Data\n",
    "- https://drive.google.com/drive/folders/0B_wueX1dv4FsQ0t6Rm9fYTRUWGs?usp=sharing"
   ]
  },
  {
   "cell_type": "code",
   "execution_count": 70,
   "metadata": {
    "collapsed": true
   },
   "outputs": [],
   "source": [
    "import numpy as np\n",
    "import pygrib"
   ]
  },
  {
   "cell_type": "code",
   "execution_count": 71,
   "metadata": {
    "collapsed": true
   },
   "outputs": [],
   "source": [
    "# open the grib file with pygrib\n",
    "\n",
    "grbs = pygrib.open('data/_mars-atls04-95e2cf679cd58ee9b4db4dd119a05a8d-3vE789.grib')"
   ]
  },
  {
   "cell_type": "code",
   "execution_count": 72,
   "metadata": {},
   "outputs": [
    {
     "name": "stdout",
     "output_type": "stream",
     "text": [
      "['parametersVersion', 'UseEcmfConventions', 'GRIBEX_boustrophedonic', 'hundred', 'globalDomain', 'GRIBEditionNumber', 'eps', 'offsetSection0', 'section0Length', 'totalLength', 'editionNumber', 'WMO', 'productionStatusOfProcessedData', 'section1Length', 'wrongPadding', 'table2Version', 'centre', 'centreDescription', 'generatingProcessIdentifier', 'gridDefinition', 'indicatorOfParameter', 'parameterName', 'parameterUnits', 'indicatorOfTypeOfLevel', 'pressureUnits', 'typeOfLevelECMF', 'typeOfLevel', 'level', 'yearOfCentury', 'month', 'day', 'hour', 'minute', 'second', 'unitOfTimeRange', 'P1', 'P2', 'timeRangeIndicator', 'numberIncludedInAverage', 'numberMissingFromAveragesOrAccumulations', 'centuryOfReferenceTimeOfData', 'subCentre', 'paramIdECMF', 'paramId', 'cfNameECMF', 'cfName', 'cfVarNameECMF', 'cfVarName', 'unitsECMF', 'units', 'nameECMF', 'name', 'decimalScaleFactor', 'setLocalDefinition', 'dataDate', 'year', 'dataTime', 'julianDay', 'stepUnits', 'stepType', 'stepRange', 'startStep', 'endStep', 'marsParam', 'validityDate', 'validityTime', 'deleteLocalDefinition', 'localUsePresent', 'localDefinitionNumber', 'GRIBEXSection1Problem', 'marsClass', 'marsType', 'marsStream', 'experimentVersionNumber', 'perturbationNumber', 'numberOfForecastsInEnsemble', 'grib2LocalSectionNumber', 'shortNameECMF', 'shortName', 'ifsParam', 'gridDescriptionSectionPresent', 'bitmapPresent', 'angularPrecision', 'section2Length', 'radius', 'numberOfVerticalCoordinateValues', 'neitherPresent', 'pvlLocation', 'dataRepresentationType', 'gridDefinitionDescription', 'gridDefinitionTemplateNumber', 'J', 'K', 'M', 'numberOfValues', 'representationType', 'representationMode', 'Nj', 'PVPresent', 'PLPresent', 'deletePV', 'lengthOfHeaders', 'missingValue', 'tableReference', 'section4Length', 'halfByte', 'dataFlag', 'binaryScaleFactor', 'referenceValue', 'referenceValueError', 'sphericalHarmonics', 'complexPacking', 'integerPointValues', 'additionalFlagPresent', 'orderOfSPD', 'boustrophedonic', 'hideThis', 'packingType', 'bitsPerValue', 'PUnset', 'N', 'P', 'JS', 'KS', 'MS', 'GRIBEXShBugPresent', 'laplacianOperator', 'laplacianOperatorIsSet', 'TS', 'values', 'packedValues', 'unpackedValues', 'packingError', 'unpackedError', 'numberOfCodedValues', 'average', 'energyNorm', 'standardDeviation', 'isConstant', 'dataLength', 'changeDecimalPrecision', 'decimalPrecision', 'bitsPerValueAndRepack', 'scaleValuesBy', 'offsetValuesBy', 'gridType', 'getNumberOfValues', 'section5Length', 'analDate', 'validDate']\n",
      "150\n",
      "[  2.86775391e+02   0.00000000e+00  -3.92261982e+00 ...,   2.30260826e-04\n",
      "   1.06957364e-03  -8.94591405e-04]\n",
      "25760\n"
     ]
    },
    {
     "ename": "ValueError",
     "evalue": "unsupported grid sh",
     "output_type": "error",
     "traceback": [
      "\u001b[0;31m---------------------------------------------------------------------------\u001b[0m",
      "\u001b[0;31mValueError\u001b[0m                                Traceback (most recent call last)",
      "\u001b[0;32m<ipython-input-72-80c38736a20b>\u001b[0m in \u001b[0;36m<module>\u001b[0;34m()\u001b[0m\n\u001b[1;32m     15\u001b[0m \u001b[0;34m\u001b[0m\u001b[0m\n\u001b[1;32m     16\u001b[0m \u001b[0;31m# calculate latitude and longitude from grid\u001b[0m\u001b[0;34m\u001b[0m\u001b[0;34m\u001b[0m\u001b[0m\n\u001b[0;32m---> 17\u001b[0;31m \u001b[0mprint\u001b[0m\u001b[0;34m(\u001b[0m\u001b[0mgrb\u001b[0m\u001b[0;34m.\u001b[0m\u001b[0mlatlons\u001b[0m\u001b[0;34m(\u001b[0m\u001b[0;34m)\u001b[0m\u001b[0;34m)\u001b[0m\u001b[0;34m\u001b[0m\u001b[0m\n\u001b[0m",
      "\u001b[0;32mpygrib.pyx\u001b[0m in \u001b[0;36mpygrib.gribmessage.latlons (pygrib.c:21459)\u001b[0;34m()\u001b[0m\n",
      "\u001b[0;31mValueError\u001b[0m: unsupported grid sh"
     ]
    }
   ],
   "source": [
    "# reset the iterator to the first position\n",
    "# grbs.seek(0)\n",
    "# => then do some looping\n",
    "\n",
    "# extract the first message in the binary\n",
    "grb = grbs.message(1)\n",
    "\n",
    "# print the available keys in the message\n",
    "print(grb.keys())\n",
    "print(len(grb.keys()))\n",
    "\n",
    "# print the values embedded in the message\n",
    "print(grb.values)\n",
    "print(len(grb.values))\n",
    "\n",
    "# calculate latitude and longitude from grid\n",
    "print(grb.latlons())"
   ]
  },
  {
   "cell_type": "code",
   "execution_count": 73,
   "metadata": {},
   "outputs": [
    {
     "ename": "ValueError",
     "evalue": "unsupported grid sh",
     "output_type": "error",
     "traceback": [
      "\u001b[0;31m---------------------------------------------------------------------------\u001b[0m",
      "\u001b[0;31mValueError\u001b[0m                                Traceback (most recent call last)",
      "\u001b[0;32m<ipython-input-73-ba2b28930771>\u001b[0m in \u001b[0;36m<module>\u001b[0;34m()\u001b[0m\n\u001b[1;32m      2\u001b[0m \u001b[0;34m\u001b[0m\u001b[0m\n\u001b[1;32m      3\u001b[0m \u001b[0mgrb\u001b[0m \u001b[0;34m=\u001b[0m \u001b[0mgrbs\u001b[0m\u001b[0;34m.\u001b[0m\u001b[0mmessage\u001b[0m\u001b[0;34m(\u001b[0m\u001b[0;36m2\u001b[0m\u001b[0;34m)\u001b[0m\u001b[0;34m\u001b[0m\u001b[0m\n\u001b[0;32m----> 4\u001b[0;31m \u001b[0mdata\u001b[0m\u001b[0;34m,\u001b[0m \u001b[0mlats\u001b[0m\u001b[0;34m,\u001b[0m \u001b[0mlons\u001b[0m \u001b[0;34m=\u001b[0m \u001b[0mgrb\u001b[0m\u001b[0;34m.\u001b[0m\u001b[0mdata\u001b[0m\u001b[0;34m(\u001b[0m\u001b[0mlat1\u001b[0m\u001b[0;34m=\u001b[0m\u001b[0;36m5\u001b[0m\u001b[0;34m,\u001b[0m\u001b[0mlat2\u001b[0m\u001b[0;34m=\u001b[0m\u001b[0;36m40\u001b[0m\u001b[0;34m,\u001b[0m\u001b[0mlon1\u001b[0m\u001b[0;34m=\u001b[0m\u001b[0;36m62.5\u001b[0m\u001b[0;34m,\u001b[0m\u001b[0mlon2\u001b[0m\u001b[0;34m=\u001b[0m\u001b[0;36m97.5\u001b[0m\u001b[0;34m)\u001b[0m\u001b[0;34m\u001b[0m\u001b[0m\n\u001b[0m\u001b[1;32m      5\u001b[0m \u001b[0mdata\u001b[0m\u001b[0;34m.\u001b[0m\u001b[0mshape\u001b[0m\u001b[0;34m,\u001b[0m \u001b[0mlats\u001b[0m\u001b[0;34m.\u001b[0m\u001b[0mmin\u001b[0m\u001b[0;34m(\u001b[0m\u001b[0;34m)\u001b[0m\u001b[0;34m,\u001b[0m \u001b[0mlats\u001b[0m\u001b[0;34m.\u001b[0m\u001b[0mmax\u001b[0m\u001b[0;34m(\u001b[0m\u001b[0;34m)\u001b[0m\u001b[0;34m,\u001b[0m \u001b[0mlons\u001b[0m\u001b[0;34m.\u001b[0m\u001b[0mmin\u001b[0m\u001b[0;34m(\u001b[0m\u001b[0;34m)\u001b[0m\u001b[0;34m,\u001b[0m \u001b[0mlons\u001b[0m\u001b[0;34m.\u001b[0m\u001b[0mmax\u001b[0m\u001b[0;34m(\u001b[0m\u001b[0;34m)\u001b[0m\u001b[0;34m\u001b[0m\u001b[0m\n",
      "\u001b[0;32mpygrib.pyx\u001b[0m in \u001b[0;36mpygrib.gribmessage.data (pygrib.c:13987)\u001b[0;34m()\u001b[0m\n",
      "\u001b[0;32mpygrib.pyx\u001b[0m in \u001b[0;36mpygrib.gribmessage.latlons (pygrib.c:21459)\u001b[0;34m()\u001b[0m\n",
      "\u001b[0;31mValueError\u001b[0m: unsupported grid sh"
     ]
    }
   ],
   "source": [
    "# extract data and get lat/lon values for the relevant subset\n",
    "# degrees as specified in phd thesis\n",
    "\n",
    "grb = grbs.message(2)\n",
    "data, lats, lons = grb.data(lat1=5,lat2=40,lon1=62.5,lon2=97.5)\n",
    "data.shape, lats.min(), lats.max(), lons.min(), lons.max()"
   ]
  },
  {
   "cell_type": "code",
   "execution_count": 74,
   "metadata": {},
   "outputs": [
    {
     "data": {
      "text/plain": [
       "array([  2.86775391e+02,   0.00000000e+00,  -3.92261982e+00, ...,\n",
       "         2.30260826e-04,   1.06957364e-03,  -8.94591405e-04])"
      ]
     },
     "execution_count": 74,
     "metadata": {},
     "output_type": "execute_result"
    }
   ],
   "source": [
    "grbs.message(1).values"
   ]
  },
  {
   "cell_type": "code",
   "execution_count": 75,
   "metadata": {},
   "outputs": [
    {
     "data": {
      "text/plain": [
       "['parametersVersion',\n",
       " 'UseEcmfConventions',\n",
       " 'GRIBEX_boustrophedonic',\n",
       " 'hundred',\n",
       " 'globalDomain',\n",
       " 'GRIBEditionNumber',\n",
       " 'eps',\n",
       " 'offsetSection0',\n",
       " 'section0Length',\n",
       " 'totalLength',\n",
       " 'editionNumber',\n",
       " 'WMO',\n",
       " 'productionStatusOfProcessedData',\n",
       " 'section1Length',\n",
       " 'wrongPadding',\n",
       " 'table2Version',\n",
       " 'centre',\n",
       " 'centreDescription',\n",
       " 'generatingProcessIdentifier',\n",
       " 'gridDefinition',\n",
       " 'indicatorOfParameter',\n",
       " 'parameterName',\n",
       " 'parameterUnits',\n",
       " 'indicatorOfTypeOfLevel',\n",
       " 'pressureUnits',\n",
       " 'typeOfLevelECMF',\n",
       " 'typeOfLevel',\n",
       " 'level',\n",
       " 'yearOfCentury',\n",
       " 'month',\n",
       " 'day',\n",
       " 'hour',\n",
       " 'minute',\n",
       " 'second',\n",
       " 'unitOfTimeRange',\n",
       " 'P1',\n",
       " 'P2',\n",
       " 'timeRangeIndicator',\n",
       " 'numberIncludedInAverage',\n",
       " 'numberMissingFromAveragesOrAccumulations',\n",
       " 'centuryOfReferenceTimeOfData',\n",
       " 'subCentre',\n",
       " 'paramIdECMF',\n",
       " 'paramId',\n",
       " 'cfNameECMF',\n",
       " 'cfName',\n",
       " 'cfVarNameECMF',\n",
       " 'cfVarName',\n",
       " 'unitsECMF',\n",
       " 'units',\n",
       " 'nameECMF',\n",
       " 'name',\n",
       " 'decimalScaleFactor',\n",
       " 'setLocalDefinition',\n",
       " 'dataDate',\n",
       " 'year',\n",
       " 'dataTime',\n",
       " 'julianDay',\n",
       " 'stepUnits',\n",
       " 'stepType',\n",
       " 'stepRange',\n",
       " 'startStep',\n",
       " 'endStep',\n",
       " 'marsParam',\n",
       " 'validityDate',\n",
       " 'validityTime',\n",
       " 'deleteLocalDefinition',\n",
       " 'localUsePresent',\n",
       " 'localDefinitionNumber',\n",
       " 'GRIBEXSection1Problem',\n",
       " 'marsClass',\n",
       " 'marsType',\n",
       " 'marsStream',\n",
       " 'experimentVersionNumber',\n",
       " 'perturbationNumber',\n",
       " 'numberOfForecastsInEnsemble',\n",
       " 'grib2LocalSectionNumber',\n",
       " 'shortNameECMF',\n",
       " 'shortName',\n",
       " 'ifsParam',\n",
       " 'gridDescriptionSectionPresent',\n",
       " 'bitmapPresent',\n",
       " 'angularPrecision',\n",
       " 'section2Length',\n",
       " 'radius',\n",
       " 'numberOfVerticalCoordinateValues',\n",
       " 'neitherPresent',\n",
       " 'pvlLocation',\n",
       " 'dataRepresentationType',\n",
       " 'gridDefinitionDescription',\n",
       " 'gridDefinitionTemplateNumber',\n",
       " 'J',\n",
       " 'K',\n",
       " 'M',\n",
       " 'numberOfValues',\n",
       " 'representationType',\n",
       " 'representationMode',\n",
       " 'Nj',\n",
       " 'PVPresent',\n",
       " 'PLPresent',\n",
       " 'deletePV',\n",
       " 'lengthOfHeaders',\n",
       " 'missingValue',\n",
       " 'tableReference',\n",
       " 'section4Length',\n",
       " 'halfByte',\n",
       " 'dataFlag',\n",
       " 'binaryScaleFactor',\n",
       " 'referenceValue',\n",
       " 'referenceValueError',\n",
       " 'sphericalHarmonics',\n",
       " 'complexPacking',\n",
       " 'integerPointValues',\n",
       " 'additionalFlagPresent',\n",
       " 'orderOfSPD',\n",
       " 'boustrophedonic',\n",
       " 'hideThis',\n",
       " 'packingType',\n",
       " 'bitsPerValue',\n",
       " 'PUnset',\n",
       " 'N',\n",
       " 'P',\n",
       " 'JS',\n",
       " 'KS',\n",
       " 'MS',\n",
       " 'GRIBEXShBugPresent',\n",
       " 'laplacianOperator',\n",
       " 'laplacianOperatorIsSet',\n",
       " 'TS',\n",
       " 'values',\n",
       " 'packedValues',\n",
       " 'unpackedValues',\n",
       " 'packingError',\n",
       " 'unpackedError',\n",
       " 'numberOfCodedValues',\n",
       " 'average',\n",
       " 'energyNorm',\n",
       " 'standardDeviation',\n",
       " 'isConstant',\n",
       " 'dataLength',\n",
       " 'changeDecimalPrecision',\n",
       " 'decimalPrecision',\n",
       " 'bitsPerValueAndRepack',\n",
       " 'scaleValuesBy',\n",
       " 'offsetValuesBy',\n",
       " 'gridType',\n",
       " 'getNumberOfValues',\n",
       " 'section5Length',\n",
       " 'analDate',\n",
       " 'validDate']"
      ]
     },
     "execution_count": 75,
     "metadata": {},
     "output_type": "execute_result"
    }
   ],
   "source": [
    "grbs.message(1).keys()"
   ]
  },
  {
   "cell_type": "code",
   "execution_count": 95,
   "metadata": {},
   "outputs": [
    {
     "name": "stdout",
     "output_type": "stream",
     "text": [
      "(3896, 25760) -13.4843883514 290.987548828 0.0107722860085\n",
      "(3896, 25760) -13.4843883514 290.987548828 0.0107722860085\n"
     ]
    },
    {
     "ename": "ValueError",
     "evalue": "unsupported grid sh",
     "output_type": "error",
     "traceback": [
      "\u001b[0;31m---------------------------------------------------------------------------\u001b[0m",
      "\u001b[0;31mValueError\u001b[0m                                Traceback (most recent call last)",
      "\u001b[0;32m<ipython-input-95-34596e264f5d>\u001b[0m in \u001b[0;36m<module>\u001b[0;34m()\u001b[0m\n\u001b[1;32m     15\u001b[0m \u001b[0mprint\u001b[0m\u001b[0;34m(\u001b[0m\u001b[0mhumidity_values\u001b[0m\u001b[0;34m.\u001b[0m\u001b[0mshape\u001b[0m\u001b[0;34m,\u001b[0m \u001b[0mhumidity_values\u001b[0m\u001b[0;34m.\u001b[0m\u001b[0mmin\u001b[0m\u001b[0;34m(\u001b[0m\u001b[0;34m)\u001b[0m\u001b[0;34m,\u001b[0m \u001b[0mhumidity_values\u001b[0m\u001b[0;34m.\u001b[0m\u001b[0mmax\u001b[0m\u001b[0;34m(\u001b[0m\u001b[0;34m)\u001b[0m\u001b[0;34m,\u001b[0m \u001b[0mhumidity_values\u001b[0m\u001b[0;34m.\u001b[0m\u001b[0mmean\u001b[0m\u001b[0;34m(\u001b[0m\u001b[0;34m)\u001b[0m\u001b[0;34m)\u001b[0m\u001b[0;34m\u001b[0m\u001b[0m\n\u001b[1;32m     16\u001b[0m \u001b[0;34m\u001b[0m\u001b[0m\n\u001b[0;32m---> 17\u001b[0;31m \u001b[0mlats\u001b[0m\u001b[0;34m,\u001b[0m \u001b[0mlons\u001b[0m \u001b[0;34m=\u001b[0m \u001b[0mgrb\u001b[0m\u001b[0;34m.\u001b[0m\u001b[0mlatlons\u001b[0m\u001b[0;34m(\u001b[0m\u001b[0;34m)\u001b[0m  \u001b[0;31m# get the lats and lons for the grid.\u001b[0m\u001b[0;34m\u001b[0m\u001b[0m\n\u001b[0m\u001b[1;32m     18\u001b[0m \u001b[0mprint\u001b[0m\u001b[0;34m(\u001b[0m\u001b[0;34m'min/max lat and lon'\u001b[0m\u001b[0;34m,\u001b[0m\u001b[0mlats\u001b[0m\u001b[0;34m.\u001b[0m\u001b[0mmin\u001b[0m\u001b[0;34m(\u001b[0m\u001b[0;34m)\u001b[0m\u001b[0;34m,\u001b[0m \u001b[0mlats\u001b[0m\u001b[0;34m.\u001b[0m\u001b[0mmax\u001b[0m\u001b[0;34m(\u001b[0m\u001b[0;34m)\u001b[0m\u001b[0;34m,\u001b[0m \u001b[0mlons\u001b[0m\u001b[0;34m.\u001b[0m\u001b[0mmin\u001b[0m\u001b[0;34m(\u001b[0m\u001b[0;34m)\u001b[0m\u001b[0;34m,\u001b[0m \u001b[0mlons\u001b[0m\u001b[0;34m.\u001b[0m\u001b[0mmax\u001b[0m\u001b[0;34m(\u001b[0m\u001b[0;34m)\u001b[0m\u001b[0;34m)\u001b[0m\u001b[0;34m\u001b[0m\u001b[0m\n",
      "\u001b[0;32mpygrib.pyx\u001b[0m in \u001b[0;36mpygrib.gribmessage.latlons (pygrib.c:21459)\u001b[0;34m()\u001b[0m\n",
      "\u001b[0;31mValueError\u001b[0m: unsupported grid sh"
     ]
    }
   ],
   "source": [
    "grbs.rewind()\n",
    "\n",
    "temparature_values = []\n",
    "for grb in grbs:\n",
    "    if grb.parameterName == 'Temperature': \n",
    "        temparature_values.append(grb.values)\n",
    "temparature_values = np.array(t2mens)\n",
    "print(temparature_values.shape, temparature_values.min(), temparature_values.max(), temparature_values.mean())\n",
    "\n",
    "humidity_values= []\n",
    "for grb in grbs:\n",
    "    if grb.parameterName == 'Relative Humidity': \n",
    "        humidity_values.append(grb.values)\n",
    "humidity_values = np.array(t2mens)\n",
    "print(humidity_values.shape, humidity_values.min(), humidity_values.max(), humidity_values.mean())\n",
    "\n",
    "lats, lons = grb.latlons()  # get the lats and lons for the grid.\n",
    "print('min/max lat and lon',lats.min(), lats.max(), lons.min(), lons.max())"
   ]
  },
  {
   "cell_type": "code",
   "execution_count": null,
   "metadata": {
    "collapsed": true
   },
   "outputs": [],
   "source": []
  }
 ],
 "metadata": {
  "kernelspec": {
   "display_name": "Python 3",
   "language": "python",
   "name": "python3"
  },
  "language_info": {
   "codemirror_mode": {
    "name": "ipython",
    "version": 3
   },
   "file_extension": ".py",
   "mimetype": "text/x-python",
   "name": "python",
   "nbconvert_exporter": "python",
   "pygments_lexer": "ipython3",
   "version": "3.6.2"
  }
 },
 "nbformat": 4,
 "nbformat_minor": 2
}
