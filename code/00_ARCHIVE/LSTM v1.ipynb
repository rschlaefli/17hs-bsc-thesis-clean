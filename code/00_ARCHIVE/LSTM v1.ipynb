{
 "cells": [
  {
   "cell_type": "markdown",
   "metadata": {},
   "source": [
    "# Basic modeling\n",
    "\n",
    "## Sources\n",
    "\n",
    "- Paper: Tracking the Indian Summer Monsoon Onset Back to the Preinstrument Period\n",
    "- "
   ]
  },
  {
   "cell_type": "markdown",
   "metadata": {},
   "source": [
    "## Dependencies"
   ]
  },
  {
   "cell_type": "code",
   "execution_count": 1,
   "metadata": {},
   "outputs": [
    {
     "name": "stderr",
     "output_type": "stream",
     "text": [
      "Using TensorFlow backend.\n"
     ]
    }
   ],
   "source": [
    "import time, os, math\n",
    "import numpy as np\n",
    "import pandas as pd\n",
    "import xarray as xr\n",
    "import matplotlib as plt\n",
    "import seaborn as sns\n",
    "from keras.models import Model, Sequential\n",
    "from keras.layers import LSTM, Dense\n",
    "from keras.preprocessing.sequence import pad_sequences\n",
    "from sklearn.metrics import accuracy_score, classification_report, confusion_matrix\n",
    "\n",
    "import paths\n",
    "from TRMM import TRMM\n",
    "import BASE_MODEL\n",
    "\n",
    "# force autoreload of external modules on save\n",
    "%load_ext autoreload\n",
    "%autoreload 2\n",
    "%matplotlib inline"
   ]
  },
  {
   "cell_type": "markdown",
   "metadata": {},
   "source": [
    "## Preparations"
   ]
  },
  {
   "cell_type": "code",
   "execution_count": 2,
   "metadata": {},
   "outputs": [
    {
     "data": {
      "text/html": [
       "<div>\n",
       "<style>\n",
       "    .dataframe thead tr:only-child th {\n",
       "        text-align: right;\n",
       "    }\n",
       "\n",
       "    .dataframe thead th {\n",
       "        text-align: left;\n",
       "    }\n",
       "\n",
       "    .dataframe tbody tr th {\n",
       "        vertical-align: top;\n",
       "    }\n",
       "</style>\n",
       "<table border=\"1\" class=\"dataframe\">\n",
       "  <thead>\n",
       "    <tr style=\"text-align: right;\">\n",
       "      <th></th>\n",
       "      <th>date</th>\n",
       "      <th>timestamp</th>\n",
       "    </tr>\n",
       "  </thead>\n",
       "  <tbody>\n",
       "    <tr>\n",
       "      <th>0</th>\n",
       "      <td>1887-05-30</td>\n",
       "      <td>NaN</td>\n",
       "    </tr>\n",
       "    <tr>\n",
       "      <th>1</th>\n",
       "      <td>1888-05-20</td>\n",
       "      <td>NaN</td>\n",
       "    </tr>\n",
       "    <tr>\n",
       "      <th>2</th>\n",
       "      <td>1889-05-26</td>\n",
       "      <td>NaN</td>\n",
       "    </tr>\n",
       "    <tr>\n",
       "      <th>3</th>\n",
       "      <td>1890-06-03</td>\n",
       "      <td>NaN</td>\n",
       "    </tr>\n",
       "    <tr>\n",
       "      <th>4</th>\n",
       "      <td>1902-05-28</td>\n",
       "      <td>NaN</td>\n",
       "    </tr>\n",
       "  </tbody>\n",
       "</table>\n",
       "</div>"
      ],
      "text/plain": [
       "        date  timestamp\n",
       "0 1887-05-30        NaN\n",
       "1 1888-05-20        NaN\n",
       "2 1889-05-26        NaN\n",
       "3 1890-06-03        NaN\n",
       "4 1902-05-28        NaN"
      ]
     },
     "execution_count": 2,
     "metadata": {},
     "output_type": "execute_result"
    }
   ],
   "source": [
    "onset_dates, onset_ts = BASE_MODEL.load_onset_dates()\n",
    "\n",
    "onset_dates.head()"
   ]
  },
  {
   "cell_type": "code",
   "execution_count": 3,
   "metadata": {},
   "outputs": [
    {
     "data": {
      "text/plain": [
       "date\n",
       "1970      12261600\n",
       "1972      77234400\n",
       "1973     107215200\n",
       "1974     138405600\n",
       "1975     170546400\n",
       "1976     201823200\n",
       "1977     233359200\n",
       "1978     264376800\n",
       "1979     297727200\n",
       "1980     328312800\n",
       "1981     359589600\n",
       "1982     391903200\n",
       "1983     423871200\n",
       "1984     454543200\n",
       "1985     485560800\n",
       "1986     518392800\n",
       "1987     549583200\n",
       "1988     580860000\n",
       "1989     611964000\n",
       "1990     642722400\n",
       "1991     675640800\n",
       "1992     707608800\n",
       "1993     738799200\n",
       "1994     769903200\n",
       "1995     802130400\n",
       "1996     833752800\n",
       "1997     865807200\n",
       "1998     896479200\n",
       "1999     926460000\n",
       "2000     958255200\n",
       "2001     990136800\n",
       "2002    1022104800\n",
       "2003    1054764000\n",
       "2004    1084399200\n",
       "2005    1118181600\n",
       "2006    1148162400\n",
       "2007    1181340000\n",
       "2008    1211666400\n",
       "2009    1243029600\n",
       "2010    1275256800\n",
       "2011    1306360800\n",
       "2012    1339365600\n",
       "2013    1369173600\n",
       "2014    1402005600\n",
       "2015    1433455200\n",
       "2016    1465336800\n",
       "Name: timestamp, dtype: int64"
      ]
     },
     "execution_count": 3,
     "metadata": {},
     "output_type": "execute_result"
    }
   ],
   "source": [
    "onset_ts"
   ]
  },
  {
   "cell_type": "markdown",
   "metadata": {},
   "source": [
    "## Combine TRMM with onset dates"
   ]
  },
  {
   "cell_type": "code",
   "execution_count": 5,
   "metadata": {},
   "outputs": [
    {
     "name": "stdout",
     "output_type": "stream",
     "text": [
      "> Processing: 1998 1999 2000 2001 2002 2003 2004 2005 2006 2007 2008 2009 2010 2011 2012 2013 2014 2015 2016 "
     ]
    }
   ],
   "source": [
    "YEARS = range(1998, 2017)\n",
    "PRE_MONSOON = [3, 4, 5, 6] # load june too as some monsoons only start then!\n",
    "\n",
    "def filter_fun(df, year):\n",
    "    return BASE_MODEL.filter_until(df, onset_ts[year])\n",
    "\n",
    "df = TRMM.load_dataset(YEARS, PRE_MONSOON, filter_fun=filter_fun, aggregated=True)"
   ]
  },
  {
   "cell_type": "code",
   "execution_count": 6,
   "metadata": {},
   "outputs": [
    {
     "name": "stdout",
     "output_type": "stream",
     "text": [
      "<class 'pandas.core.frame.DataFrame'>\n",
      "MultiIndex: 169 entries, (7.625, 64.875) to (37.625, 94.875)\n",
      "Columns: 1686 entries, 888706800 to 1465336800\n",
      "dtypes: float64(1686)\n",
      "memory usage: 2.2 MB\n"
     ]
    }
   ],
   "source": [
    "df.info()"
   ]
  },
  {
   "cell_type": "code",
   "execution_count": 7,
   "metadata": {},
   "outputs": [
    {
     "data": {
      "text/html": [
       "<div>\n",
       "<style>\n",
       "    .dataframe thead tr:only-child th {\n",
       "        text-align: right;\n",
       "    }\n",
       "\n",
       "    .dataframe thead th {\n",
       "        text-align: left;\n",
       "    }\n",
       "\n",
       "    .dataframe tbody tr th {\n",
       "        vertical-align: top;\n",
       "    }\n",
       "</style>\n",
       "<table border=\"1\" class=\"dataframe\">\n",
       "  <thead>\n",
       "    <tr style=\"text-align: right;\">\n",
       "      <th></th>\n",
       "      <th></th>\n",
       "      <th>888706800</th>\n",
       "      <th>888793200</th>\n",
       "      <th>888879600</th>\n",
       "      <th>888966000</th>\n",
       "      <th>889052400</th>\n",
       "      <th>889138800</th>\n",
       "      <th>889225200</th>\n",
       "      <th>889311600</th>\n",
       "      <th>889398000</th>\n",
       "      <th>889484400</th>\n",
       "      <th>...</th>\n",
       "      <th>1464559200</th>\n",
       "      <th>1464645600</th>\n",
       "      <th>1464732000</th>\n",
       "      <th>1464818400</th>\n",
       "      <th>1464904800</th>\n",
       "      <th>1464991200</th>\n",
       "      <th>1465077600</th>\n",
       "      <th>1465164000</th>\n",
       "      <th>1465250400</th>\n",
       "      <th>1465336800</th>\n",
       "    </tr>\n",
       "    <tr>\n",
       "      <th>latitude</th>\n",
       "      <th>longitude</th>\n",
       "      <th></th>\n",
       "      <th></th>\n",
       "      <th></th>\n",
       "      <th></th>\n",
       "      <th></th>\n",
       "      <th></th>\n",
       "      <th></th>\n",
       "      <th></th>\n",
       "      <th></th>\n",
       "      <th></th>\n",
       "      <th></th>\n",
       "      <th></th>\n",
       "      <th></th>\n",
       "      <th></th>\n",
       "      <th></th>\n",
       "      <th></th>\n",
       "      <th></th>\n",
       "      <th></th>\n",
       "      <th></th>\n",
       "      <th></th>\n",
       "      <th></th>\n",
       "    </tr>\n",
       "  </thead>\n",
       "  <tbody>\n",
       "    <tr>\n",
       "      <th rowspan=\"5\" valign=\"top\">7.625</th>\n",
       "      <th>64.875</th>\n",
       "      <td>0.270000</td>\n",
       "      <td>0.09</td>\n",
       "      <td>0.000000</td>\n",
       "      <td>0.420000</td>\n",
       "      <td>0.000000</td>\n",
       "      <td>13.020000</td>\n",
       "      <td>0.00</td>\n",
       "      <td>27.119999</td>\n",
       "      <td>0.12</td>\n",
       "      <td>0.00</td>\n",
       "      <td>...</td>\n",
       "      <td>5.100000</td>\n",
       "      <td>0.690000</td>\n",
       "      <td>0.000000</td>\n",
       "      <td>7.860000</td>\n",
       "      <td>25.740000</td>\n",
       "      <td>74.249999</td>\n",
       "      <td>144.929998</td>\n",
       "      <td>22.379999</td>\n",
       "      <td>40.859999</td>\n",
       "      <td>68.339998</td>\n",
       "    </tr>\n",
       "    <tr>\n",
       "      <th>67.375</th>\n",
       "      <td>0.030000</td>\n",
       "      <td>10.08</td>\n",
       "      <td>0.000000</td>\n",
       "      <td>2.430000</td>\n",
       "      <td>0.000000</td>\n",
       "      <td>26.460000</td>\n",
       "      <td>0.03</td>\n",
       "      <td>3.480000</td>\n",
       "      <td>0.00</td>\n",
       "      <td>0.03</td>\n",
       "      <td>...</td>\n",
       "      <td>13.530000</td>\n",
       "      <td>15.179999</td>\n",
       "      <td>5.580000</td>\n",
       "      <td>16.470000</td>\n",
       "      <td>6.300000</td>\n",
       "      <td>306.179991</td>\n",
       "      <td>507.419988</td>\n",
       "      <td>47.939998</td>\n",
       "      <td>137.639995</td>\n",
       "      <td>74.099997</td>\n",
       "    </tr>\n",
       "    <tr>\n",
       "      <th>69.875</th>\n",
       "      <td>20.159999</td>\n",
       "      <td>4.56</td>\n",
       "      <td>0.000000</td>\n",
       "      <td>64.409999</td>\n",
       "      <td>0.000000</td>\n",
       "      <td>13.589999</td>\n",
       "      <td>0.00</td>\n",
       "      <td>4.110000</td>\n",
       "      <td>0.00</td>\n",
       "      <td>0.72</td>\n",
       "      <td>...</td>\n",
       "      <td>22.049999</td>\n",
       "      <td>42.659998</td>\n",
       "      <td>6.240000</td>\n",
       "      <td>12.720000</td>\n",
       "      <td>8.430000</td>\n",
       "      <td>174.779995</td>\n",
       "      <td>420.749989</td>\n",
       "      <td>110.939996</td>\n",
       "      <td>86.219996</td>\n",
       "      <td>43.709999</td>\n",
       "    </tr>\n",
       "    <tr>\n",
       "      <th>72.375</th>\n",
       "      <td>4.020000</td>\n",
       "      <td>0.09</td>\n",
       "      <td>8.430000</td>\n",
       "      <td>109.139997</td>\n",
       "      <td>16.920000</td>\n",
       "      <td>115.829996</td>\n",
       "      <td>0.00</td>\n",
       "      <td>0.570000</td>\n",
       "      <td>0.00</td>\n",
       "      <td>0.00</td>\n",
       "      <td>...</td>\n",
       "      <td>124.049998</td>\n",
       "      <td>221.759995</td>\n",
       "      <td>114.899997</td>\n",
       "      <td>47.969998</td>\n",
       "      <td>10.860000</td>\n",
       "      <td>7.590000</td>\n",
       "      <td>191.699994</td>\n",
       "      <td>823.379981</td>\n",
       "      <td>190.739997</td>\n",
       "      <td>152.999996</td>\n",
       "    </tr>\n",
       "    <tr>\n",
       "      <th>74.875</th>\n",
       "      <td>2.160000</td>\n",
       "      <td>0.00</td>\n",
       "      <td>22.559999</td>\n",
       "      <td>66.629998</td>\n",
       "      <td>70.619998</td>\n",
       "      <td>41.849998</td>\n",
       "      <td>0.00</td>\n",
       "      <td>0.000000</td>\n",
       "      <td>0.00</td>\n",
       "      <td>6.99</td>\n",
       "      <td>...</td>\n",
       "      <td>954.419981</td>\n",
       "      <td>283.559996</td>\n",
       "      <td>316.319993</td>\n",
       "      <td>284.669993</td>\n",
       "      <td>17.729999</td>\n",
       "      <td>8.640000</td>\n",
       "      <td>25.349999</td>\n",
       "      <td>378.209993</td>\n",
       "      <td>993.779983</td>\n",
       "      <td>654.089992</td>\n",
       "    </tr>\n",
       "  </tbody>\n",
       "</table>\n",
       "<p>5 rows × 1686 columns</p>\n",
       "</div>"
      ],
      "text/plain": [
       "                    888706800   888793200   888879600   888966000   \\\n",
       "latitude longitude                                                   \n",
       "7.625    64.875       0.270000        0.09    0.000000    0.420000   \n",
       "         67.375       0.030000       10.08    0.000000    2.430000   \n",
       "         69.875      20.159999        4.56    0.000000   64.409999   \n",
       "         72.375       4.020000        0.09    8.430000  109.139997   \n",
       "         74.875       2.160000        0.00   22.559999   66.629998   \n",
       "\n",
       "                    889052400   889138800   889225200   889311600   \\\n",
       "latitude longitude                                                   \n",
       "7.625    64.875       0.000000   13.020000        0.00   27.119999   \n",
       "         67.375       0.000000   26.460000        0.03    3.480000   \n",
       "         69.875       0.000000   13.589999        0.00    4.110000   \n",
       "         72.375      16.920000  115.829996        0.00    0.570000   \n",
       "         74.875      70.619998   41.849998        0.00    0.000000   \n",
       "\n",
       "                    889398000   889484400      ...      1464559200  \\\n",
       "latitude longitude                             ...                   \n",
       "7.625    64.875           0.12        0.00     ...        5.100000   \n",
       "         67.375           0.00        0.03     ...       13.530000   \n",
       "         69.875           0.00        0.72     ...       22.049999   \n",
       "         72.375           0.00        0.00     ...      124.049998   \n",
       "         74.875           0.00        6.99     ...      954.419981   \n",
       "\n",
       "                    1464645600  1464732000  1464818400  1464904800  \\\n",
       "latitude longitude                                                   \n",
       "7.625    64.875       0.690000    0.000000    7.860000   25.740000   \n",
       "         67.375      15.179999    5.580000   16.470000    6.300000   \n",
       "         69.875      42.659998    6.240000   12.720000    8.430000   \n",
       "         72.375     221.759995  114.899997   47.969998   10.860000   \n",
       "         74.875     283.559996  316.319993  284.669993   17.729999   \n",
       "\n",
       "                    1464991200  1465077600  1465164000  1465250400  1465336800  \n",
       "latitude longitude                                                              \n",
       "7.625    64.875      74.249999  144.929998   22.379999   40.859999   68.339998  \n",
       "         67.375     306.179991  507.419988   47.939998  137.639995   74.099997  \n",
       "         69.875     174.779995  420.749989  110.939996   86.219996   43.709999  \n",
       "         72.375       7.590000  191.699994  823.379981  190.739997  152.999996  \n",
       "         74.875       8.640000   25.349999  378.209993  993.779983  654.089992  \n",
       "\n",
       "[5 rows x 1686 columns]"
      ]
     },
     "execution_count": 7,
     "metadata": {},
     "output_type": "execute_result"
    }
   ],
   "source": [
    "df.head()"
   ]
  },
  {
   "cell_type": "markdown",
   "metadata": {},
   "source": [
    "## Train / Dev / Test"
   ]
  },
  {
   "cell_type": "code",
   "execution_count": 9,
   "metadata": {},
   "outputs": [
    {
     "ename": "ValueError",
     "evalue": "too many values to unpack (expected 3)",
     "output_type": "error",
     "traceback": [
      "\u001b[1;31m---------------------------------------------------------------------------\u001b[0m",
      "\u001b[1;31mValueError\u001b[0m                                Traceback (most recent call last)",
      "\u001b[1;32m<ipython-input-9-5dc85912f49d>\u001b[0m in \u001b[0;36m<module>\u001b[1;34m()\u001b[0m\n\u001b[0;32m      2\u001b[0m \u001b[0mYEARS_TEST\u001b[0m \u001b[1;33m=\u001b[0m \u001b[0mrange\u001b[0m\u001b[1;33m(\u001b[0m\u001b[1;36m2015\u001b[0m\u001b[1;33m,\u001b[0m \u001b[1;36m2017\u001b[0m\u001b[1;33m)\u001b[0m\u001b[1;33m\u001b[0m\u001b[0m\n\u001b[0;32m      3\u001b[0m \u001b[1;33m\u001b[0m\u001b[0m\n\u001b[1;32m----> 4\u001b[1;33m \u001b[0mtrain\u001b[0m\u001b[1;33m,\u001b[0m \u001b[0mtest\u001b[0m\u001b[1;33m,\u001b[0m \u001b[0mdev\u001b[0m \u001b[1;33m=\u001b[0m \u001b[0mBASE_MODEL\u001b[0m\u001b[1;33m.\u001b[0m\u001b[0mtrain_test_split\u001b[0m\u001b[1;33m(\u001b[0m\u001b[0mdf\u001b[0m\u001b[1;33m,\u001b[0m \u001b[1;32mNone\u001b[0m\u001b[1;33m,\u001b[0m \u001b[0monset_ts\u001b[0m\u001b[1;33m,\u001b[0m \u001b[0myears_train\u001b[0m\u001b[1;33m=\u001b[0m\u001b[0mYEARS_TRAIN\u001b[0m\u001b[1;33m,\u001b[0m \u001b[0myears_test\u001b[0m\u001b[1;33m=\u001b[0m\u001b[0mYEARS_TEST\u001b[0m\u001b[1;33m)\u001b[0m\u001b[1;33m\u001b[0m\u001b[0m\n\u001b[0m",
      "\u001b[1;31mValueError\u001b[0m: too many values to unpack (expected 3)"
     ]
    }
   ],
   "source": [
    "YEARS_TRAIN = range(1998, 2015)\n",
    "YEARS_TEST = range(2015, 2017)\n",
    "\n",
    "X_train, X_test, y_train, y_test = BASE_MODEL.train_test_split(df, None, onset_ts, years_train=YEARS_TRAIN, years_test=YEARS_TEST)"
   ]
  },
  {
   "cell_type": "code",
   "execution_count": null,
   "metadata": {},
   "outputs": [],
   "source": [
    "test[2015]"
   ]
  },
  {
   "cell_type": "code",
   "execution_count": null,
   "metadata": {},
   "outputs": [],
   "source": [
    "X_train = [train[year][0] for year in YEARS_TRAIN]\n",
    "X_test = [test[year][0] for year in YEARS_TEST]\n",
    "\n",
    "y_train = np.concatenate([train[year][1] for year in YEARS_TRAIN])\n",
    "y_test = np.concatenate([test[year][1] for year in YEARS_TEST])\n",
    "\n",
    "X_train[0].shape"
   ]
  },
  {
   "cell_type": "markdown",
   "metadata": {},
   "source": [
    "## Sequence preprocessing"
   ]
  },
  {
   "cell_type": "code",
   "execution_count": null,
   "metadata": {
    "collapsed": true
   },
   "outputs": [],
   "source": [
    "X_train_full = BASE_MODEL.concatenate_matrices(X_train)\n",
    "X_test_full = BASE_MODEL.concatenate_matrices(X_test)"
   ]
  },
  {
   "cell_type": "code",
   "execution_count": null,
   "metadata": {},
   "outputs": [],
   "source": [
    "X_train_full"
   ]
  },
  {
   "cell_type": "code",
   "execution_count": null,
   "metadata": {},
   "outputs": [],
   "source": [
    "X_train_full.shape"
   ]
  },
  {
   "cell_type": "markdown",
   "metadata": {},
   "source": [
    "## Building a model"
   ]
  },
  {
   "cell_type": "code",
   "execution_count": null,
   "metadata": {},
   "outputs": [],
   "source": [
    "dense_model = BASE_MODEL.build_dense_net(X_train_full, y_train, epochs=100)"
   ]
  },
  {
   "cell_type": "code",
   "execution_count": null,
   "metadata": {
    "collapsed": true
   },
   "outputs": [],
   "source": [
    "dense_pred = dense_model.predict(X_test_full)"
   ]
  },
  {
   "cell_type": "code",
   "execution_count": null,
   "metadata": {},
   "outputs": [],
   "source": [
    "dense_pred[:10]"
   ]
  },
  {
   "cell_type": "markdown",
   "metadata": {
    "collapsed": true
   },
   "source": [
    "## LSTM"
   ]
  },
  {
   "cell_type": "code",
   "execution_count": null,
   "metadata": {},
   "outputs": [],
   "source": [
    "lstm_model = BASE_MODEL.build_lstm_net(X_train_full, y_train, epochs=5000)"
   ]
  },
  {
   "cell_type": "code",
   "execution_count": null,
   "metadata": {
    "collapsed": true
   },
   "outputs": [],
   "source": [
    "X_test_reshaped = np.hstack(X_test_full).reshape(len(X_test_full), 1, 130)\n",
    "lstm_pred = lstm_model.predict(X_test_reshaped)"
   ]
  },
  {
   "cell_type": "code",
   "execution_count": null,
   "metadata": {},
   "outputs": [],
   "source": [
    "lstm_pred[:10]"
   ]
  },
  {
   "cell_type": "code",
   "execution_count": null,
   "metadata": {},
   "outputs": [],
   "source": [
    "y_test[:10]"
   ]
  },
  {
   "cell_type": "code",
   "execution_count": null,
   "metadata": {
    "collapsed": true
   },
   "outputs": [],
   "source": []
  }
 ],
 "metadata": {
  "kernelspec": {
   "display_name": "Python 3",
   "language": "python",
   "name": "python3"
  },
  "language_info": {
   "codemirror_mode": {
    "name": "ipython",
    "version": 3
   },
   "file_extension": ".py",
   "mimetype": "text/x-python",
   "name": "python",
   "nbconvert_exporter": "python",
   "pygments_lexer": "ipython3",
   "version": "3.6.3"
  }
 },
 "nbformat": 4,
 "nbformat_minor": 2
}
