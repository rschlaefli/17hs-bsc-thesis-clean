{
 "cells": [
  {
   "cell_type": "markdown",
   "metadata": {},
   "source": [
    "# TRMM"
   ]
  },
  {
   "cell_type": "markdown",
   "metadata": {},
   "source": [
    "The dataset used in this notebook is TRMM with daily values (from NASA). The data comes in separate files for each day and thus needs to be concatenated before processing.\n",
    "\n",
    "Using the filter available on https://disc.gsfc.nasa.gov/SSW/#keywords=TRMM_3B42_Daily%207, the relevant geographical area can be extracted and the daily files downloaded. For the area, paste **5.125,62.375,39.875,97.125** to extract the exact spatial region used in the V. Stolbovas PhD thesis. For the variables, check only **precipitation** and subset the dataset.\n",
    "\n",
    "If logged in with the earthdata account, the dataset can then be downloaded. Login can be found at https://urs.earthdata.nasa.gov/.\n",
    "\n",
    "**Resources**\n",
    "\n",
    "- Official TRMM README\n",
    "- https://disc.gsfc.nasa.gov/datasets/TRMM_3B42_Daily_7/summary\n",
    "- https://disc.gsfc.nasa.gov/SSW/#keywords=TRMM_3B42_Daily%207\n",
    "- https://disc2.gesdisc.eosdis.nasa.gov/opendap/TRMM_L3/TRMM_3B42_Daily.7/\n",
    "- https://disc.gsfc.nasa.gov/SSW/SSW_URL_List_Downloading_Instructions.html\n",
    "- https://wiki.earthdata.nasa.gov/display/HDD/Wget+with+URS+Authentication#WgetwithURSAuthentication-Step-by-stepguide\n",
    "\n",
    "**Citation**\n",
    "\n",
    "Goddard Earth Sciences Data and Information Services Center(2016), TRMM (TMPA) Precipitation L3 1 day 0.25 degree x 0.25 degree V7, , Goddard Earth Sciences Data and Information Services Center (GES DISC), Accessed [21.08.2017] https://disc.gsfc.nasa.gov/datacollection/TRMM_3B42_Daily_7.html\n",
    "\n",
    "\n",
    "61.75,4.5,97.75,40.5\n",
    "- https://giovanni.gsfc.nasa.gov/giovanni/#service=TmAvMp&starttime=1997-12-31T00:00:00Z&endtime=2017-09-29T23:59:59Z&bbox=61.75,4.5,97.75,40.5&data=TRMM_3B42_Daily_7_precipitation&dataKeyword=trmm\n",
    "- https://disc.sci.gsfc.nasa.gov/datasets?page=1&keywords=TRMM%203B42&start=1920-01-01&end=2016-06-27\n",
    "- https://disc.sci.gsfc.nasa.gov/data-access"
   ]
  },
  {
   "cell_type": "markdown",
   "metadata": {},
   "source": [
    "## Dependencies\n",
    "\n",
    "To get all the dependencies needed for this project, import the corresponding conda environment file:\n",
    "- **conda-gpu.env** for Tensorflow with GPU support\n",
    "- **conda.env** for Tensorflow without GPU support"
   ]
  },
  {
   "cell_type": "code",
   "execution_count": 1,
   "metadata": {},
   "outputs": [
    {
     "data": {
      "text/html": [
       "<script>requirejs.config({paths: { 'plotly': ['https://cdn.plot.ly/plotly-latest.min']},});if(!window.Plotly) {{require(['plotly'],function(plotly) {window.Plotly=plotly;});}}</script>"
      ],
      "text/vnd.plotly.v1+html": [
       "<script>requirejs.config({paths: { 'plotly': ['https://cdn.plot.ly/plotly-latest.min']},});if(!window.Plotly) {{require(['plotly'],function(plotly) {window.Plotly=plotly;});}}</script>"
      ]
     },
     "metadata": {},
     "output_type": "display_data"
    }
   ],
   "source": [
    "# statistical libraries\n",
    "import numpy as np\n",
    "import pandas as pd\n",
    "import seaborn as sns\n",
    "import networkx as nx\n",
    "\n",
    "# visualization libraries\n",
    "import matplotlib.pyplot as plt\n",
    "from matplotlib import cm\n",
    "import plotly\n",
    "import plotly.plotly as py\n",
    "from plotly.graph_objs import Scatter, Layout\n",
    "import cartopy.crs as ccrs\n",
    "\n",
    "# import own library functionality\n",
    "import paths\n",
    "from TRMM import TRMM\n",
    "from Visualization import Visualization\n",
    "\n",
    "# force autoreload of external modules on save\n",
    "%load_ext autoreload\n",
    "%autoreload 2\n",
    "%matplotlib inline\n",
    "plotly.offline.init_notebook_mode(connected=True)"
   ]
  },
  {
   "cell_type": "markdown",
   "metadata": {},
   "source": [
    "## Load the dataset"
   ]
  },
  {
   "cell_type": "code",
   "execution_count": 2,
   "metadata": {},
   "outputs": [],
   "source": [
    "# how many years to load data for\n",
    "# cannot yet use 2017 as the data for december is not complete\n",
    "# TODO: extend with 2018 as soon as data is available\n",
    "YEARS = range(1998, 2017)\n",
    "\n",
    "# pre-monsoon period\n",
    "MAM = [3, 4, 5]\n",
    "\n",
    "# monsoon period\n",
    "JJAS = [6, 7, 8, 9]\n",
    "\n",
    "# post-monsoon period\n",
    "OND = [10, 11, 12]\n",
    "\n",
    "# run the aggregation algorithm over the dataframes?\n",
    "# the resulting dataframe would be exorbitantly big otherwise\n",
    "AGGREGATION_RESOLUTION = 0.75"
   ]
  },
  {
   "cell_type": "code",
   "execution_count": 4,
   "metadata": {
    "scrolled": false
   },
   "outputs": [
    {
     "name": "stdout",
     "output_type": "stream",
     "text": [
      "> Processing: Failure for 1998-04-31 at 00_DATA/TRMM/3B42_Daily.19980431_v3.trmm\n",
      "1998 Failure for 1999-04-31 at 00_DATA/TRMM/3B42_Daily.19990431_v3.trmm\n",
      "1999 Failure for 2000-04-31 at 00_DATA/TRMM/3B42_Daily.20000431_v3.trmm\n",
      "2000 Failure for 2001-04-31 at 00_DATA/TRMM/3B42_Daily.20010431_v3.trmm\n",
      "2001 Failure for 2002-04-31 at 00_DATA/TRMM/3B42_Daily.20020431_v3.trmm\n",
      "2002 Failure for 2003-04-31 at 00_DATA/TRMM/3B42_Daily.20030431_v3.trmm\n",
      "2003 Failure for 2004-04-31 at 00_DATA/TRMM/3B42_Daily.20040431_v3.trmm\n",
      "2004 Failure for 2005-04-31 at 00_DATA/TRMM/3B42_Daily.20050431_v3.trmm\n",
      "2005 Failure for 2006-04-31 at 00_DATA/TRMM/3B42_Daily.20060431_v3.trmm\n",
      "2006 Failure for 2007-04-31 at 00_DATA/TRMM/3B42_Daily.20070431_v3.trmm\n",
      "2007 Failure for 2008-04-31 at 00_DATA/TRMM/3B42_Daily.20080431_v3.trmm\n",
      "2008 Failure for 2009-04-31 at 00_DATA/TRMM/3B42_Daily.20090431_v3.trmm\n",
      "2009 Failure for 2010-04-31 at 00_DATA/TRMM/3B42_Daily.20100431_v3.trmm\n",
      "2010 Failure for 2011-04-31 at 00_DATA/TRMM/3B42_Daily.20110431_v3.trmm\n",
      "2011 Failure for 2012-04-31 at 00_DATA/TRMM/3B42_Daily.20120431_v3.trmm\n",
      "2012 Failure for 2013-04-31 at 00_DATA/TRMM/3B42_Daily.20130431_v3.trmm\n",
      "2013 Failure for 2014-04-31 at 00_DATA/TRMM/3B42_Daily.20140431_v3.trmm\n",
      "2014 Failure for 2015-04-31 at 00_DATA/TRMM/3B42_Daily.20150431_v3.trmm\n",
      "2015 Failure for 2016-04-31 at 00_DATA/TRMM/3B42_Daily.20160431_v3.trmm\n",
      "2016 "
     ]
    }
   ],
   "source": [
    "# load data for the pre-monsoon period (MAM)\n",
    "\n",
    "mam_df = TRMM.load_dataset(\n",
    "    YEARS,\n",
    "    MAM,\n",
    "    aggregation_resolution=AGGREGATION_RESOLUTION,\n",
    "    timestamp=True,\n",
    "    invalidate=False,\n",
    "    lon_slice=slice(61.125, 97.625),\n",
    "    lat_slice=slice(4.125, 40.625),\n",
    "    version='v3')"
   ]
  },
  {
   "cell_type": "code",
   "execution_count": 5,
   "metadata": {
    "scrolled": false
   },
   "outputs": [
    {
     "name": "stdout",
     "output_type": "stream",
     "text": [
      "> Processing: Failure for 1998-06-31 at 00_DATA/TRMM/3B42_Daily.19980631_v3.trmm\n",
      "Failure for 1998-09-31 at 00_DATA/TRMM/3B42_Daily.19980931_v3.trmm\n",
      "1998 Failure for 1999-06-31 at 00_DATA/TRMM/3B42_Daily.19990631_v3.trmm\n",
      "Failure for 1999-09-31 at 00_DATA/TRMM/3B42_Daily.19990931_v3.trmm\n",
      "1999 Failure for 2000-06-31 at 00_DATA/TRMM/3B42_Daily.20000631_v3.trmm\n",
      "Failure for 2000-09-31 at 00_DATA/TRMM/3B42_Daily.20000931_v3.trmm\n",
      "2000 Failure for 2001-06-31 at 00_DATA/TRMM/3B42_Daily.20010631_v3.trmm\n",
      "Failure for 2001-09-31 at 00_DATA/TRMM/3B42_Daily.20010931_v3.trmm\n",
      "2001 Failure for 2002-06-31 at 00_DATA/TRMM/3B42_Daily.20020631_v3.trmm\n",
      "Failure for 2002-09-31 at 00_DATA/TRMM/3B42_Daily.20020931_v3.trmm\n",
      "2002 Failure for 2003-06-31 at 00_DATA/TRMM/3B42_Daily.20030631_v3.trmm\n",
      "Failure for 2003-09-31 at 00_DATA/TRMM/3B42_Daily.20030931_v3.trmm\n",
      "2003 Failure for 2004-06-31 at 00_DATA/TRMM/3B42_Daily.20040631_v3.trmm\n",
      "Failure for 2004-09-31 at 00_DATA/TRMM/3B42_Daily.20040931_v3.trmm\n",
      "2004 Failure for 2005-06-31 at 00_DATA/TRMM/3B42_Daily.20050631_v3.trmm\n",
      "Failure for 2005-09-31 at 00_DATA/TRMM/3B42_Daily.20050931_v3.trmm\n",
      "2005 Failure for 2006-06-31 at 00_DATA/TRMM/3B42_Daily.20060631_v3.trmm\n",
      "Failure for 2006-09-31 at 00_DATA/TRMM/3B42_Daily.20060931_v3.trmm\n",
      "2006 Failure for 2007-06-31 at 00_DATA/TRMM/3B42_Daily.20070631_v3.trmm\n",
      "Failure for 2007-09-31 at 00_DATA/TRMM/3B42_Daily.20070931_v3.trmm\n",
      "2007 Failure for 2008-06-31 at 00_DATA/TRMM/3B42_Daily.20080631_v3.trmm\n",
      "Failure for 2008-09-31 at 00_DATA/TRMM/3B42_Daily.20080931_v3.trmm\n",
      "2008 Failure for 2009-06-31 at 00_DATA/TRMM/3B42_Daily.20090631_v3.trmm\n",
      "Failure for 2009-09-31 at 00_DATA/TRMM/3B42_Daily.20090931_v3.trmm\n",
      "2009 Failure for 2010-06-31 at 00_DATA/TRMM/3B42_Daily.20100631_v3.trmm\n",
      "Failure for 2010-09-31 at 00_DATA/TRMM/3B42_Daily.20100931_v3.trmm\n",
      "2010 Failure for 2011-06-31 at 00_DATA/TRMM/3B42_Daily.20110631_v3.trmm\n",
      "Failure for 2011-09-31 at 00_DATA/TRMM/3B42_Daily.20110931_v3.trmm\n",
      "2011 Failure for 2012-06-31 at 00_DATA/TRMM/3B42_Daily.20120631_v3.trmm\n",
      "Failure for 2012-09-31 at 00_DATA/TRMM/3B42_Daily.20120931_v3.trmm\n",
      "2012 Failure for 2013-06-31 at 00_DATA/TRMM/3B42_Daily.20130631_v3.trmm\n",
      "Failure for 2013-09-31 at 00_DATA/TRMM/3B42_Daily.20130931_v3.trmm\n",
      "2013 Failure for 2014-06-31 at 00_DATA/TRMM/3B42_Daily.20140631_v3.trmm\n",
      "Failure for 2014-09-31 at 00_DATA/TRMM/3B42_Daily.20140931_v3.trmm\n",
      "2014 Failure for 2015-06-31 at 00_DATA/TRMM/3B42_Daily.20150631_v3.trmm\n",
      "Failure for 2015-09-31 at 00_DATA/TRMM/3B42_Daily.20150931_v3.trmm\n",
      "2015 Failure for 2016-06-31 at 00_DATA/TRMM/3B42_Daily.20160631_v3.trmm\n",
      "Failure for 2016-09-31 at 00_DATA/TRMM/3B42_Daily.20160931_v3.trmm\n",
      "2016 "
     ]
    }
   ],
   "source": [
    "# load data for the monsoon period (JJAS)\n",
    "\n",
    "jjas_df = TRMM.load_dataset(\n",
    "    YEARS,\n",
    "    JJAS,\n",
    "    aggregation_resolution=AGGREGATION_RESOLUTION,\n",
    "    timestamp=True,\n",
    "    invalidate=False,\n",
    "    lon_slice=slice(61.125, 97.625),\n",
    "    lat_slice=slice(4.125, 40.625),\n",
    "    version='v3')"
   ]
  },
  {
   "cell_type": "code",
   "execution_count": 6,
   "metadata": {
    "scrolled": true
   },
   "outputs": [
    {
     "name": "stdout",
     "output_type": "stream",
     "text": [
      "> Processing: Failure for 1998-11-31 at 00_DATA/TRMM/3B42_Daily.19981131_v3.trmm\n",
      "1998 Failure for 1999-11-31 at 00_DATA/TRMM/3B42_Daily.19991131_v3.trmm\n",
      "1999 Failure for 2000-11-31 at 00_DATA/TRMM/3B42_Daily.20001131_v3.trmm\n",
      "2000 Failure for 2001-11-31 at 00_DATA/TRMM/3B42_Daily.20011131_v3.trmm\n",
      "2001 Failure for 2002-11-31 at 00_DATA/TRMM/3B42_Daily.20021131_v3.trmm\n",
      "2002 Failure for 2003-11-31 at 00_DATA/TRMM/3B42_Daily.20031131_v3.trmm\n",
      "2003 Failure for 2004-11-31 at 00_DATA/TRMM/3B42_Daily.20041131_v3.trmm\n",
      "2004 Failure for 2005-11-31 at 00_DATA/TRMM/3B42_Daily.20051131_v3.trmm\n",
      "2005 Failure for 2006-11-31 at 00_DATA/TRMM/3B42_Daily.20061131_v3.trmm\n",
      "2006 Failure for 2007-11-31 at 00_DATA/TRMM/3B42_Daily.20071131_v3.trmm\n",
      "2007 Failure for 2008-11-31 at 00_DATA/TRMM/3B42_Daily.20081131_v3.trmm\n",
      "2008 Failure for 2009-11-31 at 00_DATA/TRMM/3B42_Daily.20091131_v3.trmm\n",
      "2009 Failure for 2010-11-31 at 00_DATA/TRMM/3B42_Daily.20101131_v3.trmm\n",
      "2010 Failure for 2011-11-31 at 00_DATA/TRMM/3B42_Daily.20111131_v3.trmm\n",
      "2011 Failure for 2012-11-31 at 00_DATA/TRMM/3B42_Daily.20121131_v3.trmm\n",
      "2012 Failure for 2013-11-31 at 00_DATA/TRMM/3B42_Daily.20131131_v3.trmm\n",
      "2013 Failure for 2014-11-31 at 00_DATA/TRMM/3B42_Daily.20141131_v3.trmm\n",
      "2014 Failure for 2015-11-31 at 00_DATA/TRMM/3B42_Daily.20151131_v3.trmm\n",
      "2015 Failure for 2016-11-31 at 00_DATA/TRMM/3B42_Daily.20161131_v3.trmm\n",
      "2016 "
     ]
    }
   ],
   "source": [
    "# load data for the post-monsoon period (OND)\n",
    "\n",
    "ond_df = TRMM.load_dataset(\n",
    "    YEARS,\n",
    "    OND,\n",
    "    aggregation_resolution=AGGREGATION_RESOLUTION,\n",
    "    timestamp=True,\n",
    "    invalidate=False,\n",
    "    lon_slice=slice(61.125, 97.625),\n",
    "    lat_slice=slice(4.125, 40.625),\n",
    "    version='v3')"
   ]
  },
  {
   "cell_type": "markdown",
   "metadata": {},
   "source": [
    "## Exploratory Data Analysis"
   ]
  },
  {
   "cell_type": "code",
   "execution_count": null,
   "metadata": {},
   "outputs": [],
   "source": [
    "important_locations = mam_df.loc[[(13.375, 67.375), (16.375, 91.375), (34.375, 88.375), (34.375, 67.375)]]\n",
    "important_locations"
   ]
  },
  {
   "cell_type": "code",
   "execution_count": null,
   "metadata": {},
   "outputs": [],
   "source": [
    "important_quantiles = important_locations.quantile(0.9, axis=1)\n",
    "important_quantiles"
   ]
  },
  {
   "cell_type": "code",
   "execution_count": null,
   "metadata": {},
   "outputs": [],
   "source": [
    "important_ee = TRMM.extract_extreme_events(important_locations, quantile=0.9)\n",
    "important_ee.iloc[3][important_ee.iloc[3] == True]"
   ]
  },
  {
   "cell_type": "code",
   "execution_count": null,
   "metadata": {},
   "outputs": [],
   "source": [
    "888883200, 890179200, 891129600, 891216000, 891302400, 891388800, 891475200, 891561600, 891734400, 891907200, 892080000, 892944000, 893203200"
   ]
  },
  {
   "cell_type": "markdown",
   "metadata": {},
   "source": [
    "### Pre-Monsoon (MAM)"
   ]
  },
  {
   "cell_type": "code",
   "execution_count": null,
   "metadata": {},
   "outputs": [],
   "source": [
    "mam_df.info()"
   ]
  },
  {
   "cell_type": "code",
   "execution_count": null,
   "metadata": {},
   "outputs": [],
   "source": [
    "mam_df.tail()"
   ]
  },
  {
   "cell_type": "code",
   "execution_count": null,
   "metadata": {},
   "outputs": [],
   "source": [
    "mam_df.unstack(-1).iloc[:5, :5]"
   ]
  },
  {
   "cell_type": "code",
   "execution_count": null,
   "metadata": {},
   "outputs": [],
   "source": [
    "mam_df.iloc[0].quantile(0.9)"
   ]
  },
  {
   "cell_type": "markdown",
   "metadata": {},
   "source": [
    "### Monsoon (JJAS)"
   ]
  },
  {
   "cell_type": "code",
   "execution_count": null,
   "metadata": {},
   "outputs": [],
   "source": [
    "jjas_df.tail()"
   ]
  },
  {
   "cell_type": "code",
   "execution_count": null,
   "metadata": {},
   "outputs": [],
   "source": [
    "jjas_df.unstack(-1).iloc[:5, :5]"
   ]
  },
  {
   "cell_type": "code",
   "execution_count": null,
   "metadata": {},
   "outputs": [],
   "source": [
    "jjas_df.iloc[0].quantile(0.9)"
   ]
  },
  {
   "cell_type": "markdown",
   "metadata": {},
   "source": [
    "### Post-Monsoon (OND)"
   ]
  },
  {
   "cell_type": "code",
   "execution_count": null,
   "metadata": {},
   "outputs": [],
   "source": [
    "ond_df.tail()"
   ]
  },
  {
   "cell_type": "code",
   "execution_count": null,
   "metadata": {},
   "outputs": [],
   "source": [
    "ond_df.unstack(-1).iloc[:5, :5]"
   ]
  },
  {
   "cell_type": "code",
   "execution_count": null,
   "metadata": {},
   "outputs": [],
   "source": [
    "ond_df.iloc[0].quantile(0.9)"
   ]
  },
  {
   "cell_type": "markdown",
   "metadata": {},
   "source": [
    "## Extraction of Extreme Events\n",
    "\n",
    "Events are regarded as extreme events if they fall above the 90% quantile of the entire time-series."
   ]
  },
  {
   "cell_type": "code",
   "execution_count": null,
   "metadata": {},
   "outputs": [],
   "source": [
    "EE_QUANTILE = 0.9"
   ]
  },
  {
   "cell_type": "markdown",
   "metadata": {},
   "source": [
    "### Pre-Monsoon (MAM)"
   ]
  },
  {
   "cell_type": "code",
   "execution_count": null,
   "metadata": {},
   "outputs": [],
   "source": [
    "# extract extreme events from the dataset\n",
    "# results in a matrix of boolean values for Extreme/Non-Extreme\n",
    "\n",
    "mam_extreme_events = TRMM.extract_extreme_events(mam_df, quantile=EE_QUANTILE)\n",
    "mam_extreme_events.head()"
   ]
  },
  {
   "cell_type": "code",
   "execution_count": null,
   "metadata": {},
   "outputs": [],
   "source": [
    "# print only the events that are extreme for the very first row\n",
    "\n",
    "mam_extreme_events.iloc[0][mam_extreme_events.iloc[0]].head()"
   ]
  },
  {
   "cell_type": "markdown",
   "metadata": {},
   "source": [
    "### Monsoon (JJAS)"
   ]
  },
  {
   "cell_type": "code",
   "execution_count": null,
   "metadata": {},
   "outputs": [],
   "source": [
    "# calculate extreme events for JJAS\n",
    "\n",
    "jjas_extreme_events = TRMM.extract_extreme_events(jjas_df, quantile=EE_QUANTILE)\n",
    "jjas_extreme_events.head()"
   ]
  },
  {
   "cell_type": "code",
   "execution_count": null,
   "metadata": {},
   "outputs": [],
   "source": [
    "# print only the events that are extreme for the very first row\n",
    "\n",
    "jjas_extreme_events.iloc[0][jjas_extreme_events.iloc[0]].head()"
   ]
  },
  {
   "cell_type": "markdown",
   "metadata": {},
   "source": [
    "### Post-Monsoon (OND)"
   ]
  },
  {
   "cell_type": "code",
   "execution_count": null,
   "metadata": {},
   "outputs": [],
   "source": [
    "# calculate extreme events for OND\n",
    "\n",
    "ond_extreme_events = TRMM.extract_extreme_events(ond_df, quantile=EE_QUANTILE)\n",
    "ond_extreme_events.head()"
   ]
  },
  {
   "cell_type": "code",
   "execution_count": null,
   "metadata": {},
   "outputs": [],
   "source": [
    "# print only the events that are extreme for the very first row\n",
    "ond_extreme_events.iloc[0][ond_extreme_events.iloc[0]].head()"
   ]
  },
  {
   "cell_type": "markdown",
   "metadata": {},
   "source": [
    "## Calculating Event Synchronization\n",
    "\n",
    "For each pair of grid cells, the level of synchronization in extreme events should be calculated."
   ]
  },
  {
   "cell_type": "markdown",
   "metadata": {},
   "source": [
    "### Pre-Monsoon (MAM)"
   ]
  },
  {
   "cell_type": "code",
   "execution_count": null,
   "metadata": {},
   "outputs": [],
   "source": [
    "# calculate the synchronization matrix\n",
    "\n",
    "mam_sync_matrix, mam_count_matrix, mam_runtime = TRMM.parallel_calculate_sync_matrix(mam_extreme_events, f'MAM-{EE_QUANTILE}')\n",
    "mam_sync_matrix.iloc[:5, :5]"
   ]
  },
  {
   "cell_type": "code",
   "execution_count": null,
   "metadata": {
    "scrolled": false
   },
   "outputs": [],
   "source": [
    "mam_sync_matrix.isna().sum().sum()"
   ]
  },
  {
   "cell_type": "code",
   "execution_count": null,
   "metadata": {},
   "outputs": [],
   "source": [
    "mam_sync_matrix.info()"
   ]
  },
  {
   "cell_type": "code",
   "execution_count": null,
   "metadata": {},
   "outputs": [],
   "source": [
    "example_matrix = mam_sync_matrix.iloc[:15, :15].copy()\n",
    "\n",
    "fig = plt.figure(figsize=(12, 12))\n",
    "# cbar_kws=dict(fraction=0.046, pad=0.04, label='Strength of synchronization')\n",
    "ax = sns.heatmap(example_matrix, square=True, annot=True, cbar=False, linewidths=3)\n",
    "\n",
    "ax.set_ylabel('Latitude-Longitude', size=20, labelpad=15)\n",
    "ax.set_xlabel('Latitude-Longitude', size=20, labelpad=15)\n",
    "ax.set_xmargin(0)\n",
    "ax.set_ymargin(0)\n",
    "plt.xticks(fontsize=14, rotation=60)\n",
    "plt.yticks(fontsize=14, rotation=0)\n",
    "ax.autoscale_view()\n",
    "ttl = ax.set_title('Section of a TRMM synchronization matrix at 0.75° resolution', size=20)\n",
    "ttl.set_position([0.5, 1.02])\n",
    "plt.tight_layout()\n",
    "plt.savefig('output/trmm_sync_example.png', bbox_inches='tight')"
   ]
  },
  {
   "cell_type": "code",
   "execution_count": null,
   "metadata": {},
   "outputs": [],
   "source": [
    "np.fill_diagonal(example_matrix.values, np.nan)\n",
    "gt = np.nanpercentile(example_matrix, 80)\n",
    "gt"
   ]
  },
  {
   "cell_type": "code",
   "execution_count": null,
   "metadata": {},
   "outputs": [],
   "source": [
    "np.fill_diagonal(example_matrix.values, 0)\n",
    "example_matrix[example_matrix < gt] = 0\n",
    "example_matrix[example_matrix >= gt] = 1"
   ]
  },
  {
   "cell_type": "code",
   "execution_count": null,
   "metadata": {},
   "outputs": [],
   "source": [
    "fig = plt.figure(figsize=(12, 12))\n",
    "# cbar_kws=dict(fraction=0.046, pad=0.04, label='Strength of synchronization')\n",
    "ax = sns.heatmap(example_matrix, square=True, annot=True, cbar=False, linewidths=3, cmap='binary')\n",
    "ax.set_ylabel('Latitude-Longitude', size=20, labelpad=15)\n",
    "ax.set_xlabel('Latitude-Longitude', size=20, labelpad=15)\n",
    "ax.set_xmargin(0)\n",
    "ax.set_ymargin(0)\n",
    "plt.xticks(fontsize=14, rotation=60)\n",
    "plt.yticks(fontsize=14, rotation=0)\n",
    "ax.autoscale_view()\n",
    "ttl = ax.set_title('Section of a TRMM adjacency matrix at 0.75° resolution', size=20)\n",
    "ttl.set_position([0.5, 1.02])\n",
    "plt.tight_layout()\n",
    "\n",
    "plt.savefig('output/trmm_adjacency_example.png', bbox_inches='tight')"
   ]
  },
  {
   "cell_type": "markdown",
   "metadata": {},
   "source": [
    "### Monsoon (JJAS)"
   ]
  },
  {
   "cell_type": "code",
   "execution_count": null,
   "metadata": {},
   "outputs": [],
   "source": [
    "# calculate sync and count matrices for JJAS\n",
    "\n",
    "jjas_sync_matrix, jjas_count_matrix, jjas_runtime = TRMM.calculate_sync_matrix(jjas_extreme_events, f'JJAS-{EE_QUANTILE}')\n",
    "jjas_sync_matrix.iloc[:5, :5]"
   ]
  },
  {
   "cell_type": "code",
   "execution_count": null,
   "metadata": {},
   "outputs": [],
   "source": [
    "jjas_sync_matrix.isna().sum().sum()"
   ]
  },
  {
   "cell_type": "code",
   "execution_count": null,
   "metadata": {},
   "outputs": [],
   "source": [
    "fig = plt.figure(figsize=(15, 15))\n",
    "sns.heatmap(mam_sync_matrix - jjas_sync_matrix)"
   ]
  },
  {
   "cell_type": "markdown",
   "metadata": {},
   "source": [
    "### Post-Monsoon (OND)"
   ]
  },
  {
   "cell_type": "code",
   "execution_count": null,
   "metadata": {},
   "outputs": [],
   "source": [
    "# calculate sync and count matrices for OND\n",
    "\n",
    "ond_sync_matrix, ond_count_matrix, ond_runtime = TRMM.calculate_sync_matrix(ond_extreme_events, f'OND-{EE_QUANTILE}')\n",
    "ond_sync_matrix.iloc[:5, :5]"
   ]
  },
  {
   "cell_type": "code",
   "execution_count": null,
   "metadata": {},
   "outputs": [],
   "source": [
    "ond_sync_matrix.isna().sum().sum()"
   ]
  },
  {
   "cell_type": "code",
   "execution_count": null,
   "metadata": {},
   "outputs": [],
   "source": [
    "sns.heatmap(jjas_sync_matrix - ond_sync_matrix)"
   ]
  },
  {
   "cell_type": "markdown",
   "metadata": {},
   "source": [
    "## Building a Climate Network\n",
    "\n",
    "Generate a graph representation from the above count matrix. Only draw edges for values above the specified quantile."
   ]
  },
  {
   "cell_type": "code",
   "execution_count": null,
   "metadata": {},
   "outputs": [],
   "source": [
    "NETWORK_QUANTILE = 0.9"
   ]
  },
  {
   "cell_type": "markdown",
   "metadata": {},
   "source": [
    "### Pre-Monsoon (MAM)"
   ]
  },
  {
   "cell_type": "code",
   "execution_count": null,
   "metadata": {},
   "outputs": [],
   "source": [
    "mam_graph_counts = TRMM.generate_graph(mam_count_matrix, quantile=NETWORK_QUANTILE)\n",
    "print(len(mam_graph_counts.nodes), len(mam_graph_counts.edges))\n",
    "print(np.mean([d['weight'] for (x, y, d) in mam_graph_counts.edges(data=True)]))"
   ]
  },
  {
   "cell_type": "code",
   "execution_count": null,
   "metadata": {},
   "outputs": [],
   "source": [
    "mam_graph_counts_w = TRMM.generate_graph(mam_count_matrix, quantile=NETWORK_QUANTILE, set_ge=None)\n",
    "print(len(mam_graph_counts_w.nodes), len(mam_graph_counts_w.edges))\n",
    "print(np.mean([d['weight'] for (x, y, d) in mam_graph_counts_w.edges(data=True)]))"
   ]
  },
  {
   "cell_type": "code",
   "execution_count": null,
   "metadata": {},
   "outputs": [],
   "source": [
    "mam_graph = TRMM.generate_graph(mam_sync_matrix, quantile=NETWORK_QUANTILE)\n",
    "print(len(mam_graph.nodes), len(mam_graph.edges))\n",
    "print(np.mean([d['weight'] for (x, y, d) in mam_graph.edges(data=True)]))"
   ]
  },
  {
   "cell_type": "code",
   "execution_count": null,
   "metadata": {},
   "outputs": [],
   "source": [
    "mam_graph_w = TRMM.generate_graph(mam_sync_matrix, quantile=NETWORK_QUANTILE, set_ge=None)\n",
    "print(len(mam_graph_w.nodes), len(mam_graph_w.edges))\n",
    "print(np.mean([d['weight'] for (x, y, d) in mam_graph_w.edges(data=True)]))"
   ]
  },
  {
   "cell_type": "code",
   "execution_count": null,
   "metadata": {},
   "outputs": [],
   "source": [
    "mam_cent_degree, mam_cent_between, mam_pagerank = TRMM.calculate_centrality(mam_graph)"
   ]
  },
  {
   "cell_type": "code",
   "execution_count": null,
   "metadata": {},
   "outputs": [],
   "source": [
    "mam_cent_degree_w, mam_cent_between_w, mam_pagerank_w = TRMM.calculate_centrality(mam_graph_w, weighted=True)"
   ]
  },
  {
   "cell_type": "markdown",
   "metadata": {},
   "source": [
    "#### Degree"
   ]
  },
  {
   "cell_type": "code",
   "execution_count": null,
   "metadata": {},
   "outputs": [],
   "source": [
    "mam_cent_degree.head(3)"
   ]
  },
  {
   "cell_type": "code",
   "execution_count": null,
   "metadata": {},
   "outputs": [],
   "source": [
    "mam_cent_degree_w.head(3)"
   ]
  },
  {
   "cell_type": "code",
   "execution_count": null,
   "metadata": {},
   "outputs": [],
   "source": [
    "mam_cent_degree.pivot(index='lat', columns='lon', values='val').iloc[:5, :5]"
   ]
  },
  {
   "cell_type": "code",
   "execution_count": null,
   "metadata": {},
   "outputs": [],
   "source": [
    "mam_cent_degree[['val', 'val_std']].describe()"
   ]
  },
  {
   "cell_type": "code",
   "execution_count": null,
   "metadata": {},
   "outputs": [],
   "source": [
    "sns.distplot(mam_cent_degree['val'], hist=False, color='r')\n",
    "sns.distplot(mam_cent_degree_w['val'], hist=False, color='b')"
   ]
  },
  {
   "cell_type": "markdown",
   "metadata": {},
   "source": [
    "#### Betweenness"
   ]
  },
  {
   "cell_type": "code",
   "execution_count": null,
   "metadata": {},
   "outputs": [],
   "source": [
    "mam_cent_between.head(3)"
   ]
  },
  {
   "cell_type": "code",
   "execution_count": null,
   "metadata": {},
   "outputs": [],
   "source": [
    "mam_cent_between_w.head(3)"
   ]
  },
  {
   "cell_type": "code",
   "execution_count": null,
   "metadata": {},
   "outputs": [],
   "source": [
    "sns.distplot(mam_cent_between['val'], hist=False, color='r')\n",
    "sns.distplot(mam_cent_between_w['val'], hist=False, color='b')"
   ]
  },
  {
   "cell_type": "markdown",
   "metadata": {},
   "source": [
    "#### PageRank"
   ]
  },
  {
   "cell_type": "code",
   "execution_count": null,
   "metadata": {},
   "outputs": [],
   "source": [
    "mam_pagerank.head(3)"
   ]
  },
  {
   "cell_type": "code",
   "execution_count": null,
   "metadata": {},
   "outputs": [],
   "source": [
    "mam_pagerank_w.head(3)"
   ]
  },
  {
   "cell_type": "code",
   "execution_count": null,
   "metadata": {},
   "outputs": [],
   "source": [
    "sns.distplot(mam_pagerank['val'], hist=False, color='r')\n",
    "sns.distplot(mam_pagerank_w['val'], hist=False, color='b')"
   ]
  },
  {
   "cell_type": "markdown",
   "metadata": {},
   "source": [
    "### Monsoon (JJAS)"
   ]
  },
  {
   "cell_type": "code",
   "execution_count": null,
   "metadata": {},
   "outputs": [],
   "source": [
    "jjas_graph = TRMM.generate_graph(jjas_sync_matrix, quantile=NETWORK_QUANTILE)\n",
    "print(len(jjas_graph.nodes), len(jjas_graph.edges))\n",
    "print(np.mean([d['weight'] for (x, y, d) in jjas_graph.edges(data=True)]))"
   ]
  },
  {
   "cell_type": "code",
   "execution_count": null,
   "metadata": {},
   "outputs": [],
   "source": [
    "jjas_graph_w = TRMM.generate_graph(jjas_sync_matrix, quantile=NETWORK_QUANTILE, set_ge=None)\n",
    "print(len(jjas_graph_w.nodes), len(jjas_graph_w.edges))\n",
    "print(np.mean([d['weight'] for (x, y, d) in jjas_graph_w.edges(data=True)]))"
   ]
  },
  {
   "cell_type": "code",
   "execution_count": null,
   "metadata": {},
   "outputs": [],
   "source": [
    "jjas_cent_degree, jjas_cent_between, jjas_pagerank = TRMM.calculate_centrality(jjas_graph)"
   ]
  },
  {
   "cell_type": "code",
   "execution_count": null,
   "metadata": {},
   "outputs": [],
   "source": [
    "jjas_cent_degree_w, jjas_cent_between_w, jjas_pagerank_w = TRMM.calculate_centrality(jjas_graph_w, weighted=True)"
   ]
  },
  {
   "cell_type": "markdown",
   "metadata": {},
   "source": [
    "### Post-Monsoon (OND)"
   ]
  },
  {
   "cell_type": "code",
   "execution_count": null,
   "metadata": {},
   "outputs": [],
   "source": [
    "ond_graph = TRMM.generate_graph(ond_sync_matrix, quantile=NETWORK_QUANTILE)\n",
    "print(len(ond_graph.nodes), len(ond_graph.edges))\n",
    "print(np.mean([d['weight'] for (x, y, d) in ond_graph.edges(data=True)]))"
   ]
  },
  {
   "cell_type": "code",
   "execution_count": null,
   "metadata": {},
   "outputs": [],
   "source": [
    "ond_graph_w = TRMM.generate_graph(ond_sync_matrix, quantile=NETWORK_QUANTILE, set_ge=None)\n",
    "print(len(ond_graph_w.nodes), len(ond_graph_w.edges))\n",
    "print(np.mean([d['weight'] for (x, y, d) in ond_graph_w.edges(data=True)]))"
   ]
  },
  {
   "cell_type": "code",
   "execution_count": null,
   "metadata": {},
   "outputs": [],
   "source": [
    "ond_cent_degree, ond_cent_between, ond_pagerank = TRMM.calculate_centrality(ond_graph)"
   ]
  },
  {
   "cell_type": "code",
   "execution_count": null,
   "metadata": {},
   "outputs": [],
   "source": [
    "ond_cent_degree_w, ond_cent_between_w, ond_pagerank_w = TRMM.calculate_centrality(ond_graph_w, weighted=True)"
   ]
  },
  {
   "cell_type": "markdown",
   "metadata": {},
   "source": [
    "### Overview"
   ]
  },
  {
   "cell_type": "code",
   "execution_count": null,
   "metadata": {},
   "outputs": [],
   "source": [
    "sns.distplot(mam_cent_degree['val'], hist=False, color='r')\n",
    "sns.distplot(jjas_cent_degree['val'], hist=False, color='g')\n",
    "sns.distplot(ond_cent_degree['val'], hist=False, color='b')"
   ]
  },
  {
   "cell_type": "code",
   "execution_count": null,
   "metadata": {},
   "outputs": [],
   "source": [
    "sns.distplot(mam_cent_between['val'], hist=False, color='r')\n",
    "sns.distplot(jjas_cent_between['val'], hist=False, color='g')\n",
    "sns.distplot(ond_cent_between['val'], hist=False, color='b')"
   ]
  },
  {
   "cell_type": "code",
   "execution_count": null,
   "metadata": {},
   "outputs": [],
   "source": [
    "# applying a log normalization can help with the skewedness\n",
    "\n",
    "sns.distplot(np.log10(mam_cent_between['val']), hist=False, color='r')\n",
    "sns.distplot(np.log10(jjas_cent_between['val']), hist=False, color='g')\n",
    "sns.distplot(np.log10(ond_cent_between['val']), hist=False, color='b')"
   ]
  },
  {
   "cell_type": "code",
   "execution_count": null,
   "metadata": {},
   "outputs": [],
   "source": [
    "sns.distplot(mam_pagerank['val'], hist=False, color='r')\n",
    "sns.distplot(jjas_pagerank['val'], hist=False, color='g')\n",
    "sns.distplot(ond_pagerank['val'], hist=False, color='b')"
   ]
  },
  {
   "cell_type": "markdown",
   "metadata": {
    "collapsed": true
   },
   "source": [
    "## Visualizations"
   ]
  },
  {
   "cell_type": "code",
   "execution_count": null,
   "metadata": {},
   "outputs": [],
   "source": [
    "# global params for all graphs\n",
    "\n",
    "graph_params = dict(\n",
    "    gaussian_filtering=0.6,\n",
    "    cmap='hot_r'\n",
    ")"
   ]
  },
  {
   "cell_type": "markdown",
   "metadata": {},
   "source": [
    "### Pre-Monsoon (MAM)"
   ]
  },
  {
   "cell_type": "code",
   "execution_count": null,
   "metadata": {},
   "outputs": [],
   "source": [
    "# degree\n",
    "\n",
    "Visualization.create_cartopy_vis(mam_cent_degree, title='Degree during Pre-Monsoon (MAM)', filename=f'output/sync_{AGGREGATION_RESOLUTION}_mam_deg.png', **graph_params)"
   ]
  },
  {
   "cell_type": "code",
   "execution_count": null,
   "metadata": {},
   "outputs": [],
   "source": [
    "# weighted degree\n",
    "\n",
    "Visualization.create_cartopy_vis(mam_cent_degree_w, title='Weighted Degree during Pre-Monsoon (MAM)', filename=f'output/sync_{AGGREGATION_RESOLUTION}_mam_deg_weighted.png', **graph_params)"
   ]
  },
  {
   "cell_type": "code",
   "execution_count": null,
   "metadata": {},
   "outputs": [],
   "source": [
    "# betweenness (log normalized)\n",
    "\n",
    "Visualization.create_cartopy_vis(mam_cent_between, log_norm=True, title='Betweenness during Pre-Monsoon (MAM)', filename=f'output/sync_{AGGREGATION_RESOLUTION}_mam_btw.png', **graph_params)"
   ]
  },
  {
   "cell_type": "code",
   "execution_count": null,
   "metadata": {},
   "outputs": [],
   "source": [
    "# weighted betweenness (log normalized)\n",
    "\n",
    "Visualization.create_cartopy_vis(mam_cent_between_w, log_norm=True, title='Weighted Betweenness during Pre-Monsoon (MAM)', filename=f'output/sync_{AGGREGATION_RESOLUTION}_mam_btw_weighted.png', **graph_params)"
   ]
  },
  {
   "cell_type": "code",
   "execution_count": null,
   "metadata": {},
   "outputs": [],
   "source": [
    "# pagerank\n",
    "\n",
    "Visualization.create_cartopy_vis(mam_pagerank, title='PageRank during Pre-Monsoon (MAM)', filename=f'output/sync_{AGGREGATION_RESOLUTION}_mam_pr.png', **graph_params)"
   ]
  },
  {
   "cell_type": "code",
   "execution_count": null,
   "metadata": {},
   "outputs": [],
   "source": [
    "# weighted pagerank\n",
    "\n",
    "Visualization.create_cartopy_vis(mam_pagerank_w, title='Weighted PageRank during Pre-Monsoon (MAM)', filename=f'output/sync_{AGGREGATION_RESOLUTION}_mam_pr_weighted.png', **graph_params)"
   ]
  },
  {
   "cell_type": "markdown",
   "metadata": {},
   "source": [
    "### Monsoon (JJAS)"
   ]
  },
  {
   "cell_type": "code",
   "execution_count": null,
   "metadata": {},
   "outputs": [],
   "source": [
    "Visualization.create_cartopy_vis(jjas_cent_degree, title='Degree during Monsoon (JJAS)', filename=f'output/sync_{AGGREGATION_RESOLUTION}_jjas_deg.png', **graph_params)"
   ]
  },
  {
   "cell_type": "code",
   "execution_count": null,
   "metadata": {},
   "outputs": [],
   "source": [
    "Visualization.create_cartopy_vis(jjas_cent_degree_w, title='Weighted Degree during Monsoon (MAM)', filename=f'output/sync_{AGGREGATION_RESOLUTION}_jjas_deg_weighted.png', **graph_params)"
   ]
  },
  {
   "cell_type": "code",
   "execution_count": null,
   "metadata": {},
   "outputs": [],
   "source": [
    "Visualization.create_cartopy_vis(jjas_cent_between, log_norm=True, title='Betweenness during Monsoon (JJAS)', filename=f'output/sync_{AGGREGATION_RESOLUTION}_jjas_btw.png', **graph_params)"
   ]
  },
  {
   "cell_type": "code",
   "execution_count": null,
   "metadata": {},
   "outputs": [],
   "source": [
    "Visualization.create_cartopy_vis(jjas_cent_between_w, log_norm=True, title='Weighted Betweenness during Monsoon (JJAS)', filename=f'output/sync_{AGGREGATION_RESOLUTION}_jjas_btw_weighted.png', **graph_params)"
   ]
  },
  {
   "cell_type": "code",
   "execution_count": null,
   "metadata": {},
   "outputs": [],
   "source": [
    "Visualization.create_cartopy_vis(jjas_pagerank, title='PageRank during Monsoon (JJAS)', filename=f'output/sync_{AGGREGATION_RESOLUTION}_jjas_pr.png', **graph_params)"
   ]
  },
  {
   "cell_type": "code",
   "execution_count": null,
   "metadata": {},
   "outputs": [],
   "source": [
    "Visualization.create_cartopy_vis(jjas_pagerank_w, title='Weighted PageRank during Monsoon (JJAS)', filename=f'output/sync_{AGGREGATION_RESOLUTION}_jjas_pr_weighted.png', **graph_params)"
   ]
  },
  {
   "cell_type": "markdown",
   "metadata": {},
   "source": [
    "### Post-Monsoon (OND)"
   ]
  },
  {
   "cell_type": "code",
   "execution_count": null,
   "metadata": {},
   "outputs": [],
   "source": [
    "Visualization.create_cartopy_vis(ond_cent_degree, title='Degree during Post-Monsoon (OND)', filename=f'output/sync_{AGGREGATION_RESOLUTION}_ond_deg.png', **graph_params)"
   ]
  },
  {
   "cell_type": "code",
   "execution_count": null,
   "metadata": {},
   "outputs": [],
   "source": [
    "Visualization.create_cartopy_vis(ond_cent_degree_w, title='Weighted Degree during Post-Monsoon (OND)', filename=f'output/sync_{AGGREGATION_RESOLUTION}_ond_deg_weighted.png', **graph_params)"
   ]
  },
  {
   "cell_type": "code",
   "execution_count": null,
   "metadata": {},
   "outputs": [],
   "source": [
    "# ond_cent_between_log = ond_cent_between.copy()\n",
    "# ond_cent_between_log['val'] = np.log(ond_cent_between_log['val'])\n",
    "Visualization.create_cartopy_vis(ond_cent_between, log_norm=True, title='Betweenness during Post-Monsoon (OND)', filename=f'output/sync_{AGGREGATION_RESOLUTION}_ond_btw.png', **graph_params)"
   ]
  },
  {
   "cell_type": "code",
   "execution_count": null,
   "metadata": {},
   "outputs": [],
   "source": [
    "# ond_cent_between_w_log = ond_cent_between_w.copy()\n",
    "# ond_cent_between_w_log['val'] = np.log(ond_cent_between_w_log['val'])\n",
    "Visualization.create_cartopy_vis(ond_cent_between_w, log_norm=True, title='Weighted Betweenness during Post-Monsoon (OND)', filename=f'output/sync_{AGGREGATION_RESOLUTION}_ond_btw_weighted.png', **graph_params)"
   ]
  },
  {
   "cell_type": "code",
   "execution_count": null,
   "metadata": {},
   "outputs": [],
   "source": [
    "Visualization.create_cartopy_vis(ond_pagerank, title='PageRank during Post-Monsoon (OND)', filename=f'output/sync_{AGGREGATION_RESOLUTION}_ond_pr.png', **graph_params)"
   ]
  },
  {
   "cell_type": "code",
   "execution_count": null,
   "metadata": {},
   "outputs": [],
   "source": [
    "Visualization.create_cartopy_vis(ond_pagerank_w, title='Weighted PageRank during Post-Monsoon (OND)', filename=f'output/sync_{AGGREGATION_RESOLUTION}_ond_pr_weighted.png', **graph_params)"
   ]
  },
  {
   "cell_type": "markdown",
   "metadata": {},
   "source": [
    "### Overview"
   ]
  },
  {
   "cell_type": "code",
   "execution_count": null,
   "metadata": {},
   "outputs": [],
   "source": [
    "fig, axes = plt.subplots(3, 3, figsize=(20, 17), subplot_kw=dict(projection=ccrs.PlateCarree()))\n",
    "\n",
    "axes[0, 0].set_title('Pre-Monsoon (MAM)', size=20)\n",
    "axes[0, 1].set_title('Monsoon (JJAS)', size=20)\n",
    "axes[0, 2].set_title('Post-Monsoon (OND)', size=20)\n",
    "# axes[0, 0].set_ylabel('Degree', rotation=0, size=20)\n",
    "# axes[1, 0].set_ylabel('Betweenness', rotation=0, size=20)\n",
    "# axes[2, 0].set_ylabel('PageRank', rotation=0, size=20)\n",
    "\n",
    "Visualization.create_cartopy_vis(mam_cent_degree, ax=axes[0, 0], **graph_params)\n",
    "Visualization.create_cartopy_vis(jjas_cent_degree, ax=axes[0, 1], **graph_params)\n",
    "Visualization.create_cartopy_vis(ond_cent_degree, ax=axes[0, 2], **graph_params)\n",
    "\n",
    "Visualization.create_cartopy_vis(mam_cent_between, log_norm=True, ax=axes[1, 0], **graph_params)\n",
    "Visualization.create_cartopy_vis(jjas_cent_between, log_norm=True, ax=axes[1, 1], **graph_params)\n",
    "Visualization.create_cartopy_vis(ond_cent_between, log_norm=True, ax=axes[1, 2], **graph_params)\n",
    "\n",
    "Visualization.create_cartopy_vis(mam_pagerank, ax=axes[2, 0], **graph_params)\n",
    "Visualization.create_cartopy_vis(jjas_pagerank, ax=axes[2, 1], **graph_params)\n",
    "Visualization.create_cartopy_vis(ond_pagerank, ax=axes[2, 2], **graph_params)\n",
    "\n",
    "# nx.draw_spring(mam_graph, ax=axes[3, 0], node_size=0.3, width=0.01)\n",
    "# nx.draw_spring(jjas_graph, ax=axes[3, 1], node_size=0.3, width=0.01)\n",
    "# nx.draw_spring(ond_graph, ax=axes[3, 2], node_size=0.3, width=0.01)\n",
    "\n",
    "# Visualization.create_cartopy_vis(msl_first, ax=axes[0, 0], title='On 01.03', vis_type='contour', cmap='coolwarm', clabel='hPa')\n",
    "\n",
    "# supttl = fig.suptitle('Average Mean Sea-Level Pressure (ERA)', size=30)\n",
    "# supttl.set_position([0.5, 1.02])\n",
    "plt.tight_layout(w_pad=3.0, h_pad=3.0)\n",
    "plt.savefig(f'output/event_sync_{AGGREGATION_RESOLUTION}-{EE_QUANTILE}.png', bbox_inches='tight')"
   ]
  },
  {
   "cell_type": "code",
   "execution_count": null,
   "metadata": {},
   "outputs": [],
   "source": [
    "fig, axes = plt.subplots(3, 3, figsize=(20, 17), subplot_kw=dict(projection=ccrs.PlateCarree()))\n",
    "\n",
    "axes[0, 0].set_title('Pre-Monsoon (MAM)', size=20)\n",
    "axes[0, 1].set_title('Monsoon (JJAS)', size=20)\n",
    "axes[0, 2].set_title('Post-Monsoon (OND)', size=20)\n",
    "# axes[0, 0].set_ylabel('Degree', rotation=0, size=20)\n",
    "# axes[1, 0].set_ylabel('Betweenness', rotation=0, size=20)\n",
    "# axes[2, 0].set_ylabel('PageRank', rotation=0, size=20)\n",
    "\n",
    "Visualization.create_cartopy_vis(mam_cent_degree_w, ax=axes[0, 0], **graph_params)\n",
    "Visualization.create_cartopy_vis(jjas_cent_degree_w, ax=axes[0, 1], **graph_params)\n",
    "Visualization.create_cartopy_vis(ond_cent_degree_w, ax=axes[0, 2], **graph_params)\n",
    "\n",
    "Visualization.create_cartopy_vis(mam_cent_between_w, ax=axes[1, 0], log_norm=True, **graph_params)\n",
    "Visualization.create_cartopy_vis(jjas_cent_between_w, ax=axes[1, 1], log_norm=True, **graph_params)\n",
    "Visualization.create_cartopy_vis(ond_cent_between_w, ax=axes[1, 2], log_norm=True, **graph_params)\n",
    "\n",
    "Visualization.create_cartopy_vis(mam_pagerank_w, ax=axes[2, 0], **graph_params)\n",
    "Visualization.create_cartopy_vis(jjas_pagerank_w, ax=axes[2, 1], **graph_params)\n",
    "Visualization.create_cartopy_vis(ond_pagerank_w, ax=axes[2, 2], **graph_params)\n",
    "\n",
    "# nx.draw_spring(mam_graph, ax=axes[3, 0], node_size=0.3, width=0.01)\n",
    "# nx.draw_spring(jjas_graph, ax=axes[3, 1], node_size=0.3, width=0.01)\n",
    "# nx.draw_spring(ond_graph, ax=axes[3, 2], node_size=0.3, width=0.01)\n",
    "\n",
    "# Visualization.create_cartopy_vis(msl_first, ax=axes[0, 0], title='On 01.03', vis_type='contour', cmap='coolwarm', clabel='hPa')\n",
    "\n",
    "# supttl = fig.suptitle('Average Mean Sea-Level Pressure (ERA)', size=30)\n",
    "# supttl.set_position([0.5, 1.02])\n",
    "plt.tight_layout(w_pad=3.0, h_pad=3.0)\n",
    "plt.savefig(f'output/event_sync_{AGGREGATION_RESOLUTION}-{EE_QUANTILE}_weighted.png', bbox_inches='tight')"
   ]
  },
  {
   "cell_type": "code",
   "execution_count": null,
   "metadata": {},
   "outputs": [],
   "source": []
  },
  {
   "cell_type": "code",
   "execution_count": null,
   "metadata": {},
   "outputs": [],
   "source": []
  }
 ],
 "metadata": {
  "kernelspec": {
   "display_name": "Python 3",
   "language": "python",
   "name": "python3"
  },
  "language_info": {
   "codemirror_mode": {
    "name": "ipython",
    "version": 3
   },
   "file_extension": ".py",
   "mimetype": "text/x-python",
   "name": "python",
   "nbconvert_exporter": "python",
   "pygments_lexer": "ipython3",
   "version": "3.6.3"
  }
 },
 "nbformat": 4,
 "nbformat_minor": 2
}
