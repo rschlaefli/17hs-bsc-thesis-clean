{
 "cells": [
  {
   "cell_type": "markdown",
   "metadata": {},
   "source": [
    "# TRMM"
   ]
  },
  {
   "cell_type": "markdown",
   "metadata": {},
   "source": [
    "The dataset used in this notebook is TRMM with daily values (from NASA). The data comes in separate files for each day and thus needs to be concatenated before processing.\n",
    "\n",
    "Using the filter available on https://disc.gsfc.nasa.gov/SSW/#keywords=TRMM_3B42_Daily%207, the relevant geographical area can be extracted and the daily files downloaded. For the area, paste **5.125,62.375,39.875,97.125** to extract the exact spatial region used in the V. Stolbovas PhD thesis. For the variables, check only **precipitation** and subset the dataset.\n",
    "\n",
    "If logged in with the earthdata account, the dataset can then be downloaded. Login can be found at https://urs.earthdata.nasa.gov/.\n",
    "\n",
    "**Resources**\n",
    "\n",
    "- Official TRMM README\n",
    "- https://disc.gsfc.nasa.gov/datasets/TRMM_3B42_Daily_7/summary\n",
    "- https://disc.gsfc.nasa.gov/SSW/#keywords=TRMM_3B42_Daily%207\n",
    "- https://disc2.gesdisc.eosdis.nasa.gov/opendap/TRMM_L3/TRMM_3B42_Daily.7/\n",
    "- https://disc.gsfc.nasa.gov/SSW/SSW_URL_List_Downloading_Instructions.html\n",
    "- https://wiki.earthdata.nasa.gov/display/HDD/Wget+with+URS+Authentication#WgetwithURSAuthentication-Step-by-stepguide\n",
    "\n",
    "**Citation**\n",
    "\n",
    "Goddard Earth Sciences Data and Information Services Center(2016), TRMM (TMPA) Precipitation L3 1 day 0.25 degree x 0.25 degree V7, , Goddard Earth Sciences Data and Information Services Center (GES DISC), Accessed [21.08.2017] https://disc.gsfc.nasa.gov/datacollection/TRMM_3B42_Daily_7.html\n",
    "\n",
    "\n",
    "61.75,4.5,97.75,40.5\n",
    "- https://giovanni.gsfc.nasa.gov/giovanni/#service=TmAvMp&starttime=1997-12-31T00:00:00Z&endtime=2017-09-29T23:59:59Z&bbox=61.75,4.5,97.75,40.5&data=TRMM_3B42_Daily_7_precipitation&dataKeyword=trmm\n",
    "- https://disc.sci.gsfc.nasa.gov/datasets?page=1&keywords=TRMM%203B42&start=1920-01-01&end=2016-06-27\n",
    "- https://disc.sci.gsfc.nasa.gov/data-access"
   ]
  },
  {
   "cell_type": "markdown",
   "metadata": {},
   "source": [
    "## Dependencies\n",
    "\n",
    "To get all the dependencies needed for this project, import the corresponding conda environment file:\n",
    "- **conda-gpu.env** for Tensorflow with GPU support\n",
    "- **conda.env** for Tensorflow without GPU support"
   ]
  },
  {
   "cell_type": "code",
   "execution_count": 1,
   "metadata": {},
   "outputs": [
    {
     "data": {
      "text/html": [
       "<script>requirejs.config({paths: { 'plotly': ['https://cdn.plot.ly/plotly-latest.min']},});if(!window.Plotly) {{require(['plotly'],function(plotly) {window.Plotly=plotly;});}}</script>"
      ],
      "text/vnd.plotly.v1+html": [
       "<script>requirejs.config({paths: { 'plotly': ['https://cdn.plot.ly/plotly-latest.min']},});if(!window.Plotly) {{require(['plotly'],function(plotly) {window.Plotly=plotly;});}}</script>"
      ]
     },
     "metadata": {},
     "output_type": "display_data"
    }
   ],
   "source": [
    "# statistical libraries\n",
    "import numpy as np\n",
    "import pandas as pd\n",
    "import seaborn as sns\n",
    "import networkx as nx\n",
    "\n",
    "# visualization libraries\n",
    "import matplotlib.pyplot as plt\n",
    "from matplotlib import cm\n",
    "import plotly\n",
    "import plotly.plotly as py\n",
    "from plotly.graph_objs import Scatter, Layout\n",
    "import cartopy.crs as ccrs\n",
    "\n",
    "# import own library functionality\n",
    "import paths\n",
    "from TRMM import TRMM\n",
    "from Visualization import Visualization\n",
    "\n",
    "# force autoreload of external modules on save\n",
    "%load_ext autoreload\n",
    "%autoreload 2\n",
    "%matplotlib inline\n",
    "plotly.offline.init_notebook_mode(connected=True)"
   ]
  },
  {
   "cell_type": "markdown",
   "metadata": {},
   "source": [
    "## Load the dataset"
   ]
  },
  {
   "cell_type": "code",
   "execution_count": 2,
   "metadata": {},
   "outputs": [],
   "source": [
    "# how many years to load data for\n",
    "# cannot yet use 2017 as the data for december is not complete\n",
    "# TODO: extend with 2018 as soon as data is available\n",
    "YEARS = range(1998, 2017)\n",
    "\n",
    "# pre-monsoon period\n",
    "MAM = [3, 4, 5]\n",
    "\n",
    "# monsoon period\n",
    "JJAS = [6, 7, 8, 9]\n",
    "\n",
    "# post-monsoon period\n",
    "OND = [10, 11, 12]\n",
    "\n",
    "# run the aggregation algorithm over the dataframes?\n",
    "# the resulting dataframe would be exorbitantly big otherwise\n",
    "AGGREGATION_RESOLUTION = 0.75"
   ]
  },
  {
   "cell_type": "code",
   "execution_count": 3,
   "metadata": {
    "scrolled": false
   },
   "outputs": [
    {
     "name": "stdout",
     "output_type": "stream",
     "text": [
      "> Loading from cache...\n"
     ]
    }
   ],
   "source": [
    "# load data for the pre-monsoon period (MAM)\n",
    "\n",
    "mam_df = TRMM.load_dataset(\n",
    "    YEARS,\n",
    "    MAM,\n",
    "    aggregation_resolution=AGGREGATION_RESOLUTION,\n",
    "    timestamp=True,\n",
    "    invalidate=False,\n",
    "    lon_slice=slice(61.125, 97.625),\n",
    "    lat_slice=slice(4.125, 40.625),\n",
    "    version='v3')"
   ]
  },
  {
   "cell_type": "code",
   "execution_count": 4,
   "metadata": {
    "scrolled": false
   },
   "outputs": [
    {
     "name": "stdout",
     "output_type": "stream",
     "text": [
      "> Loading from cache...\n"
     ]
    }
   ],
   "source": [
    "# load data for the monsoon period (JJAS)\n",
    "\n",
    "jjas_df = TRMM.load_dataset(\n",
    "    YEARS,\n",
    "    JJAS,\n",
    "    aggregation_resolution=AGGREGATION_RESOLUTION,\n",
    "    timestamp=True,\n",
    "    invalidate=False,\n",
    "    lon_slice=slice(61.125, 97.625),\n",
    "    lat_slice=slice(4.125, 40.625),\n",
    "    version='v3')"
   ]
  },
  {
   "cell_type": "code",
   "execution_count": 5,
   "metadata": {
    "scrolled": true
   },
   "outputs": [
    {
     "name": "stdout",
     "output_type": "stream",
     "text": [
      "> Loading from cache...\n"
     ]
    }
   ],
   "source": [
    "# load data for the post-monsoon period (OND)\n",
    "\n",
    "ond_df = TRMM.load_dataset(\n",
    "    YEARS,\n",
    "    OND,\n",
    "    aggregation_resolution=AGGREGATION_RESOLUTION,\n",
    "    timestamp=True,\n",
    "    invalidate=False,\n",
    "    lon_slice=slice(61.125, 97.625),\n",
    "    lat_slice=slice(4.125, 40.625),\n",
    "    version='v3')"
   ]
  },
  {
   "cell_type": "markdown",
   "metadata": {},
   "source": [
    "## Exploratory Data Analysis"
   ]
  },
  {
   "cell_type": "markdown",
   "metadata": {},
   "source": [
    "### Pre-Monsoon (MAM)"
   ]
  },
  {
   "cell_type": "code",
   "execution_count": 6,
   "metadata": {},
   "outputs": [
    {
     "name": "stdout",
     "output_type": "stream",
     "text": [
      "<class 'pandas.core.frame.DataFrame'>\n",
      "MultiIndex: 2401 entries, (4.375, 61.375) to (40.375, 97.375)\n",
      "Columns: 1748 entries, 888710400 to 1464652800\n",
      "dtypes: float64(1748)\n",
      "memory usage: 32.0 MB\n"
     ]
    }
   ],
   "source": [
    "mam_df.info()"
   ]
  },
  {
   "cell_type": "code",
   "execution_count": 7,
   "metadata": {},
   "outputs": [
    {
     "data": {
      "text/html": [
       "<div>\n",
       "<style scoped>\n",
       "    .dataframe tbody tr th:only-of-type {\n",
       "        vertical-align: middle;\n",
       "    }\n",
       "\n",
       "    .dataframe tbody tr th {\n",
       "        vertical-align: top;\n",
       "    }\n",
       "\n",
       "    .dataframe thead th {\n",
       "        text-align: right;\n",
       "    }\n",
       "</style>\n",
       "<table border=\"1\" class=\"dataframe\">\n",
       "  <thead>\n",
       "    <tr style=\"text-align: right;\">\n",
       "      <th></th>\n",
       "      <th></th>\n",
       "      <th>888710400</th>\n",
       "      <th>888796800</th>\n",
       "      <th>888883200</th>\n",
       "      <th>888969600</th>\n",
       "      <th>889056000</th>\n",
       "      <th>889142400</th>\n",
       "      <th>889228800</th>\n",
       "      <th>889315200</th>\n",
       "      <th>889401600</th>\n",
       "      <th>889488000</th>\n",
       "      <th>...</th>\n",
       "      <th>1463875200</th>\n",
       "      <th>1463961600</th>\n",
       "      <th>1464048000</th>\n",
       "      <th>1464134400</th>\n",
       "      <th>1464220800</th>\n",
       "      <th>1464307200</th>\n",
       "      <th>1464393600</th>\n",
       "      <th>1464480000</th>\n",
       "      <th>1464566400</th>\n",
       "      <th>1464652800</th>\n",
       "    </tr>\n",
       "    <tr>\n",
       "      <th>latitude</th>\n",
       "      <th>longitude</th>\n",
       "      <th></th>\n",
       "      <th></th>\n",
       "      <th></th>\n",
       "      <th></th>\n",
       "      <th></th>\n",
       "      <th></th>\n",
       "      <th></th>\n",
       "      <th></th>\n",
       "      <th></th>\n",
       "      <th></th>\n",
       "      <th></th>\n",
       "      <th></th>\n",
       "      <th></th>\n",
       "      <th></th>\n",
       "      <th></th>\n",
       "      <th></th>\n",
       "      <th></th>\n",
       "      <th></th>\n",
       "      <th></th>\n",
       "      <th></th>\n",
       "      <th></th>\n",
       "    </tr>\n",
       "  </thead>\n",
       "  <tbody>\n",
       "    <tr>\n",
       "      <th rowspan=\"5\" valign=\"top\">40.375</th>\n",
       "      <th>94.375</th>\n",
       "      <td>0.0</td>\n",
       "      <td>0.161115</td>\n",
       "      <td>0.000000</td>\n",
       "      <td>0.000000</td>\n",
       "      <td>0.0</td>\n",
       "      <td>0.000000</td>\n",
       "      <td>0.256137</td>\n",
       "      <td>0.0</td>\n",
       "      <td>0.0</td>\n",
       "      <td>0.0</td>\n",
       "      <td>...</td>\n",
       "      <td>0.00</td>\n",
       "      <td>0.0</td>\n",
       "      <td>0.0</td>\n",
       "      <td>0.0</td>\n",
       "      <td>0.0</td>\n",
       "      <td>0.0</td>\n",
       "      <td>0.0</td>\n",
       "      <td>0.0</td>\n",
       "      <td>1.620000</td>\n",
       "      <td>0.000000</td>\n",
       "    </tr>\n",
       "    <tr>\n",
       "      <th>95.125</th>\n",
       "      <td>0.0</td>\n",
       "      <td>0.516471</td>\n",
       "      <td>0.000000</td>\n",
       "      <td>0.136527</td>\n",
       "      <td>0.0</td>\n",
       "      <td>0.000000</td>\n",
       "      <td>2.921605</td>\n",
       "      <td>0.0</td>\n",
       "      <td>0.0</td>\n",
       "      <td>0.0</td>\n",
       "      <td>...</td>\n",
       "      <td>0.00</td>\n",
       "      <td>0.0</td>\n",
       "      <td>0.0</td>\n",
       "      <td>0.0</td>\n",
       "      <td>0.0</td>\n",
       "      <td>0.0</td>\n",
       "      <td>0.0</td>\n",
       "      <td>0.0</td>\n",
       "      <td>5.931863</td>\n",
       "      <td>0.000000</td>\n",
       "    </tr>\n",
       "    <tr>\n",
       "      <th>95.875</th>\n",
       "      <td>0.0</td>\n",
       "      <td>0.000000</td>\n",
       "      <td>0.000000</td>\n",
       "      <td>0.000000</td>\n",
       "      <td>0.0</td>\n",
       "      <td>0.000000</td>\n",
       "      <td>4.283582</td>\n",
       "      <td>0.0</td>\n",
       "      <td>0.0</td>\n",
       "      <td>0.0</td>\n",
       "      <td>...</td>\n",
       "      <td>0.00</td>\n",
       "      <td>0.0</td>\n",
       "      <td>0.0</td>\n",
       "      <td>0.0</td>\n",
       "      <td>0.0</td>\n",
       "      <td>0.0</td>\n",
       "      <td>0.0</td>\n",
       "      <td>0.0</td>\n",
       "      <td>6.750000</td>\n",
       "      <td>11.790000</td>\n",
       "    </tr>\n",
       "    <tr>\n",
       "      <th>96.625</th>\n",
       "      <td>0.0</td>\n",
       "      <td>0.000000</td>\n",
       "      <td>2.217927</td>\n",
       "      <td>0.000000</td>\n",
       "      <td>0.0</td>\n",
       "      <td>1.068078</td>\n",
       "      <td>0.000000</td>\n",
       "      <td>0.0</td>\n",
       "      <td>0.0</td>\n",
       "      <td>0.0</td>\n",
       "      <td>...</td>\n",
       "      <td>0.27</td>\n",
       "      <td>0.0</td>\n",
       "      <td>0.0</td>\n",
       "      <td>0.0</td>\n",
       "      <td>0.0</td>\n",
       "      <td>0.0</td>\n",
       "      <td>0.0</td>\n",
       "      <td>0.0</td>\n",
       "      <td>4.770000</td>\n",
       "      <td>42.299998</td>\n",
       "    </tr>\n",
       "    <tr>\n",
       "      <th>97.375</th>\n",
       "      <td>0.0</td>\n",
       "      <td>0.000000</td>\n",
       "      <td>1.022686</td>\n",
       "      <td>0.000000</td>\n",
       "      <td>0.0</td>\n",
       "      <td>13.621249</td>\n",
       "      <td>1.471204</td>\n",
       "      <td>0.0</td>\n",
       "      <td>0.0</td>\n",
       "      <td>0.0</td>\n",
       "      <td>...</td>\n",
       "      <td>0.72</td>\n",
       "      <td>0.0</td>\n",
       "      <td>0.0</td>\n",
       "      <td>0.0</td>\n",
       "      <td>0.0</td>\n",
       "      <td>0.0</td>\n",
       "      <td>0.0</td>\n",
       "      <td>0.0</td>\n",
       "      <td>6.840000</td>\n",
       "      <td>20.969999</td>\n",
       "    </tr>\n",
       "  </tbody>\n",
       "</table>\n",
       "<p>5 rows × 1748 columns</p>\n",
       "</div>"
      ],
      "text/plain": [
       "                    888710400   888796800   888883200   888969600   \\\n",
       "latitude longitude                                                   \n",
       "40.375   94.375            0.0    0.161115    0.000000    0.000000   \n",
       "         95.125            0.0    0.516471    0.000000    0.136527   \n",
       "         95.875            0.0    0.000000    0.000000    0.000000   \n",
       "         96.625            0.0    0.000000    2.217927    0.000000   \n",
       "         97.375            0.0    0.000000    1.022686    0.000000   \n",
       "\n",
       "                    889056000   889142400   889228800   889315200   \\\n",
       "latitude longitude                                                   \n",
       "40.375   94.375            0.0    0.000000    0.256137         0.0   \n",
       "         95.125            0.0    0.000000    2.921605         0.0   \n",
       "         95.875            0.0    0.000000    4.283582         0.0   \n",
       "         96.625            0.0    1.068078    0.000000         0.0   \n",
       "         97.375            0.0   13.621249    1.471204         0.0   \n",
       "\n",
       "                    889401600   889488000      ...      1463875200  \\\n",
       "latitude longitude                             ...                   \n",
       "40.375   94.375            0.0         0.0     ...            0.00   \n",
       "         95.125            0.0         0.0     ...            0.00   \n",
       "         95.875            0.0         0.0     ...            0.00   \n",
       "         96.625            0.0         0.0     ...            0.27   \n",
       "         97.375            0.0         0.0     ...            0.72   \n",
       "\n",
       "                    1463961600  1464048000  1464134400  1464220800  \\\n",
       "latitude longitude                                                   \n",
       "40.375   94.375            0.0         0.0         0.0         0.0   \n",
       "         95.125            0.0         0.0         0.0         0.0   \n",
       "         95.875            0.0         0.0         0.0         0.0   \n",
       "         96.625            0.0         0.0         0.0         0.0   \n",
       "         97.375            0.0         0.0         0.0         0.0   \n",
       "\n",
       "                    1464307200  1464393600  1464480000  1464566400  1464652800  \n",
       "latitude longitude                                                              \n",
       "40.375   94.375            0.0         0.0         0.0    1.620000    0.000000  \n",
       "         95.125            0.0         0.0         0.0    5.931863    0.000000  \n",
       "         95.875            0.0         0.0         0.0    6.750000   11.790000  \n",
       "         96.625            0.0         0.0         0.0    4.770000   42.299998  \n",
       "         97.375            0.0         0.0         0.0    6.840000   20.969999  \n",
       "\n",
       "[5 rows x 1748 columns]"
      ]
     },
     "execution_count": 7,
     "metadata": {},
     "output_type": "execute_result"
    }
   ],
   "source": [
    "mam_df.tail()"
   ]
  },
  {
   "cell_type": "code",
   "execution_count": 8,
   "metadata": {},
   "outputs": [
    {
     "data": {
      "text/html": [
       "<div>\n",
       "<style scoped>\n",
       "    .dataframe tbody tr th:only-of-type {\n",
       "        vertical-align: middle;\n",
       "    }\n",
       "\n",
       "    .dataframe tbody tr th {\n",
       "        vertical-align: top;\n",
       "    }\n",
       "\n",
       "    .dataframe thead tr th {\n",
       "        text-align: left;\n",
       "    }\n",
       "\n",
       "    .dataframe thead tr:last-of-type th {\n",
       "        text-align: right;\n",
       "    }\n",
       "</style>\n",
       "<table border=\"1\" class=\"dataframe\">\n",
       "  <thead>\n",
       "    <tr>\n",
       "      <th></th>\n",
       "      <th colspan=\"5\" halign=\"left\">888710400</th>\n",
       "    </tr>\n",
       "    <tr>\n",
       "      <th>longitude</th>\n",
       "      <th>61.375</th>\n",
       "      <th>62.125</th>\n",
       "      <th>62.875</th>\n",
       "      <th>63.625</th>\n",
       "      <th>64.375</th>\n",
       "    </tr>\n",
       "    <tr>\n",
       "      <th>latitude</th>\n",
       "      <th></th>\n",
       "      <th></th>\n",
       "      <th></th>\n",
       "      <th></th>\n",
       "      <th></th>\n",
       "    </tr>\n",
       "  </thead>\n",
       "  <tbody>\n",
       "    <tr>\n",
       "      <th>4.375</th>\n",
       "      <td>0.0</td>\n",
       "      <td>5.37</td>\n",
       "      <td>4.02</td>\n",
       "      <td>4.35</td>\n",
       "      <td>0.54</td>\n",
       "    </tr>\n",
       "    <tr>\n",
       "      <th>5.125</th>\n",
       "      <td>0.0</td>\n",
       "      <td>0.00</td>\n",
       "      <td>0.00</td>\n",
       "      <td>0.00</td>\n",
       "      <td>1.56</td>\n",
       "    </tr>\n",
       "    <tr>\n",
       "      <th>5.875</th>\n",
       "      <td>0.0</td>\n",
       "      <td>0.00</td>\n",
       "      <td>0.00</td>\n",
       "      <td>0.00</td>\n",
       "      <td>0.00</td>\n",
       "    </tr>\n",
       "    <tr>\n",
       "      <th>6.625</th>\n",
       "      <td>0.0</td>\n",
       "      <td>0.00</td>\n",
       "      <td>0.00</td>\n",
       "      <td>0.00</td>\n",
       "      <td>0.00</td>\n",
       "    </tr>\n",
       "    <tr>\n",
       "      <th>7.375</th>\n",
       "      <td>0.0</td>\n",
       "      <td>0.00</td>\n",
       "      <td>0.00</td>\n",
       "      <td>0.00</td>\n",
       "      <td>0.00</td>\n",
       "    </tr>\n",
       "  </tbody>\n",
       "</table>\n",
       "</div>"
      ],
      "text/plain": [
       "          888710400                            \n",
       "longitude    61.375 62.125 62.875 63.625 64.375\n",
       "latitude                                       \n",
       "4.375           0.0   5.37   4.02   4.35   0.54\n",
       "5.125           0.0   0.00   0.00   0.00   1.56\n",
       "5.875           0.0   0.00   0.00   0.00   0.00\n",
       "6.625           0.0   0.00   0.00   0.00   0.00\n",
       "7.375           0.0   0.00   0.00   0.00   0.00"
      ]
     },
     "execution_count": 8,
     "metadata": {},
     "output_type": "execute_result"
    }
   ],
   "source": [
    "mam_df.unstack(-1).iloc[:5, :5]"
   ]
  },
  {
   "cell_type": "code",
   "execution_count": 9,
   "metadata": {},
   "outputs": [
    {
     "data": {
      "text/plain": [
       "104.46599788665769"
      ]
     },
     "execution_count": 9,
     "metadata": {},
     "output_type": "execute_result"
    }
   ],
   "source": [
    "mam_df.iloc[0].quantile(0.9)"
   ]
  },
  {
   "cell_type": "markdown",
   "metadata": {},
   "source": [
    "### Monsoon (JJAS)"
   ]
  },
  {
   "cell_type": "code",
   "execution_count": 10,
   "metadata": {},
   "outputs": [
    {
     "data": {
      "text/html": [
       "<div>\n",
       "<style scoped>\n",
       "    .dataframe tbody tr th:only-of-type {\n",
       "        vertical-align: middle;\n",
       "    }\n",
       "\n",
       "    .dataframe tbody tr th {\n",
       "        vertical-align: top;\n",
       "    }\n",
       "\n",
       "    .dataframe thead th {\n",
       "        text-align: right;\n",
       "    }\n",
       "</style>\n",
       "<table border=\"1\" class=\"dataframe\">\n",
       "  <thead>\n",
       "    <tr style=\"text-align: right;\">\n",
       "      <th></th>\n",
       "      <th></th>\n",
       "      <th>896659200</th>\n",
       "      <th>896745600</th>\n",
       "      <th>896832000</th>\n",
       "      <th>896918400</th>\n",
       "      <th>897004800</th>\n",
       "      <th>897091200</th>\n",
       "      <th>897177600</th>\n",
       "      <th>897264000</th>\n",
       "      <th>897350400</th>\n",
       "      <th>897436800</th>\n",
       "      <th>...</th>\n",
       "      <th>1474416000</th>\n",
       "      <th>1474502400</th>\n",
       "      <th>1474588800</th>\n",
       "      <th>1474675200</th>\n",
       "      <th>1474761600</th>\n",
       "      <th>1474848000</th>\n",
       "      <th>1474934400</th>\n",
       "      <th>1475020800</th>\n",
       "      <th>1475107200</th>\n",
       "      <th>1475193600</th>\n",
       "    </tr>\n",
       "    <tr>\n",
       "      <th>latitude</th>\n",
       "      <th>longitude</th>\n",
       "      <th></th>\n",
       "      <th></th>\n",
       "      <th></th>\n",
       "      <th></th>\n",
       "      <th></th>\n",
       "      <th></th>\n",
       "      <th></th>\n",
       "      <th></th>\n",
       "      <th></th>\n",
       "      <th></th>\n",
       "      <th></th>\n",
       "      <th></th>\n",
       "      <th></th>\n",
       "      <th></th>\n",
       "      <th></th>\n",
       "      <th></th>\n",
       "      <th></th>\n",
       "      <th></th>\n",
       "      <th></th>\n",
       "      <th></th>\n",
       "      <th></th>\n",
       "    </tr>\n",
       "  </thead>\n",
       "  <tbody>\n",
       "    <tr>\n",
       "      <th rowspan=\"5\" valign=\"top\">40.375</th>\n",
       "      <th>94.375</th>\n",
       "      <td>0.0</td>\n",
       "      <td>0.0</td>\n",
       "      <td>0.0</td>\n",
       "      <td>0.0</td>\n",
       "      <td>1.141729</td>\n",
       "      <td>0.000000</td>\n",
       "      <td>0.0</td>\n",
       "      <td>0.0</td>\n",
       "      <td>2.221119</td>\n",
       "      <td>0.000000</td>\n",
       "      <td>...</td>\n",
       "      <td>0.0</td>\n",
       "      <td>0.0</td>\n",
       "      <td>0.0</td>\n",
       "      <td>0.0</td>\n",
       "      <td>0.0</td>\n",
       "      <td>0.000000</td>\n",
       "      <td>0.0</td>\n",
       "      <td>0.0</td>\n",
       "      <td>0.0</td>\n",
       "      <td>0.0</td>\n",
       "    </tr>\n",
       "    <tr>\n",
       "      <th>95.125</th>\n",
       "      <td>0.0</td>\n",
       "      <td>0.0</td>\n",
       "      <td>0.0</td>\n",
       "      <td>0.0</td>\n",
       "      <td>6.051924</td>\n",
       "      <td>0.000000</td>\n",
       "      <td>0.0</td>\n",
       "      <td>0.0</td>\n",
       "      <td>7.571684</td>\n",
       "      <td>0.000000</td>\n",
       "      <td>...</td>\n",
       "      <td>0.0</td>\n",
       "      <td>0.0</td>\n",
       "      <td>0.0</td>\n",
       "      <td>0.0</td>\n",
       "      <td>0.0</td>\n",
       "      <td>0.180000</td>\n",
       "      <td>0.0</td>\n",
       "      <td>0.0</td>\n",
       "      <td>0.0</td>\n",
       "      <td>0.0</td>\n",
       "    </tr>\n",
       "    <tr>\n",
       "      <th>95.875</th>\n",
       "      <td>0.0</td>\n",
       "      <td>0.0</td>\n",
       "      <td>0.0</td>\n",
       "      <td>0.0</td>\n",
       "      <td>15.563477</td>\n",
       "      <td>0.000000</td>\n",
       "      <td>0.0</td>\n",
       "      <td>0.0</td>\n",
       "      <td>5.265064</td>\n",
       "      <td>3.535445</td>\n",
       "      <td>...</td>\n",
       "      <td>0.0</td>\n",
       "      <td>0.0</td>\n",
       "      <td>0.0</td>\n",
       "      <td>0.0</td>\n",
       "      <td>0.0</td>\n",
       "      <td>0.360000</td>\n",
       "      <td>0.0</td>\n",
       "      <td>0.0</td>\n",
       "      <td>0.0</td>\n",
       "      <td>0.0</td>\n",
       "    </tr>\n",
       "    <tr>\n",
       "      <th>96.625</th>\n",
       "      <td>0.0</td>\n",
       "      <td>0.0</td>\n",
       "      <td>0.0</td>\n",
       "      <td>0.0</td>\n",
       "      <td>16.951041</td>\n",
       "      <td>0.115731</td>\n",
       "      <td>0.0</td>\n",
       "      <td>0.0</td>\n",
       "      <td>7.605862</td>\n",
       "      <td>4.686966</td>\n",
       "      <td>...</td>\n",
       "      <td>0.0</td>\n",
       "      <td>0.0</td>\n",
       "      <td>0.0</td>\n",
       "      <td>0.0</td>\n",
       "      <td>0.0</td>\n",
       "      <td>0.000000</td>\n",
       "      <td>0.0</td>\n",
       "      <td>0.0</td>\n",
       "      <td>0.0</td>\n",
       "      <td>0.0</td>\n",
       "    </tr>\n",
       "    <tr>\n",
       "      <th>97.375</th>\n",
       "      <td>0.0</td>\n",
       "      <td>0.0</td>\n",
       "      <td>0.0</td>\n",
       "      <td>0.0</td>\n",
       "      <td>11.179539</td>\n",
       "      <td>1.619584</td>\n",
       "      <td>0.0</td>\n",
       "      <td>0.0</td>\n",
       "      <td>7.397860</td>\n",
       "      <td>20.376898</td>\n",
       "      <td>...</td>\n",
       "      <td>0.0</td>\n",
       "      <td>0.0</td>\n",
       "      <td>0.0</td>\n",
       "      <td>0.0</td>\n",
       "      <td>0.0</td>\n",
       "      <td>1.067942</td>\n",
       "      <td>0.0</td>\n",
       "      <td>0.0</td>\n",
       "      <td>0.0</td>\n",
       "      <td>0.0</td>\n",
       "    </tr>\n",
       "  </tbody>\n",
       "</table>\n",
       "<p>5 rows × 2318 columns</p>\n",
       "</div>"
      ],
      "text/plain": [
       "                    896659200   896745600   896832000   896918400   \\\n",
       "latitude longitude                                                   \n",
       "40.375   94.375            0.0         0.0         0.0         0.0   \n",
       "         95.125            0.0         0.0         0.0         0.0   \n",
       "         95.875            0.0         0.0         0.0         0.0   \n",
       "         96.625            0.0         0.0         0.0         0.0   \n",
       "         97.375            0.0         0.0         0.0         0.0   \n",
       "\n",
       "                    897004800   897091200   897177600   897264000   \\\n",
       "latitude longitude                                                   \n",
       "40.375   94.375       1.141729    0.000000         0.0         0.0   \n",
       "         95.125       6.051924    0.000000         0.0         0.0   \n",
       "         95.875      15.563477    0.000000         0.0         0.0   \n",
       "         96.625      16.951041    0.115731         0.0         0.0   \n",
       "         97.375      11.179539    1.619584         0.0         0.0   \n",
       "\n",
       "                    897350400   897436800      ...      1474416000  \\\n",
       "latitude longitude                             ...                   \n",
       "40.375   94.375       2.221119    0.000000     ...             0.0   \n",
       "         95.125       7.571684    0.000000     ...             0.0   \n",
       "         95.875       5.265064    3.535445     ...             0.0   \n",
       "         96.625       7.605862    4.686966     ...             0.0   \n",
       "         97.375       7.397860   20.376898     ...             0.0   \n",
       "\n",
       "                    1474502400  1474588800  1474675200  1474761600  \\\n",
       "latitude longitude                                                   \n",
       "40.375   94.375            0.0         0.0         0.0         0.0   \n",
       "         95.125            0.0         0.0         0.0         0.0   \n",
       "         95.875            0.0         0.0         0.0         0.0   \n",
       "         96.625            0.0         0.0         0.0         0.0   \n",
       "         97.375            0.0         0.0         0.0         0.0   \n",
       "\n",
       "                    1474848000  1474934400  1475020800  1475107200  1475193600  \n",
       "latitude longitude                                                              \n",
       "40.375   94.375       0.000000         0.0         0.0         0.0         0.0  \n",
       "         95.125       0.180000         0.0         0.0         0.0         0.0  \n",
       "         95.875       0.360000         0.0         0.0         0.0         0.0  \n",
       "         96.625       0.000000         0.0         0.0         0.0         0.0  \n",
       "         97.375       1.067942         0.0         0.0         0.0         0.0  \n",
       "\n",
       "[5 rows x 2318 columns]"
      ]
     },
     "execution_count": 10,
     "metadata": {},
     "output_type": "execute_result"
    }
   ],
   "source": [
    "jjas_df.tail()"
   ]
  },
  {
   "cell_type": "code",
   "execution_count": 11,
   "metadata": {},
   "outputs": [
    {
     "data": {
      "text/html": [
       "<div>\n",
       "<style scoped>\n",
       "    .dataframe tbody tr th:only-of-type {\n",
       "        vertical-align: middle;\n",
       "    }\n",
       "\n",
       "    .dataframe tbody tr th {\n",
       "        vertical-align: top;\n",
       "    }\n",
       "\n",
       "    .dataframe thead tr th {\n",
       "        text-align: left;\n",
       "    }\n",
       "\n",
       "    .dataframe thead tr:last-of-type th {\n",
       "        text-align: right;\n",
       "    }\n",
       "</style>\n",
       "<table border=\"1\" class=\"dataframe\">\n",
       "  <thead>\n",
       "    <tr>\n",
       "      <th></th>\n",
       "      <th colspan=\"5\" halign=\"left\">896659200</th>\n",
       "    </tr>\n",
       "    <tr>\n",
       "      <th>longitude</th>\n",
       "      <th>61.375</th>\n",
       "      <th>62.125</th>\n",
       "      <th>62.875</th>\n",
       "      <th>63.625</th>\n",
       "      <th>64.375</th>\n",
       "    </tr>\n",
       "    <tr>\n",
       "      <th>latitude</th>\n",
       "      <th></th>\n",
       "      <th></th>\n",
       "      <th></th>\n",
       "      <th></th>\n",
       "      <th></th>\n",
       "    </tr>\n",
       "  </thead>\n",
       "  <tbody>\n",
       "    <tr>\n",
       "      <th>4.375</th>\n",
       "      <td>0.00</td>\n",
       "      <td>0.00</td>\n",
       "      <td>0.03</td>\n",
       "      <td>0.18</td>\n",
       "      <td>0.00</td>\n",
       "    </tr>\n",
       "    <tr>\n",
       "      <th>5.125</th>\n",
       "      <td>0.18</td>\n",
       "      <td>0.00</td>\n",
       "      <td>2.49</td>\n",
       "      <td>0.00</td>\n",
       "      <td>0.48</td>\n",
       "    </tr>\n",
       "    <tr>\n",
       "      <th>5.875</th>\n",
       "      <td>0.24</td>\n",
       "      <td>0.87</td>\n",
       "      <td>1.59</td>\n",
       "      <td>0.00</td>\n",
       "      <td>0.81</td>\n",
       "    </tr>\n",
       "    <tr>\n",
       "      <th>6.625</th>\n",
       "      <td>0.03</td>\n",
       "      <td>0.54</td>\n",
       "      <td>0.99</td>\n",
       "      <td>2.31</td>\n",
       "      <td>6.60</td>\n",
       "    </tr>\n",
       "    <tr>\n",
       "      <th>7.375</th>\n",
       "      <td>0.00</td>\n",
       "      <td>0.90</td>\n",
       "      <td>0.18</td>\n",
       "      <td>1.83</td>\n",
       "      <td>1.26</td>\n",
       "    </tr>\n",
       "  </tbody>\n",
       "</table>\n",
       "</div>"
      ],
      "text/plain": [
       "          896659200                            \n",
       "longitude    61.375 62.125 62.875 63.625 64.375\n",
       "latitude                                       \n",
       "4.375          0.00   0.00   0.03   0.18   0.00\n",
       "5.125          0.18   0.00   2.49   0.00   0.48\n",
       "5.875          0.24   0.87   1.59   0.00   0.81\n",
       "6.625          0.03   0.54   0.99   2.31   6.60\n",
       "7.375          0.00   0.90   0.18   1.83   1.26"
      ]
     },
     "execution_count": 11,
     "metadata": {},
     "output_type": "execute_result"
    }
   ],
   "source": [
    "jjas_df.unstack(-1).iloc[:5, :5]"
   ]
  },
  {
   "cell_type": "code",
   "execution_count": 12,
   "metadata": {},
   "outputs": [
    {
     "data": {
      "text/plain": [
       "78.44699873924257"
      ]
     },
     "execution_count": 12,
     "metadata": {},
     "output_type": "execute_result"
    }
   ],
   "source": [
    "jjas_df.iloc[0].quantile(0.9)"
   ]
  },
  {
   "cell_type": "markdown",
   "metadata": {},
   "source": [
    "### Post-Monsoon (OND)"
   ]
  },
  {
   "cell_type": "code",
   "execution_count": 13,
   "metadata": {},
   "outputs": [
    {
     "data": {
      "text/html": [
       "<div>\n",
       "<style scoped>\n",
       "    .dataframe tbody tr th:only-of-type {\n",
       "        vertical-align: middle;\n",
       "    }\n",
       "\n",
       "    .dataframe tbody tr th {\n",
       "        vertical-align: top;\n",
       "    }\n",
       "\n",
       "    .dataframe thead th {\n",
       "        text-align: right;\n",
       "    }\n",
       "</style>\n",
       "<table border=\"1\" class=\"dataframe\">\n",
       "  <thead>\n",
       "    <tr style=\"text-align: right;\">\n",
       "      <th></th>\n",
       "      <th></th>\n",
       "      <th>907200000</th>\n",
       "      <th>907286400</th>\n",
       "      <th>907372800</th>\n",
       "      <th>907459200</th>\n",
       "      <th>907545600</th>\n",
       "      <th>907632000</th>\n",
       "      <th>907718400</th>\n",
       "      <th>907804800</th>\n",
       "      <th>907891200</th>\n",
       "      <th>907977600</th>\n",
       "      <th>...</th>\n",
       "      <th>1482364800</th>\n",
       "      <th>1482451200</th>\n",
       "      <th>1482537600</th>\n",
       "      <th>1482624000</th>\n",
       "      <th>1482710400</th>\n",
       "      <th>1482796800</th>\n",
       "      <th>1482883200</th>\n",
       "      <th>1482969600</th>\n",
       "      <th>1483056000</th>\n",
       "      <th>1483142400</th>\n",
       "    </tr>\n",
       "    <tr>\n",
       "      <th>latitude</th>\n",
       "      <th>longitude</th>\n",
       "      <th></th>\n",
       "      <th></th>\n",
       "      <th></th>\n",
       "      <th></th>\n",
       "      <th></th>\n",
       "      <th></th>\n",
       "      <th></th>\n",
       "      <th></th>\n",
       "      <th></th>\n",
       "      <th></th>\n",
       "      <th></th>\n",
       "      <th></th>\n",
       "      <th></th>\n",
       "      <th></th>\n",
       "      <th></th>\n",
       "      <th></th>\n",
       "      <th></th>\n",
       "      <th></th>\n",
       "      <th></th>\n",
       "      <th></th>\n",
       "      <th></th>\n",
       "    </tr>\n",
       "  </thead>\n",
       "  <tbody>\n",
       "    <tr>\n",
       "      <th rowspan=\"5\" valign=\"top\">40.375</th>\n",
       "      <th>94.375</th>\n",
       "      <td>0.0</td>\n",
       "      <td>0.0</td>\n",
       "      <td>0.0</td>\n",
       "      <td>0.0</td>\n",
       "      <td>0.0</td>\n",
       "      <td>0.0</td>\n",
       "      <td>0.0</td>\n",
       "      <td>0.0</td>\n",
       "      <td>0.0</td>\n",
       "      <td>0.000</td>\n",
       "      <td>...</td>\n",
       "      <td>0.0</td>\n",
       "      <td>4.914773</td>\n",
       "      <td>0.0</td>\n",
       "      <td>0.0</td>\n",
       "      <td>0.0</td>\n",
       "      <td>0.0</td>\n",
       "      <td>0.0</td>\n",
       "      <td>0.0</td>\n",
       "      <td>0.0</td>\n",
       "      <td>0.0</td>\n",
       "    </tr>\n",
       "    <tr>\n",
       "      <th>95.125</th>\n",
       "      <td>0.0</td>\n",
       "      <td>0.0</td>\n",
       "      <td>0.0</td>\n",
       "      <td>0.0</td>\n",
       "      <td>0.0</td>\n",
       "      <td>0.0</td>\n",
       "      <td>0.0</td>\n",
       "      <td>0.0</td>\n",
       "      <td>0.0</td>\n",
       "      <td>1.152</td>\n",
       "      <td>...</td>\n",
       "      <td>0.0</td>\n",
       "      <td>0.749344</td>\n",
       "      <td>0.0</td>\n",
       "      <td>0.0</td>\n",
       "      <td>0.0</td>\n",
       "      <td>0.0</td>\n",
       "      <td>0.0</td>\n",
       "      <td>0.0</td>\n",
       "      <td>0.0</td>\n",
       "      <td>0.0</td>\n",
       "    </tr>\n",
       "    <tr>\n",
       "      <th>95.875</th>\n",
       "      <td>0.0</td>\n",
       "      <td>0.0</td>\n",
       "      <td>0.0</td>\n",
       "      <td>0.0</td>\n",
       "      <td>0.0</td>\n",
       "      <td>0.0</td>\n",
       "      <td>0.0</td>\n",
       "      <td>0.0</td>\n",
       "      <td>0.0</td>\n",
       "      <td>3.582</td>\n",
       "      <td>...</td>\n",
       "      <td>0.0</td>\n",
       "      <td>0.000000</td>\n",
       "      <td>0.0</td>\n",
       "      <td>0.0</td>\n",
       "      <td>0.0</td>\n",
       "      <td>0.0</td>\n",
       "      <td>0.0</td>\n",
       "      <td>0.0</td>\n",
       "      <td>0.0</td>\n",
       "      <td>0.0</td>\n",
       "    </tr>\n",
       "    <tr>\n",
       "      <th>96.625</th>\n",
       "      <td>0.0</td>\n",
       "      <td>0.0</td>\n",
       "      <td>0.0</td>\n",
       "      <td>0.0</td>\n",
       "      <td>0.0</td>\n",
       "      <td>0.0</td>\n",
       "      <td>0.0</td>\n",
       "      <td>0.0</td>\n",
       "      <td>0.0</td>\n",
       "      <td>1.218</td>\n",
       "      <td>...</td>\n",
       "      <td>0.0</td>\n",
       "      <td>0.000000</td>\n",
       "      <td>0.0</td>\n",
       "      <td>0.0</td>\n",
       "      <td>0.0</td>\n",
       "      <td>0.0</td>\n",
       "      <td>0.0</td>\n",
       "      <td>0.0</td>\n",
       "      <td>0.0</td>\n",
       "      <td>0.0</td>\n",
       "    </tr>\n",
       "    <tr>\n",
       "      <th>97.375</th>\n",
       "      <td>0.0</td>\n",
       "      <td>0.0</td>\n",
       "      <td>0.0</td>\n",
       "      <td>0.0</td>\n",
       "      <td>0.0</td>\n",
       "      <td>0.0</td>\n",
       "      <td>0.0</td>\n",
       "      <td>0.0</td>\n",
       "      <td>0.0</td>\n",
       "      <td>0.756</td>\n",
       "      <td>...</td>\n",
       "      <td>0.0</td>\n",
       "      <td>0.000000</td>\n",
       "      <td>0.0</td>\n",
       "      <td>0.0</td>\n",
       "      <td>0.0</td>\n",
       "      <td>0.0</td>\n",
       "      <td>0.0</td>\n",
       "      <td>0.0</td>\n",
       "      <td>0.0</td>\n",
       "      <td>0.0</td>\n",
       "    </tr>\n",
       "  </tbody>\n",
       "</table>\n",
       "<p>5 rows × 1748 columns</p>\n",
       "</div>"
      ],
      "text/plain": [
       "                    907200000   907286400   907372800   907459200   \\\n",
       "latitude longitude                                                   \n",
       "40.375   94.375            0.0         0.0         0.0         0.0   \n",
       "         95.125            0.0         0.0         0.0         0.0   \n",
       "         95.875            0.0         0.0         0.0         0.0   \n",
       "         96.625            0.0         0.0         0.0         0.0   \n",
       "         97.375            0.0         0.0         0.0         0.0   \n",
       "\n",
       "                    907545600   907632000   907718400   907804800   \\\n",
       "latitude longitude                                                   \n",
       "40.375   94.375            0.0         0.0         0.0         0.0   \n",
       "         95.125            0.0         0.0         0.0         0.0   \n",
       "         95.875            0.0         0.0         0.0         0.0   \n",
       "         96.625            0.0         0.0         0.0         0.0   \n",
       "         97.375            0.0         0.0         0.0         0.0   \n",
       "\n",
       "                    907891200   907977600      ...      1482364800  \\\n",
       "latitude longitude                             ...                   \n",
       "40.375   94.375            0.0       0.000     ...             0.0   \n",
       "         95.125            0.0       1.152     ...             0.0   \n",
       "         95.875            0.0       3.582     ...             0.0   \n",
       "         96.625            0.0       1.218     ...             0.0   \n",
       "         97.375            0.0       0.756     ...             0.0   \n",
       "\n",
       "                    1482451200  1482537600  1482624000  1482710400  \\\n",
       "latitude longitude                                                   \n",
       "40.375   94.375       4.914773         0.0         0.0         0.0   \n",
       "         95.125       0.749344         0.0         0.0         0.0   \n",
       "         95.875       0.000000         0.0         0.0         0.0   \n",
       "         96.625       0.000000         0.0         0.0         0.0   \n",
       "         97.375       0.000000         0.0         0.0         0.0   \n",
       "\n",
       "                    1482796800  1482883200  1482969600  1483056000  1483142400  \n",
       "latitude longitude                                                              \n",
       "40.375   94.375            0.0         0.0         0.0         0.0         0.0  \n",
       "         95.125            0.0         0.0         0.0         0.0         0.0  \n",
       "         95.875            0.0         0.0         0.0         0.0         0.0  \n",
       "         96.625            0.0         0.0         0.0         0.0         0.0  \n",
       "         97.375            0.0         0.0         0.0         0.0         0.0  \n",
       "\n",
       "[5 rows x 1748 columns]"
      ]
     },
     "execution_count": 13,
     "metadata": {},
     "output_type": "execute_result"
    }
   ],
   "source": [
    "ond_df.tail()"
   ]
  },
  {
   "cell_type": "code",
   "execution_count": 14,
   "metadata": {},
   "outputs": [
    {
     "data": {
      "text/html": [
       "<div>\n",
       "<style scoped>\n",
       "    .dataframe tbody tr th:only-of-type {\n",
       "        vertical-align: middle;\n",
       "    }\n",
       "\n",
       "    .dataframe tbody tr th {\n",
       "        vertical-align: top;\n",
       "    }\n",
       "\n",
       "    .dataframe thead tr th {\n",
       "        text-align: left;\n",
       "    }\n",
       "\n",
       "    .dataframe thead tr:last-of-type th {\n",
       "        text-align: right;\n",
       "    }\n",
       "</style>\n",
       "<table border=\"1\" class=\"dataframe\">\n",
       "  <thead>\n",
       "    <tr>\n",
       "      <th></th>\n",
       "      <th colspan=\"5\" halign=\"left\">907200000</th>\n",
       "    </tr>\n",
       "    <tr>\n",
       "      <th>longitude</th>\n",
       "      <th>61.375</th>\n",
       "      <th>62.125</th>\n",
       "      <th>62.875</th>\n",
       "      <th>63.625</th>\n",
       "      <th>64.375</th>\n",
       "    </tr>\n",
       "    <tr>\n",
       "      <th>latitude</th>\n",
       "      <th></th>\n",
       "      <th></th>\n",
       "      <th></th>\n",
       "      <th></th>\n",
       "      <th></th>\n",
       "    </tr>\n",
       "  </thead>\n",
       "  <tbody>\n",
       "    <tr>\n",
       "      <th>4.375</th>\n",
       "      <td>28.890000</td>\n",
       "      <td>18.209999</td>\n",
       "      <td>81.119998</td>\n",
       "      <td>130.979993</td>\n",
       "      <td>138.509996</td>\n",
       "    </tr>\n",
       "    <tr>\n",
       "      <th>5.125</th>\n",
       "      <td>32.309999</td>\n",
       "      <td>50.159998</td>\n",
       "      <td>102.479995</td>\n",
       "      <td>103.859995</td>\n",
       "      <td>54.359998</td>\n",
       "    </tr>\n",
       "    <tr>\n",
       "      <th>5.875</th>\n",
       "      <td>12.330000</td>\n",
       "      <td>46.919999</td>\n",
       "      <td>71.399997</td>\n",
       "      <td>72.089999</td>\n",
       "      <td>69.029996</td>\n",
       "    </tr>\n",
       "    <tr>\n",
       "      <th>6.625</th>\n",
       "      <td>3.360000</td>\n",
       "      <td>7.230000</td>\n",
       "      <td>24.150000</td>\n",
       "      <td>72.299999</td>\n",
       "      <td>58.860000</td>\n",
       "    </tr>\n",
       "    <tr>\n",
       "      <th>7.375</th>\n",
       "      <td>0.000000</td>\n",
       "      <td>0.120000</td>\n",
       "      <td>0.240000</td>\n",
       "      <td>6.210000</td>\n",
       "      <td>20.910000</td>\n",
       "    </tr>\n",
       "  </tbody>\n",
       "</table>\n",
       "</div>"
      ],
      "text/plain": [
       "           907200000                                               \n",
       "longitude     61.375     62.125      62.875      63.625      64.375\n",
       "latitude                                                           \n",
       "4.375      28.890000  18.209999   81.119998  130.979993  138.509996\n",
       "5.125      32.309999  50.159998  102.479995  103.859995   54.359998\n",
       "5.875      12.330000  46.919999   71.399997   72.089999   69.029996\n",
       "6.625       3.360000   7.230000   24.150000   72.299999   58.860000\n",
       "7.375       0.000000   0.120000    0.240000    6.210000   20.910000"
      ]
     },
     "execution_count": 14,
     "metadata": {},
     "output_type": "execute_result"
    }
   ],
   "source": [
    "ond_df.unstack(-1).iloc[:5, :5]"
   ]
  },
  {
   "cell_type": "code",
   "execution_count": 15,
   "metadata": {},
   "outputs": [
    {
     "data": {
      "text/plain": [
       "144.0569965839386"
      ]
     },
     "execution_count": 15,
     "metadata": {},
     "output_type": "execute_result"
    }
   ],
   "source": [
    "ond_df.iloc[0].quantile(0.9)"
   ]
  },
  {
   "cell_type": "markdown",
   "metadata": {},
   "source": [
    "## Extraction of Extreme Events\n",
    "\n",
    "Events are regarded as extreme events if they fall above the 90% quantile of the entire time-series."
   ]
  },
  {
   "cell_type": "code",
   "execution_count": 16,
   "metadata": {},
   "outputs": [],
   "source": [
    "EE_QUANTILE = 0.9"
   ]
  },
  {
   "cell_type": "markdown",
   "metadata": {},
   "source": [
    "### Pre-Monsoon (MAM)"
   ]
  },
  {
   "cell_type": "code",
   "execution_count": 17,
   "metadata": {},
   "outputs": [
    {
     "data": {
      "text/html": [
       "<div>\n",
       "<style scoped>\n",
       "    .dataframe tbody tr th:only-of-type {\n",
       "        vertical-align: middle;\n",
       "    }\n",
       "\n",
       "    .dataframe tbody tr th {\n",
       "        vertical-align: top;\n",
       "    }\n",
       "\n",
       "    .dataframe thead th {\n",
       "        text-align: right;\n",
       "    }\n",
       "</style>\n",
       "<table border=\"1\" class=\"dataframe\">\n",
       "  <thead>\n",
       "    <tr style=\"text-align: right;\">\n",
       "      <th></th>\n",
       "      <th></th>\n",
       "      <th>0</th>\n",
       "      <th>888710400</th>\n",
       "      <th>888796800</th>\n",
       "      <th>888883200</th>\n",
       "      <th>888969600</th>\n",
       "      <th>889056000</th>\n",
       "      <th>889142400</th>\n",
       "      <th>889228800</th>\n",
       "      <th>889315200</th>\n",
       "      <th>889401600</th>\n",
       "      <th>...</th>\n",
       "      <th>1463961600</th>\n",
       "      <th>1464048000</th>\n",
       "      <th>1464134400</th>\n",
       "      <th>1464220800</th>\n",
       "      <th>1464307200</th>\n",
       "      <th>1464393600</th>\n",
       "      <th>1464480000</th>\n",
       "      <th>1464566400</th>\n",
       "      <th>1464652800</th>\n",
       "      <th>999999999999</th>\n",
       "    </tr>\n",
       "    <tr>\n",
       "      <th>latitude</th>\n",
       "      <th>longitude</th>\n",
       "      <th></th>\n",
       "      <th></th>\n",
       "      <th></th>\n",
       "      <th></th>\n",
       "      <th></th>\n",
       "      <th></th>\n",
       "      <th></th>\n",
       "      <th></th>\n",
       "      <th></th>\n",
       "      <th></th>\n",
       "      <th></th>\n",
       "      <th></th>\n",
       "      <th></th>\n",
       "      <th></th>\n",
       "      <th></th>\n",
       "      <th></th>\n",
       "      <th></th>\n",
       "      <th></th>\n",
       "      <th></th>\n",
       "      <th></th>\n",
       "      <th></th>\n",
       "    </tr>\n",
       "  </thead>\n",
       "  <tbody>\n",
       "    <tr>\n",
       "      <th rowspan=\"5\" valign=\"top\">4.375</th>\n",
       "      <th>61.375</th>\n",
       "      <td>True</td>\n",
       "      <td>False</td>\n",
       "      <td>False</td>\n",
       "      <td>False</td>\n",
       "      <td>False</td>\n",
       "      <td>False</td>\n",
       "      <td>False</td>\n",
       "      <td>False</td>\n",
       "      <td>False</td>\n",
       "      <td>False</td>\n",
       "      <td>...</td>\n",
       "      <td>False</td>\n",
       "      <td>False</td>\n",
       "      <td>False</td>\n",
       "      <td>False</td>\n",
       "      <td>False</td>\n",
       "      <td>False</td>\n",
       "      <td>False</td>\n",
       "      <td>False</td>\n",
       "      <td>False</td>\n",
       "      <td>True</td>\n",
       "    </tr>\n",
       "    <tr>\n",
       "      <th>62.125</th>\n",
       "      <td>True</td>\n",
       "      <td>False</td>\n",
       "      <td>False</td>\n",
       "      <td>False</td>\n",
       "      <td>False</td>\n",
       "      <td>False</td>\n",
       "      <td>False</td>\n",
       "      <td>False</td>\n",
       "      <td>False</td>\n",
       "      <td>False</td>\n",
       "      <td>...</td>\n",
       "      <td>False</td>\n",
       "      <td>False</td>\n",
       "      <td>False</td>\n",
       "      <td>False</td>\n",
       "      <td>False</td>\n",
       "      <td>False</td>\n",
       "      <td>False</td>\n",
       "      <td>False</td>\n",
       "      <td>False</td>\n",
       "      <td>True</td>\n",
       "    </tr>\n",
       "    <tr>\n",
       "      <th>62.875</th>\n",
       "      <td>True</td>\n",
       "      <td>False</td>\n",
       "      <td>False</td>\n",
       "      <td>False</td>\n",
       "      <td>False</td>\n",
       "      <td>False</td>\n",
       "      <td>False</td>\n",
       "      <td>False</td>\n",
       "      <td>False</td>\n",
       "      <td>False</td>\n",
       "      <td>...</td>\n",
       "      <td>False</td>\n",
       "      <td>False</td>\n",
       "      <td>False</td>\n",
       "      <td>False</td>\n",
       "      <td>False</td>\n",
       "      <td>False</td>\n",
       "      <td>False</td>\n",
       "      <td>False</td>\n",
       "      <td>False</td>\n",
       "      <td>True</td>\n",
       "    </tr>\n",
       "    <tr>\n",
       "      <th>63.625</th>\n",
       "      <td>True</td>\n",
       "      <td>False</td>\n",
       "      <td>False</td>\n",
       "      <td>False</td>\n",
       "      <td>False</td>\n",
       "      <td>False</td>\n",
       "      <td>False</td>\n",
       "      <td>False</td>\n",
       "      <td>False</td>\n",
       "      <td>False</td>\n",
       "      <td>...</td>\n",
       "      <td>False</td>\n",
       "      <td>False</td>\n",
       "      <td>False</td>\n",
       "      <td>False</td>\n",
       "      <td>False</td>\n",
       "      <td>False</td>\n",
       "      <td>False</td>\n",
       "      <td>False</td>\n",
       "      <td>False</td>\n",
       "      <td>True</td>\n",
       "    </tr>\n",
       "    <tr>\n",
       "      <th>64.375</th>\n",
       "      <td>True</td>\n",
       "      <td>False</td>\n",
       "      <td>False</td>\n",
       "      <td>False</td>\n",
       "      <td>False</td>\n",
       "      <td>False</td>\n",
       "      <td>False</td>\n",
       "      <td>False</td>\n",
       "      <td>False</td>\n",
       "      <td>False</td>\n",
       "      <td>...</td>\n",
       "      <td>False</td>\n",
       "      <td>False</td>\n",
       "      <td>False</td>\n",
       "      <td>False</td>\n",
       "      <td>False</td>\n",
       "      <td>False</td>\n",
       "      <td>False</td>\n",
       "      <td>False</td>\n",
       "      <td>False</td>\n",
       "      <td>True</td>\n",
       "    </tr>\n",
       "  </tbody>\n",
       "</table>\n",
       "<p>5 rows × 1750 columns</p>\n",
       "</div>"
      ],
      "text/plain": [
       "                    0             888710400     888796800     888883200     \\\n",
       "latitude longitude                                                           \n",
       "4.375    61.375             True         False         False         False   \n",
       "         62.125             True         False         False         False   \n",
       "         62.875             True         False         False         False   \n",
       "         63.625             True         False         False         False   \n",
       "         64.375             True         False         False         False   \n",
       "\n",
       "                    888969600     889056000     889142400     889228800     \\\n",
       "latitude longitude                                                           \n",
       "4.375    61.375            False         False         False         False   \n",
       "         62.125            False         False         False         False   \n",
       "         62.875            False         False         False         False   \n",
       "         63.625            False         False         False         False   \n",
       "         64.375            False         False         False         False   \n",
       "\n",
       "                    889315200     889401600         ...       1463961600    \\\n",
       "latitude longitude                                  ...                      \n",
       "4.375    61.375            False         False      ...              False   \n",
       "         62.125            False         False      ...              False   \n",
       "         62.875            False         False      ...              False   \n",
       "         63.625            False         False      ...              False   \n",
       "         64.375            False         False      ...              False   \n",
       "\n",
       "                    1464048000    1464134400    1464220800    1464307200    \\\n",
       "latitude longitude                                                           \n",
       "4.375    61.375            False         False         False         False   \n",
       "         62.125            False         False         False         False   \n",
       "         62.875            False         False         False         False   \n",
       "         63.625            False         False         False         False   \n",
       "         64.375            False         False         False         False   \n",
       "\n",
       "                    1464393600    1464480000    1464566400    1464652800    \\\n",
       "latitude longitude                                                           \n",
       "4.375    61.375            False         False         False         False   \n",
       "         62.125            False         False         False         False   \n",
       "         62.875            False         False         False         False   \n",
       "         63.625            False         False         False         False   \n",
       "         64.375            False         False         False         False   \n",
       "\n",
       "                    999999999999  \n",
       "latitude longitude                \n",
       "4.375    61.375             True  \n",
       "         62.125             True  \n",
       "         62.875             True  \n",
       "         63.625             True  \n",
       "         64.375             True  \n",
       "\n",
       "[5 rows x 1750 columns]"
      ]
     },
     "execution_count": 17,
     "metadata": {},
     "output_type": "execute_result"
    }
   ],
   "source": [
    "# extract extreme events from the dataset\n",
    "# results in a matrix of boolean values for Extreme/Non-Extreme\n",
    "\n",
    "mam_extreme_events = TRMM.extract_extreme_events(mam_df, quantile=EE_QUANTILE)\n",
    "mam_extreme_events.head()"
   ]
  },
  {
   "cell_type": "code",
   "execution_count": 18,
   "metadata": {},
   "outputs": [
    {
     "data": {
      "text/plain": [
       "0            True\n",
       "890265600    True\n",
       "891043200    True\n",
       "891216000    True\n",
       "892598400    True\n",
       "Name: (4.375, 61.375), dtype: bool"
      ]
     },
     "execution_count": 18,
     "metadata": {},
     "output_type": "execute_result"
    }
   ],
   "source": [
    "# print only the events that are extreme for the very first row\n",
    "\n",
    "mam_extreme_events.iloc[0][mam_extreme_events.iloc[0]].head()"
   ]
  },
  {
   "cell_type": "markdown",
   "metadata": {},
   "source": [
    "### Monsoon (JJAS)"
   ]
  },
  {
   "cell_type": "code",
   "execution_count": 19,
   "metadata": {},
   "outputs": [
    {
     "data": {
      "text/html": [
       "<div>\n",
       "<style scoped>\n",
       "    .dataframe tbody tr th:only-of-type {\n",
       "        vertical-align: middle;\n",
       "    }\n",
       "\n",
       "    .dataframe tbody tr th {\n",
       "        vertical-align: top;\n",
       "    }\n",
       "\n",
       "    .dataframe thead th {\n",
       "        text-align: right;\n",
       "    }\n",
       "</style>\n",
       "<table border=\"1\" class=\"dataframe\">\n",
       "  <thead>\n",
       "    <tr style=\"text-align: right;\">\n",
       "      <th></th>\n",
       "      <th></th>\n",
       "      <th>0</th>\n",
       "      <th>896659200</th>\n",
       "      <th>896745600</th>\n",
       "      <th>896832000</th>\n",
       "      <th>896918400</th>\n",
       "      <th>897004800</th>\n",
       "      <th>897091200</th>\n",
       "      <th>897177600</th>\n",
       "      <th>897264000</th>\n",
       "      <th>897350400</th>\n",
       "      <th>...</th>\n",
       "      <th>1474502400</th>\n",
       "      <th>1474588800</th>\n",
       "      <th>1474675200</th>\n",
       "      <th>1474761600</th>\n",
       "      <th>1474848000</th>\n",
       "      <th>1474934400</th>\n",
       "      <th>1475020800</th>\n",
       "      <th>1475107200</th>\n",
       "      <th>1475193600</th>\n",
       "      <th>999999999999</th>\n",
       "    </tr>\n",
       "    <tr>\n",
       "      <th>latitude</th>\n",
       "      <th>longitude</th>\n",
       "      <th></th>\n",
       "      <th></th>\n",
       "      <th></th>\n",
       "      <th></th>\n",
       "      <th></th>\n",
       "      <th></th>\n",
       "      <th></th>\n",
       "      <th></th>\n",
       "      <th></th>\n",
       "      <th></th>\n",
       "      <th></th>\n",
       "      <th></th>\n",
       "      <th></th>\n",
       "      <th></th>\n",
       "      <th></th>\n",
       "      <th></th>\n",
       "      <th></th>\n",
       "      <th></th>\n",
       "      <th></th>\n",
       "      <th></th>\n",
       "      <th></th>\n",
       "    </tr>\n",
       "  </thead>\n",
       "  <tbody>\n",
       "    <tr>\n",
       "      <th rowspan=\"5\" valign=\"top\">4.375</th>\n",
       "      <th>61.375</th>\n",
       "      <td>True</td>\n",
       "      <td>False</td>\n",
       "      <td>False</td>\n",
       "      <td>False</td>\n",
       "      <td>False</td>\n",
       "      <td>False</td>\n",
       "      <td>False</td>\n",
       "      <td>False</td>\n",
       "      <td>False</td>\n",
       "      <td>False</td>\n",
       "      <td>...</td>\n",
       "      <td>False</td>\n",
       "      <td>False</td>\n",
       "      <td>False</td>\n",
       "      <td>False</td>\n",
       "      <td>False</td>\n",
       "      <td>False</td>\n",
       "      <td>False</td>\n",
       "      <td>False</td>\n",
       "      <td>False</td>\n",
       "      <td>True</td>\n",
       "    </tr>\n",
       "    <tr>\n",
       "      <th>62.125</th>\n",
       "      <td>True</td>\n",
       "      <td>False</td>\n",
       "      <td>False</td>\n",
       "      <td>False</td>\n",
       "      <td>False</td>\n",
       "      <td>False</td>\n",
       "      <td>False</td>\n",
       "      <td>False</td>\n",
       "      <td>False</td>\n",
       "      <td>False</td>\n",
       "      <td>...</td>\n",
       "      <td>False</td>\n",
       "      <td>False</td>\n",
       "      <td>False</td>\n",
       "      <td>False</td>\n",
       "      <td>False</td>\n",
       "      <td>False</td>\n",
       "      <td>False</td>\n",
       "      <td>False</td>\n",
       "      <td>False</td>\n",
       "      <td>True</td>\n",
       "    </tr>\n",
       "    <tr>\n",
       "      <th>62.875</th>\n",
       "      <td>True</td>\n",
       "      <td>False</td>\n",
       "      <td>False</td>\n",
       "      <td>False</td>\n",
       "      <td>False</td>\n",
       "      <td>False</td>\n",
       "      <td>False</td>\n",
       "      <td>False</td>\n",
       "      <td>False</td>\n",
       "      <td>False</td>\n",
       "      <td>...</td>\n",
       "      <td>False</td>\n",
       "      <td>False</td>\n",
       "      <td>False</td>\n",
       "      <td>False</td>\n",
       "      <td>False</td>\n",
       "      <td>False</td>\n",
       "      <td>False</td>\n",
       "      <td>False</td>\n",
       "      <td>False</td>\n",
       "      <td>True</td>\n",
       "    </tr>\n",
       "    <tr>\n",
       "      <th>63.625</th>\n",
       "      <td>True</td>\n",
       "      <td>False</td>\n",
       "      <td>False</td>\n",
       "      <td>False</td>\n",
       "      <td>False</td>\n",
       "      <td>False</td>\n",
       "      <td>False</td>\n",
       "      <td>False</td>\n",
       "      <td>False</td>\n",
       "      <td>False</td>\n",
       "      <td>...</td>\n",
       "      <td>False</td>\n",
       "      <td>False</td>\n",
       "      <td>False</td>\n",
       "      <td>False</td>\n",
       "      <td>False</td>\n",
       "      <td>False</td>\n",
       "      <td>False</td>\n",
       "      <td>False</td>\n",
       "      <td>False</td>\n",
       "      <td>True</td>\n",
       "    </tr>\n",
       "    <tr>\n",
       "      <th>64.375</th>\n",
       "      <td>True</td>\n",
       "      <td>False</td>\n",
       "      <td>False</td>\n",
       "      <td>False</td>\n",
       "      <td>False</td>\n",
       "      <td>False</td>\n",
       "      <td>False</td>\n",
       "      <td>False</td>\n",
       "      <td>False</td>\n",
       "      <td>False</td>\n",
       "      <td>...</td>\n",
       "      <td>False</td>\n",
       "      <td>False</td>\n",
       "      <td>False</td>\n",
       "      <td>False</td>\n",
       "      <td>False</td>\n",
       "      <td>False</td>\n",
       "      <td>False</td>\n",
       "      <td>False</td>\n",
       "      <td>False</td>\n",
       "      <td>True</td>\n",
       "    </tr>\n",
       "  </tbody>\n",
       "</table>\n",
       "<p>5 rows × 2320 columns</p>\n",
       "</div>"
      ],
      "text/plain": [
       "                    0             896659200     896745600     896832000     \\\n",
       "latitude longitude                                                           \n",
       "4.375    61.375             True         False         False         False   \n",
       "         62.125             True         False         False         False   \n",
       "         62.875             True         False         False         False   \n",
       "         63.625             True         False         False         False   \n",
       "         64.375             True         False         False         False   \n",
       "\n",
       "                    896918400     897004800     897091200     897177600     \\\n",
       "latitude longitude                                                           \n",
       "4.375    61.375            False         False         False         False   \n",
       "         62.125            False         False         False         False   \n",
       "         62.875            False         False         False         False   \n",
       "         63.625            False         False         False         False   \n",
       "         64.375            False         False         False         False   \n",
       "\n",
       "                    897264000     897350400         ...       1474502400    \\\n",
       "latitude longitude                                  ...                      \n",
       "4.375    61.375            False         False      ...              False   \n",
       "         62.125            False         False      ...              False   \n",
       "         62.875            False         False      ...              False   \n",
       "         63.625            False         False      ...              False   \n",
       "         64.375            False         False      ...              False   \n",
       "\n",
       "                    1474588800    1474675200    1474761600    1474848000    \\\n",
       "latitude longitude                                                           \n",
       "4.375    61.375            False         False         False         False   \n",
       "         62.125            False         False         False         False   \n",
       "         62.875            False         False         False         False   \n",
       "         63.625            False         False         False         False   \n",
       "         64.375            False         False         False         False   \n",
       "\n",
       "                    1474934400    1475020800    1475107200    1475193600    \\\n",
       "latitude longitude                                                           \n",
       "4.375    61.375            False         False         False         False   \n",
       "         62.125            False         False         False         False   \n",
       "         62.875            False         False         False         False   \n",
       "         63.625            False         False         False         False   \n",
       "         64.375            False         False         False         False   \n",
       "\n",
       "                    999999999999  \n",
       "latitude longitude                \n",
       "4.375    61.375             True  \n",
       "         62.125             True  \n",
       "         62.875             True  \n",
       "         63.625             True  \n",
       "         64.375             True  \n",
       "\n",
       "[5 rows x 2320 columns]"
      ]
     },
     "execution_count": 19,
     "metadata": {},
     "output_type": "execute_result"
    }
   ],
   "source": [
    "# calculate extreme events for JJAS\n",
    "\n",
    "jjas_extreme_events = TRMM.extract_extreme_events(jjas_df, quantile=EE_QUANTILE)\n",
    "jjas_extreme_events.head()"
   ]
  },
  {
   "cell_type": "code",
   "execution_count": 20,
   "metadata": {},
   "outputs": [
    {
     "data": {
      "text/plain": [
       "0            True\n",
       "898732800    True\n",
       "898819200    True\n",
       "899078400    True\n",
       "899164800    True\n",
       "Name: (4.375, 61.375), dtype: bool"
      ]
     },
     "execution_count": 20,
     "metadata": {},
     "output_type": "execute_result"
    }
   ],
   "source": [
    "# print only the events that are extreme for the very first row\n",
    "\n",
    "jjas_extreme_events.iloc[0][jjas_extreme_events.iloc[0]].head()"
   ]
  },
  {
   "cell_type": "markdown",
   "metadata": {},
   "source": [
    "### Post-Monsoon (OND)"
   ]
  },
  {
   "cell_type": "code",
   "execution_count": 21,
   "metadata": {},
   "outputs": [
    {
     "data": {
      "text/html": [
       "<div>\n",
       "<style scoped>\n",
       "    .dataframe tbody tr th:only-of-type {\n",
       "        vertical-align: middle;\n",
       "    }\n",
       "\n",
       "    .dataframe tbody tr th {\n",
       "        vertical-align: top;\n",
       "    }\n",
       "\n",
       "    .dataframe thead th {\n",
       "        text-align: right;\n",
       "    }\n",
       "</style>\n",
       "<table border=\"1\" class=\"dataframe\">\n",
       "  <thead>\n",
       "    <tr style=\"text-align: right;\">\n",
       "      <th></th>\n",
       "      <th></th>\n",
       "      <th>0</th>\n",
       "      <th>907200000</th>\n",
       "      <th>907286400</th>\n",
       "      <th>907372800</th>\n",
       "      <th>907459200</th>\n",
       "      <th>907545600</th>\n",
       "      <th>907632000</th>\n",
       "      <th>907718400</th>\n",
       "      <th>907804800</th>\n",
       "      <th>907891200</th>\n",
       "      <th>...</th>\n",
       "      <th>1482451200</th>\n",
       "      <th>1482537600</th>\n",
       "      <th>1482624000</th>\n",
       "      <th>1482710400</th>\n",
       "      <th>1482796800</th>\n",
       "      <th>1482883200</th>\n",
       "      <th>1482969600</th>\n",
       "      <th>1483056000</th>\n",
       "      <th>1483142400</th>\n",
       "      <th>999999999999</th>\n",
       "    </tr>\n",
       "    <tr>\n",
       "      <th>latitude</th>\n",
       "      <th>longitude</th>\n",
       "      <th></th>\n",
       "      <th></th>\n",
       "      <th></th>\n",
       "      <th></th>\n",
       "      <th></th>\n",
       "      <th></th>\n",
       "      <th></th>\n",
       "      <th></th>\n",
       "      <th></th>\n",
       "      <th></th>\n",
       "      <th></th>\n",
       "      <th></th>\n",
       "      <th></th>\n",
       "      <th></th>\n",
       "      <th></th>\n",
       "      <th></th>\n",
       "      <th></th>\n",
       "      <th></th>\n",
       "      <th></th>\n",
       "      <th></th>\n",
       "      <th></th>\n",
       "    </tr>\n",
       "  </thead>\n",
       "  <tbody>\n",
       "    <tr>\n",
       "      <th rowspan=\"5\" valign=\"top\">4.375</th>\n",
       "      <th>61.375</th>\n",
       "      <td>True</td>\n",
       "      <td>False</td>\n",
       "      <td>True</td>\n",
       "      <td>False</td>\n",
       "      <td>False</td>\n",
       "      <td>False</td>\n",
       "      <td>True</td>\n",
       "      <td>True</td>\n",
       "      <td>False</td>\n",
       "      <td>False</td>\n",
       "      <td>...</td>\n",
       "      <td>False</td>\n",
       "      <td>False</td>\n",
       "      <td>False</td>\n",
       "      <td>False</td>\n",
       "      <td>False</td>\n",
       "      <td>False</td>\n",
       "      <td>False</td>\n",
       "      <td>False</td>\n",
       "      <td>False</td>\n",
       "      <td>True</td>\n",
       "    </tr>\n",
       "    <tr>\n",
       "      <th>62.125</th>\n",
       "      <td>True</td>\n",
       "      <td>False</td>\n",
       "      <td>True</td>\n",
       "      <td>False</td>\n",
       "      <td>False</td>\n",
       "      <td>False</td>\n",
       "      <td>True</td>\n",
       "      <td>True</td>\n",
       "      <td>False</td>\n",
       "      <td>False</td>\n",
       "      <td>...</td>\n",
       "      <td>False</td>\n",
       "      <td>False</td>\n",
       "      <td>False</td>\n",
       "      <td>False</td>\n",
       "      <td>False</td>\n",
       "      <td>False</td>\n",
       "      <td>False</td>\n",
       "      <td>False</td>\n",
       "      <td>False</td>\n",
       "      <td>True</td>\n",
       "    </tr>\n",
       "    <tr>\n",
       "      <th>62.875</th>\n",
       "      <td>True</td>\n",
       "      <td>False</td>\n",
       "      <td>True</td>\n",
       "      <td>False</td>\n",
       "      <td>False</td>\n",
       "      <td>False</td>\n",
       "      <td>False</td>\n",
       "      <td>True</td>\n",
       "      <td>False</td>\n",
       "      <td>False</td>\n",
       "      <td>...</td>\n",
       "      <td>False</td>\n",
       "      <td>False</td>\n",
       "      <td>False</td>\n",
       "      <td>False</td>\n",
       "      <td>False</td>\n",
       "      <td>False</td>\n",
       "      <td>False</td>\n",
       "      <td>False</td>\n",
       "      <td>False</td>\n",
       "      <td>True</td>\n",
       "    </tr>\n",
       "    <tr>\n",
       "      <th>63.625</th>\n",
       "      <td>True</td>\n",
       "      <td>False</td>\n",
       "      <td>True</td>\n",
       "      <td>True</td>\n",
       "      <td>False</td>\n",
       "      <td>False</td>\n",
       "      <td>False</td>\n",
       "      <td>True</td>\n",
       "      <td>False</td>\n",
       "      <td>False</td>\n",
       "      <td>...</td>\n",
       "      <td>False</td>\n",
       "      <td>False</td>\n",
       "      <td>False</td>\n",
       "      <td>False</td>\n",
       "      <td>False</td>\n",
       "      <td>False</td>\n",
       "      <td>False</td>\n",
       "      <td>False</td>\n",
       "      <td>False</td>\n",
       "      <td>True</td>\n",
       "    </tr>\n",
       "    <tr>\n",
       "      <th>64.375</th>\n",
       "      <td>True</td>\n",
       "      <td>False</td>\n",
       "      <td>True</td>\n",
       "      <td>False</td>\n",
       "      <td>False</td>\n",
       "      <td>False</td>\n",
       "      <td>False</td>\n",
       "      <td>True</td>\n",
       "      <td>False</td>\n",
       "      <td>False</td>\n",
       "      <td>...</td>\n",
       "      <td>False</td>\n",
       "      <td>False</td>\n",
       "      <td>False</td>\n",
       "      <td>False</td>\n",
       "      <td>False</td>\n",
       "      <td>False</td>\n",
       "      <td>False</td>\n",
       "      <td>False</td>\n",
       "      <td>False</td>\n",
       "      <td>True</td>\n",
       "    </tr>\n",
       "  </tbody>\n",
       "</table>\n",
       "<p>5 rows × 1750 columns</p>\n",
       "</div>"
      ],
      "text/plain": [
       "                    0             907200000     907286400     907372800     \\\n",
       "latitude longitude                                                           \n",
       "4.375    61.375             True         False          True         False   \n",
       "         62.125             True         False          True         False   \n",
       "         62.875             True         False          True         False   \n",
       "         63.625             True         False          True          True   \n",
       "         64.375             True         False          True         False   \n",
       "\n",
       "                    907459200     907545600     907632000     907718400     \\\n",
       "latitude longitude                                                           \n",
       "4.375    61.375            False         False          True          True   \n",
       "         62.125            False         False          True          True   \n",
       "         62.875            False         False         False          True   \n",
       "         63.625            False         False         False          True   \n",
       "         64.375            False         False         False          True   \n",
       "\n",
       "                    907804800     907891200         ...       1482451200    \\\n",
       "latitude longitude                                  ...                      \n",
       "4.375    61.375            False         False      ...              False   \n",
       "         62.125            False         False      ...              False   \n",
       "         62.875            False         False      ...              False   \n",
       "         63.625            False         False      ...              False   \n",
       "         64.375            False         False      ...              False   \n",
       "\n",
       "                    1482537600    1482624000    1482710400    1482796800    \\\n",
       "latitude longitude                                                           \n",
       "4.375    61.375            False         False         False         False   \n",
       "         62.125            False         False         False         False   \n",
       "         62.875            False         False         False         False   \n",
       "         63.625            False         False         False         False   \n",
       "         64.375            False         False         False         False   \n",
       "\n",
       "                    1482883200    1482969600    1483056000    1483142400    \\\n",
       "latitude longitude                                                           \n",
       "4.375    61.375            False         False         False         False   \n",
       "         62.125            False         False         False         False   \n",
       "         62.875            False         False         False         False   \n",
       "         63.625            False         False         False         False   \n",
       "         64.375            False         False         False         False   \n",
       "\n",
       "                    999999999999  \n",
       "latitude longitude                \n",
       "4.375    61.375             True  \n",
       "         62.125             True  \n",
       "         62.875             True  \n",
       "         63.625             True  \n",
       "         64.375             True  \n",
       "\n",
       "[5 rows x 1750 columns]"
      ]
     },
     "execution_count": 21,
     "metadata": {},
     "output_type": "execute_result"
    }
   ],
   "source": [
    "# calculate extreme events for OND\n",
    "\n",
    "ond_extreme_events = TRMM.extract_extreme_events(ond_df, quantile=EE_QUANTILE)\n",
    "ond_extreme_events.head()"
   ]
  },
  {
   "cell_type": "code",
   "execution_count": 22,
   "metadata": {},
   "outputs": [
    {
     "data": {
      "text/plain": [
       "0            True\n",
       "907286400    True\n",
       "907632000    True\n",
       "907718400    True\n",
       "908496000    True\n",
       "Name: (4.375, 61.375), dtype: bool"
      ]
     },
     "execution_count": 22,
     "metadata": {},
     "output_type": "execute_result"
    }
   ],
   "source": [
    "# print only the events that are extreme for the very first row\n",
    "ond_extreme_events.iloc[0][ond_extreme_events.iloc[0]].head()"
   ]
  },
  {
   "cell_type": "markdown",
   "metadata": {},
   "source": [
    "## Calculating Event Synchronization\n",
    "\n",
    "For each pair of grid cells, the level of synchronization in extreme events should be calculated."
   ]
  },
  {
   "cell_type": "markdown",
   "metadata": {},
   "source": [
    "### Pre-Monsoon (MAM)"
   ]
  },
  {
   "cell_type": "code",
   "execution_count": 23,
   "metadata": {},
   "outputs": [
    {
     "name": "stdout",
     "output_type": "stream",
     "text": [
      "> Loading from cache...\n"
     ]
    },
    {
     "data": {
      "text/html": [
       "<div>\n",
       "<style scoped>\n",
       "    .dataframe tbody tr th:only-of-type {\n",
       "        vertical-align: middle;\n",
       "    }\n",
       "\n",
       "    .dataframe tbody tr th {\n",
       "        vertical-align: top;\n",
       "    }\n",
       "\n",
       "    .dataframe thead tr th {\n",
       "        text-align: left;\n",
       "    }\n",
       "\n",
       "    .dataframe thead tr:last-of-type th {\n",
       "        text-align: right;\n",
       "    }\n",
       "</style>\n",
       "<table border=\"1\" class=\"dataframe\">\n",
       "  <thead>\n",
       "    <tr>\n",
       "      <th></th>\n",
       "      <th>latitude</th>\n",
       "      <th colspan=\"5\" halign=\"left\">4.375</th>\n",
       "    </tr>\n",
       "    <tr>\n",
       "      <th></th>\n",
       "      <th>longitude</th>\n",
       "      <th>61.375</th>\n",
       "      <th>62.125</th>\n",
       "      <th>62.875</th>\n",
       "      <th>63.625</th>\n",
       "      <th>64.375</th>\n",
       "    </tr>\n",
       "    <tr>\n",
       "      <th>latitude</th>\n",
       "      <th>longitude</th>\n",
       "      <th></th>\n",
       "      <th></th>\n",
       "      <th></th>\n",
       "      <th></th>\n",
       "      <th></th>\n",
       "    </tr>\n",
       "  </thead>\n",
       "  <tbody>\n",
       "    <tr>\n",
       "      <th rowspan=\"5\" valign=\"top\">4.375</th>\n",
       "      <th>61.375</th>\n",
       "      <td>1.000000</td>\n",
       "      <td>0.748571</td>\n",
       "      <td>0.622857</td>\n",
       "      <td>0.588571</td>\n",
       "      <td>0.560000</td>\n",
       "    </tr>\n",
       "    <tr>\n",
       "      <th>62.125</th>\n",
       "      <td>0.748571</td>\n",
       "      <td>1.000000</td>\n",
       "      <td>0.771429</td>\n",
       "      <td>0.662857</td>\n",
       "      <td>0.628571</td>\n",
       "    </tr>\n",
       "    <tr>\n",
       "      <th>62.875</th>\n",
       "      <td>0.622857</td>\n",
       "      <td>0.771429</td>\n",
       "      <td>1.000000</td>\n",
       "      <td>0.748571</td>\n",
       "      <td>0.668571</td>\n",
       "    </tr>\n",
       "    <tr>\n",
       "      <th>63.625</th>\n",
       "      <td>0.588571</td>\n",
       "      <td>0.662857</td>\n",
       "      <td>0.748571</td>\n",
       "      <td>1.000000</td>\n",
       "      <td>0.760000</td>\n",
       "    </tr>\n",
       "    <tr>\n",
       "      <th>64.375</th>\n",
       "      <td>0.560000</td>\n",
       "      <td>0.628571</td>\n",
       "      <td>0.668571</td>\n",
       "      <td>0.760000</td>\n",
       "      <td>1.000000</td>\n",
       "    </tr>\n",
       "  </tbody>\n",
       "</table>\n",
       "</div>"
      ],
      "text/plain": [
       "latitude               4.375                                        \n",
       "longitude             61.375    62.125    62.875    63.625    64.375\n",
       "latitude longitude                                                  \n",
       "4.375    61.375     1.000000  0.748571  0.622857  0.588571  0.560000\n",
       "         62.125     0.748571  1.000000  0.771429  0.662857  0.628571\n",
       "         62.875     0.622857  0.771429  1.000000  0.748571  0.668571\n",
       "         63.625     0.588571  0.662857  0.748571  1.000000  0.760000\n",
       "         64.375     0.560000  0.628571  0.668571  0.760000  1.000000"
      ]
     },
     "execution_count": 23,
     "metadata": {},
     "output_type": "execute_result"
    }
   ],
   "source": [
    "# calculate the synchronization matrix\n",
    "\n",
    "mam_sync_matrix, mam_count_matrix, mam_runtime = TRMM.parallel_calculate_sync_matrix(mam_extreme_events, f'MAM-{EE_QUANTILE}')\n",
    "mam_sync_matrix.iloc[:5, :5]"
   ]
  },
  {
   "cell_type": "code",
   "execution_count": 24,
   "metadata": {
    "scrolled": false
   },
   "outputs": [
    {
     "data": {
      "text/plain": [
       "0"
      ]
     },
     "execution_count": 24,
     "metadata": {},
     "output_type": "execute_result"
    }
   ],
   "source": [
    "mam_sync_matrix.isna().sum().sum()"
   ]
  },
  {
   "cell_type": "code",
   "execution_count": 25,
   "metadata": {},
   "outputs": [
    {
     "name": "stdout",
     "output_type": "stream",
     "text": [
      "<class 'pandas.core.frame.DataFrame'>\n",
      "MultiIndex: 2401 entries, (4.375, 61.375) to (40.375, 97.375)\n",
      "Columns: 2401 entries, (4.375, 61.375) to (40.375, 97.375)\n",
      "dtypes: float32(2401)\n",
      "memory usage: 22.1 MB\n"
     ]
    }
   ],
   "source": [
    "mam_sync_matrix.info()"
   ]
  },
  {
   "cell_type": "code",
   "execution_count": 26,
   "metadata": {},
   "outputs": [
    {
     "data": {
      "image/png": "[encoded data removed]",
      "text/plain": [
       "<matplotlib.figure.Figure at 0x26c68fb85f8>"
      ]
     },
     "metadata": {},
     "output_type": "display_data"
    }
   ],
   "source": [
    "example_matrix = mam_sync_matrix.iloc[:15, :15].copy()\n",
    "\n",
    "fig = plt.figure(figsize=(12, 12))\n",
    "# cbar_kws=dict(fraction=0.046, pad=0.04, label='Strength of synchronization')\n",
    "ax = sns.heatmap(example_matrix, square=True, annot=True, cbar=False, linewidths=3)\n",
    "\n",
    "ax.set_ylabel('Latitude-Longitude', size=20, labelpad=15)\n",
    "ax.set_xlabel('Latitude-Longitude', size=20, labelpad=15)\n",
    "ax.set_xmargin(0)\n",
    "ax.set_ymargin(0)\n",
    "plt.xticks(fontsize=14, rotation=60)\n",
    "plt.yticks(fontsize=14, rotation=0)\n",
    "ax.autoscale_view()\n",
    "ttl = ax.set_title('Section of a TRMM synchronization matrix at 0.75° resolution', size=20)\n",
    "ttl.set_position([0.5, 1.02])\n",
    "plt.tight_layout()\n",
    "plt.savefig('output/trmm_sync_example.png', bbox_inches='tight')"
   ]
  },
  {
   "cell_type": "code",
   "execution_count": 27,
   "metadata": {},
   "outputs": [
    {
     "data": {
      "text/plain": [
       "0.6571428775787354"
      ]
     },
     "execution_count": 27,
     "metadata": {},
     "output_type": "execute_result"
    }
   ],
   "source": [
    "np.fill_diagonal(example_matrix.values, np.nan)\n",
    "gt = np.nanpercentile(example_matrix, 80)\n",
    "gt"
   ]
  },
  {
   "cell_type": "code",
   "execution_count": 28,
   "metadata": {},
   "outputs": [],
   "source": [
    "np.fill_diagonal(example_matrix.values, 0)\n",
    "example_matrix[example_matrix < gt] = 0\n",
    "example_matrix[example_matrix >= gt] = 1"
   ]
  },
  {
   "cell_type": "code",
   "execution_count": 29,
   "metadata": {},
   "outputs": [
    {
     "data": {
      "image/png": "[encoded data removed]",
      "text/plain": [
       "<matplotlib.figure.Figure at 0x26c68fb82b0>"
      ]
     },
     "metadata": {},
     "output_type": "display_data"
    }
   ],
   "source": [
    "fig = plt.figure(figsize=(12, 12))\n",
    "# cbar_kws=dict(fraction=0.046, pad=0.04, label='Strength of synchronization')\n",
    "ax = sns.heatmap(example_matrix, square=True, annot=True, cbar=False, linewidths=3, cmap='binary')\n",
    "ax.set_ylabel('Latitude-Longitude', size=20, labelpad=15)\n",
    "ax.set_xlabel('Latitude-Longitude', size=20, labelpad=15)\n",
    "ax.set_xmargin(0)\n",
    "ax.set_ymargin(0)\n",
    "plt.xticks(fontsize=14, rotation=60)\n",
    "plt.yticks(fontsize=14, rotation=0)\n",
    "ax.autoscale_view()\n",
    "ttl = ax.set_title('Section of a TRMM adjacency matrix at 0.75° resolution', size=20)\n",
    "ttl.set_position([0.5, 1.02])\n",
    "plt.tight_layout()\n",
    "\n",
    "plt.savefig('output/trmm_adjacency_example.png', bbox_inches='tight')"
   ]
  },
  {
   "cell_type": "markdown",
   "metadata": {},
   "source": [
    "### Monsoon (JJAS)"
   ]
  },
  {
   "cell_type": "code",
   "execution_count": 30,
   "metadata": {},
   "outputs": [
    {
     "name": "stdout",
     "output_type": "stream",
     "text": [
      "> Loading from cache...\n"
     ]
    },
    {
     "data": {
      "text/html": [
       "<div>\n",
       "<style scoped>\n",
       "    .dataframe tbody tr th:only-of-type {\n",
       "        vertical-align: middle;\n",
       "    }\n",
       "\n",
       "    .dataframe tbody tr th {\n",
       "        vertical-align: top;\n",
       "    }\n",
       "\n",
       "    .dataframe thead tr th {\n",
       "        text-align: left;\n",
       "    }\n",
       "\n",
       "    .dataframe thead tr:last-of-type th {\n",
       "        text-align: right;\n",
       "    }\n",
       "</style>\n",
       "<table border=\"1\" class=\"dataframe\">\n",
       "  <thead>\n",
       "    <tr>\n",
       "      <th></th>\n",
       "      <th>latitude</th>\n",
       "      <th colspan=\"5\" halign=\"left\">4.375</th>\n",
       "    </tr>\n",
       "    <tr>\n",
       "      <th></th>\n",
       "      <th>longitude</th>\n",
       "      <th>61.375</th>\n",
       "      <th>62.125</th>\n",
       "      <th>62.875</th>\n",
       "      <th>63.625</th>\n",
       "      <th>64.375</th>\n",
       "    </tr>\n",
       "    <tr>\n",
       "      <th>latitude</th>\n",
       "      <th>longitude</th>\n",
       "      <th></th>\n",
       "      <th></th>\n",
       "      <th></th>\n",
       "      <th></th>\n",
       "      <th></th>\n",
       "    </tr>\n",
       "  </thead>\n",
       "  <tbody>\n",
       "    <tr>\n",
       "      <th rowspan=\"5\" valign=\"top\">4.375</th>\n",
       "      <th>61.375</th>\n",
       "      <td>1.000000</td>\n",
       "      <td>0.758621</td>\n",
       "      <td>0.637931</td>\n",
       "      <td>0.543103</td>\n",
       "      <td>0.504310</td>\n",
       "    </tr>\n",
       "    <tr>\n",
       "      <th>62.125</th>\n",
       "      <td>0.758621</td>\n",
       "      <td>1.000000</td>\n",
       "      <td>0.775862</td>\n",
       "      <td>0.650862</td>\n",
       "      <td>0.586207</td>\n",
       "    </tr>\n",
       "    <tr>\n",
       "      <th>62.875</th>\n",
       "      <td>0.637931</td>\n",
       "      <td>0.775862</td>\n",
       "      <td>1.000000</td>\n",
       "      <td>0.750000</td>\n",
       "      <td>0.650862</td>\n",
       "    </tr>\n",
       "    <tr>\n",
       "      <th>63.625</th>\n",
       "      <td>0.543103</td>\n",
       "      <td>0.650862</td>\n",
       "      <td>0.750000</td>\n",
       "      <td>1.000000</td>\n",
       "      <td>0.784483</td>\n",
       "    </tr>\n",
       "    <tr>\n",
       "      <th>64.375</th>\n",
       "      <td>0.504310</td>\n",
       "      <td>0.586207</td>\n",
       "      <td>0.650862</td>\n",
       "      <td>0.784483</td>\n",
       "      <td>1.000000</td>\n",
       "    </tr>\n",
       "  </tbody>\n",
       "</table>\n",
       "</div>"
      ],
      "text/plain": [
       "latitude               4.375                                        \n",
       "longitude             61.375    62.125    62.875    63.625    64.375\n",
       "latitude longitude                                                  \n",
       "4.375    61.375     1.000000  0.758621  0.637931  0.543103  0.504310\n",
       "         62.125     0.758621  1.000000  0.775862  0.650862  0.586207\n",
       "         62.875     0.637931  0.775862  1.000000  0.750000  0.650862\n",
       "         63.625     0.543103  0.650862  0.750000  1.000000  0.784483\n",
       "         64.375     0.504310  0.586207  0.650862  0.784483  1.000000"
      ]
     },
     "execution_count": 30,
     "metadata": {},
     "output_type": "execute_result"
    }
   ],
   "source": [
    "# calculate sync and count matrices for JJAS\n",
    "\n",
    "jjas_sync_matrix, jjas_count_matrix, jjas_runtime = TRMM.calculate_sync_matrix(jjas_extreme_events, f'JJAS-{EE_QUANTILE}')\n",
    "jjas_sync_matrix.iloc[:5, :5]"
   ]
  },
  {
   "cell_type": "code",
   "execution_count": 31,
   "metadata": {},
   "outputs": [
    {
     "data": {
      "text/plain": [
       "0"
      ]
     },
     "execution_count": 31,
     "metadata": {},
     "output_type": "execute_result"
    }
   ],
   "source": [
    "jjas_sync_matrix.isna().sum().sum()"
   ]
  },
  {
   "cell_type": "code",
   "execution_count": 32,
   "metadata": {},
   "outputs": [
    {
     "name": "stdout",
     "output_type": "stream",
     "text": [
      "<class 'pandas.core.frame.DataFrame'>\n",
      "MultiIndex: 2401 entries, (4.375, 61.375) to (40.375, 97.375)\n",
      "Columns: 2401 entries, (4.375, 61.375) to (40.375, 97.375)\n",
      "dtypes: float32(2401)\n",
      "memory usage: 22.1 MB\n"
     ]
    }
   ],
   "source": [
    "jjas_sync_matrix.info()"
   ]
  },
  {
   "cell_type": "code",
   "execution_count": 33,
   "metadata": {},
   "outputs": [
    {
     "data": {
      "text/plain": [
       "<matplotlib.axes._subplots.AxesSubplot at 0x26c69053cc0>"
      ]
     },
     "execution_count": 33,
     "metadata": {},
     "output_type": "execute_result"
    },
    {
     "data": {
      "image/png": "[encoded data removed]",
      "text/plain": [
       "<matplotlib.figure.Figure at 0x26c69053d30>"
      ]
     },
     "metadata": {},
     "output_type": "display_data"
    }
   ],
   "source": [
    "sns.heatmap(jjas_sync_matrix - mam_sync_matrix, square=True)"
   ]
  },
  {
   "cell_type": "markdown",
   "metadata": {},
   "source": [
    "### Post-Monsoon (OND)"
   ]
  },
  {
   "cell_type": "code",
   "execution_count": 34,
   "metadata": {},
   "outputs": [
    {
     "name": "stdout",
     "output_type": "stream",
     "text": [
      "> Loading from cache...\n"
     ]
    },
    {
     "data": {
      "text/html": [
       "<div>\n",
       "<style scoped>\n",
       "    .dataframe tbody tr th:only-of-type {\n",
       "        vertical-align: middle;\n",
       "    }\n",
       "\n",
       "    .dataframe tbody tr th {\n",
       "        vertical-align: top;\n",
       "    }\n",
       "\n",
       "    .dataframe thead tr th {\n",
       "        text-align: left;\n",
       "    }\n",
       "\n",
       "    .dataframe thead tr:last-of-type th {\n",
       "        text-align: right;\n",
       "    }\n",
       "</style>\n",
       "<table border=\"1\" class=\"dataframe\">\n",
       "  <thead>\n",
       "    <tr>\n",
       "      <th></th>\n",
       "      <th>latitude</th>\n",
       "      <th colspan=\"5\" halign=\"left\">4.375</th>\n",
       "    </tr>\n",
       "    <tr>\n",
       "      <th></th>\n",
       "      <th>longitude</th>\n",
       "      <th>61.375</th>\n",
       "      <th>62.125</th>\n",
       "      <th>62.875</th>\n",
       "      <th>63.625</th>\n",
       "      <th>64.375</th>\n",
       "    </tr>\n",
       "    <tr>\n",
       "      <th>latitude</th>\n",
       "      <th>longitude</th>\n",
       "      <th></th>\n",
       "      <th></th>\n",
       "      <th></th>\n",
       "      <th></th>\n",
       "      <th></th>\n",
       "    </tr>\n",
       "  </thead>\n",
       "  <tbody>\n",
       "    <tr>\n",
       "      <th rowspan=\"5\" valign=\"top\">4.375</th>\n",
       "      <th>61.375</th>\n",
       "      <td>1.000000</td>\n",
       "      <td>0.760000</td>\n",
       "      <td>0.645714</td>\n",
       "      <td>0.554286</td>\n",
       "      <td>0.485714</td>\n",
       "    </tr>\n",
       "    <tr>\n",
       "      <th>62.125</th>\n",
       "      <td>0.760000</td>\n",
       "      <td>1.000000</td>\n",
       "      <td>0.748571</td>\n",
       "      <td>0.657143</td>\n",
       "      <td>0.542857</td>\n",
       "    </tr>\n",
       "    <tr>\n",
       "      <th>62.875</th>\n",
       "      <td>0.645714</td>\n",
       "      <td>0.748571</td>\n",
       "      <td>1.000000</td>\n",
       "      <td>0.777143</td>\n",
       "      <td>0.628571</td>\n",
       "    </tr>\n",
       "    <tr>\n",
       "      <th>63.625</th>\n",
       "      <td>0.554286</td>\n",
       "      <td>0.657143</td>\n",
       "      <td>0.777143</td>\n",
       "      <td>1.000000</td>\n",
       "      <td>0.760000</td>\n",
       "    </tr>\n",
       "    <tr>\n",
       "      <th>64.375</th>\n",
       "      <td>0.485714</td>\n",
       "      <td>0.542857</td>\n",
       "      <td>0.628571</td>\n",
       "      <td>0.760000</td>\n",
       "      <td>1.000000</td>\n",
       "    </tr>\n",
       "  </tbody>\n",
       "</table>\n",
       "</div>"
      ],
      "text/plain": [
       "latitude               4.375                                        \n",
       "longitude             61.375    62.125    62.875    63.625    64.375\n",
       "latitude longitude                                                  \n",
       "4.375    61.375     1.000000  0.760000  0.645714  0.554286  0.485714\n",
       "         62.125     0.760000  1.000000  0.748571  0.657143  0.542857\n",
       "         62.875     0.645714  0.748571  1.000000  0.777143  0.628571\n",
       "         63.625     0.554286  0.657143  0.777143  1.000000  0.760000\n",
       "         64.375     0.485714  0.542857  0.628571  0.760000  1.000000"
      ]
     },
     "execution_count": 34,
     "metadata": {},
     "output_type": "execute_result"
    }
   ],
   "source": [
    "# calculate sync and count matrices for OND\n",
    "\n",
    "ond_sync_matrix, ond_count_matrix, ond_runtime = TRMM.calculate_sync_matrix(ond_extreme_events, f'OND-{EE_QUANTILE}')\n",
    "ond_sync_matrix.iloc[:5, :5]"
   ]
  },
  {
   "cell_type": "code",
   "execution_count": 35,
   "metadata": {},
   "outputs": [
    {
     "data": {
      "text/plain": [
       "0"
      ]
     },
     "execution_count": 35,
     "metadata": {},
     "output_type": "execute_result"
    }
   ],
   "source": [
    "ond_sync_matrix.isna().sum().sum()"
   ]
  },
  {
   "cell_type": "code",
   "execution_count": 36,
   "metadata": {},
   "outputs": [
    {
     "data": {
      "text/plain": [
       "<matplotlib.axes._subplots.AxesSubplot at 0x26c0584ee10>"
      ]
     },
     "execution_count": 36,
     "metadata": {},
     "output_type": "execute_result"
    },
    {
     "data": {
      "image/png": "[encoded data removed]",
      "text/plain": [
       "<matplotlib.figure.Figure at 0x26c0588a2b0>"
      ]
     },
     "metadata": {},
     "output_type": "display_data"
    }
   ],
   "source": [
    "sns.heatmap(jjas_sync_matrix - ond_sync_matrix, square=True)"
   ]
  },
  {
   "cell_type": "markdown",
   "metadata": {},
   "source": [
    "## Building a Climate Network\n",
    "\n",
    "Generate a graph representation from the above count matrix. Only draw edges for values above the specified quantile."
   ]
  },
  {
   "cell_type": "code",
   "execution_count": 37,
   "metadata": {},
   "outputs": [],
   "source": [
    "NETWORK_QUANTILE = 0.9"
   ]
  },
  {
   "cell_type": "markdown",
   "metadata": {},
   "source": [
    "### Pre-Monsoon (MAM)"
   ]
  },
  {
   "cell_type": "code",
   "execution_count": 38,
   "metadata": {},
   "outputs": [
    {
     "name": "stdout",
     "output_type": "stream",
     "text": [
      "2401 276015\n",
      "1.0\n"
     ]
    }
   ],
   "source": [
    "mam_graph_counts = TRMM.generate_graph(mam_count_matrix, quantile=NETWORK_QUANTILE)\n",
    "print(len(mam_graph_counts.nodes), len(mam_graph_counts.edges))\n",
    "print(np.mean([d['weight'] for (x, y, d) in mam_graph_counts.edges(data=True)]))"
   ]
  },
  {
   "cell_type": "code",
   "execution_count": 39,
   "metadata": {},
   "outputs": [
    {
     "name": "stdout",
     "output_type": "stream",
     "text": [
      "2401 276015\n",
      "65.75457855551329\n"
     ]
    }
   ],
   "source": [
    "mam_graph_counts_w = TRMM.generate_graph(mam_count_matrix, quantile=NETWORK_QUANTILE, set_ge=None)\n",
    "print(len(mam_graph_counts_w.nodes), len(mam_graph_counts_w.edges))\n",
    "print(np.mean([d['weight'] for (x, y, d) in mam_graph_counts_w.edges(data=True)]))"
   ]
  },
  {
   "cell_type": "code",
   "execution_count": 40,
   "metadata": {},
   "outputs": [
    {
     "name": "stdout",
     "output_type": "stream",
     "text": [
      "2401 286888\n",
      "1.0\n"
     ]
    }
   ],
   "source": [
    "mam_graph = TRMM.generate_graph(mam_sync_matrix, quantile=NETWORK_QUANTILE)\n",
    "print(len(mam_graph.nodes), len(mam_graph.edges))\n",
    "print(np.mean([d['weight'] for (x, y, d) in mam_graph.edges(data=True)]))"
   ]
  },
  {
   "cell_type": "code",
   "execution_count": 41,
   "metadata": {},
   "outputs": [
    {
     "name": "stdout",
     "output_type": "stream",
     "text": [
      "2401 286888\n",
      "0.37510077340284714\n"
     ]
    }
   ],
   "source": [
    "mam_graph_w = TRMM.generate_graph(mam_sync_matrix, quantile=NETWORK_QUANTILE, set_ge=None)\n",
    "print(len(mam_graph_w.nodes), len(mam_graph_w.edges))\n",
    "print(np.mean([d['weight'] for (x, y, d) in mam_graph_w.edges(data=True)]))"
   ]
  },
  {
   "cell_type": "code",
   "execution_count": 42,
   "metadata": {},
   "outputs": [],
   "source": [
    "mam_cent_degree, mam_cent_between, mam_pagerank = TRMM.calculate_centrality(mam_graph)"
   ]
  },
  {
   "cell_type": "code",
   "execution_count": 43,
   "metadata": {},
   "outputs": [],
   "source": [
    "mam_cent_degree_w, mam_cent_between_w, mam_pagerank_w = TRMM.calculate_centrality(mam_graph_w, weighted=True)"
   ]
  },
  {
   "cell_type": "markdown",
   "metadata": {},
   "source": [
    "#### Degree"
   ]
  },
  {
   "cell_type": "code",
   "execution_count": 44,
   "metadata": {},
   "outputs": [
    {
     "data": {
      "text/html": [
       "<div>\n",
       "<style scoped>\n",
       "    .dataframe tbody tr th:only-of-type {\n",
       "        vertical-align: middle;\n",
       "    }\n",
       "\n",
       "    .dataframe tbody tr th {\n",
       "        vertical-align: top;\n",
       "    }\n",
       "\n",
       "    .dataframe thead th {\n",
       "        text-align: right;\n",
       "    }\n",
       "</style>\n",
       "<table border=\"1\" class=\"dataframe\">\n",
       "  <thead>\n",
       "    <tr style=\"text-align: right;\">\n",
       "      <th></th>\n",
       "      <th>lat</th>\n",
       "      <th>lon</th>\n",
       "      <th>val</th>\n",
       "      <th>text</th>\n",
       "      <th>val_0to1</th>\n",
       "      <th>val_std</th>\n",
       "    </tr>\n",
       "  </thead>\n",
       "  <tbody>\n",
       "    <tr>\n",
       "      <th>0</th>\n",
       "      <td>4.375</td>\n",
       "      <td>61.375</td>\n",
       "      <td>67</td>\n",
       "      <td>(4.375, 61.375)=67.0000</td>\n",
       "      <td>0.106713</td>\n",
       "      <td>-1.591646</td>\n",
       "    </tr>\n",
       "    <tr>\n",
       "      <th>1</th>\n",
       "      <td>4.375</td>\n",
       "      <td>62.125</td>\n",
       "      <td>79</td>\n",
       "      <td>(4.375, 62.125)=79.0000</td>\n",
       "      <td>0.127367</td>\n",
       "      <td>-1.480584</td>\n",
       "    </tr>\n",
       "    <tr>\n",
       "      <th>2</th>\n",
       "      <td>4.375</td>\n",
       "      <td>62.875</td>\n",
       "      <td>91</td>\n",
       "      <td>(4.375, 62.875)=91.0000</td>\n",
       "      <td>0.148021</td>\n",
       "      <td>-1.369522</td>\n",
       "    </tr>\n",
       "  </tbody>\n",
       "</table>\n",
       "</div>"
      ],
      "text/plain": [
       "     lat     lon  val                     text  val_0to1   val_std\n",
       "0  4.375  61.375   67  (4.375, 61.375)=67.0000  0.106713 -1.591646\n",
       "1  4.375  62.125   79  (4.375, 62.125)=79.0000  0.127367 -1.480584\n",
       "2  4.375  62.875   91  (4.375, 62.875)=91.0000  0.148021 -1.369522"
      ]
     },
     "execution_count": 44,
     "metadata": {},
     "output_type": "execute_result"
    }
   ],
   "source": [
    "mam_cent_degree.head(3)"
   ]
  },
  {
   "cell_type": "code",
   "execution_count": 45,
   "metadata": {},
   "outputs": [
    {
     "data": {
      "text/html": [
       "<div>\n",
       "<style scoped>\n",
       "    .dataframe tbody tr th:only-of-type {\n",
       "        vertical-align: middle;\n",
       "    }\n",
       "\n",
       "    .dataframe tbody tr th {\n",
       "        vertical-align: top;\n",
       "    }\n",
       "\n",
       "    .dataframe thead th {\n",
       "        text-align: right;\n",
       "    }\n",
       "</style>\n",
       "<table border=\"1\" class=\"dataframe\">\n",
       "  <thead>\n",
       "    <tr style=\"text-align: right;\">\n",
       "      <th></th>\n",
       "      <th>lat</th>\n",
       "      <th>lon</th>\n",
       "      <th>val</th>\n",
       "      <th>text</th>\n",
       "      <th>val_0to1</th>\n",
       "      <th>val_std</th>\n",
       "    </tr>\n",
       "  </thead>\n",
       "  <tbody>\n",
       "    <tr>\n",
       "      <th>0</th>\n",
       "      <td>4.375</td>\n",
       "      <td>61.375</td>\n",
       "      <td>27.651429</td>\n",
       "      <td>(4.375, 61.375)=27.6514</td>\n",
       "      <td>0.104894</td>\n",
       "      <td>-1.416293</td>\n",
       "    </tr>\n",
       "    <tr>\n",
       "      <th>1</th>\n",
       "      <td>4.375</td>\n",
       "      <td>62.125</td>\n",
       "      <td>32.885714</td>\n",
       "      <td>(4.375, 62.125)=32.8857</td>\n",
       "      <td>0.125943</td>\n",
       "      <td>-1.296701</td>\n",
       "    </tr>\n",
       "    <tr>\n",
       "      <th>2</th>\n",
       "      <td>4.375</td>\n",
       "      <td>62.875</td>\n",
       "      <td>37.274286</td>\n",
       "      <td>(4.375, 62.875)=37.2743</td>\n",
       "      <td>0.143592</td>\n",
       "      <td>-1.196431</td>\n",
       "    </tr>\n",
       "  </tbody>\n",
       "</table>\n",
       "</div>"
      ],
      "text/plain": [
       "     lat     lon        val                     text  val_0to1   val_std\n",
       "0  4.375  61.375  27.651429  (4.375, 61.375)=27.6514  0.104894 -1.416293\n",
       "1  4.375  62.125  32.885714  (4.375, 62.125)=32.8857  0.125943 -1.296701\n",
       "2  4.375  62.875  37.274286  (4.375, 62.875)=37.2743  0.143592 -1.196431"
      ]
     },
     "execution_count": 45,
     "metadata": {},
     "output_type": "execute_result"
    }
   ],
   "source": [
    "mam_cent_degree_w.head(3)"
   ]
  },
  {
   "cell_type": "code",
   "execution_count": 46,
   "metadata": {},
   "outputs": [
    {
     "data": {
      "text/html": [
       "<div>\n",
       "<style scoped>\n",
       "    .dataframe tbody tr th:only-of-type {\n",
       "        vertical-align: middle;\n",
       "    }\n",
       "\n",
       "    .dataframe tbody tr th {\n",
       "        vertical-align: top;\n",
       "    }\n",
       "\n",
       "    .dataframe thead th {\n",
       "        text-align: right;\n",
       "    }\n",
       "</style>\n",
       "<table border=\"1\" class=\"dataframe\">\n",
       "  <thead>\n",
       "    <tr style=\"text-align: right;\">\n",
       "      <th>lon</th>\n",
       "      <th>61.375</th>\n",
       "      <th>62.125</th>\n",
       "      <th>62.875</th>\n",
       "      <th>63.625</th>\n",
       "      <th>64.375</th>\n",
       "    </tr>\n",
       "    <tr>\n",
       "      <th>lat</th>\n",
       "      <th></th>\n",
       "      <th></th>\n",
       "      <th></th>\n",
       "      <th></th>\n",
       "      <th></th>\n",
       "    </tr>\n",
       "  </thead>\n",
       "  <tbody>\n",
       "    <tr>\n",
       "      <th>4.375</th>\n",
       "      <td>67</td>\n",
       "      <td>79</td>\n",
       "      <td>91</td>\n",
       "      <td>92</td>\n",
       "      <td>109</td>\n",
       "    </tr>\n",
       "    <tr>\n",
       "      <th>5.125</th>\n",
       "      <td>68</td>\n",
       "      <td>73</td>\n",
       "      <td>103</td>\n",
       "      <td>107</td>\n",
       "      <td>112</td>\n",
       "    </tr>\n",
       "    <tr>\n",
       "      <th>5.875</th>\n",
       "      <td>92</td>\n",
       "      <td>92</td>\n",
       "      <td>118</td>\n",
       "      <td>113</td>\n",
       "      <td>136</td>\n",
       "    </tr>\n",
       "    <tr>\n",
       "      <th>6.625</th>\n",
       "      <td>125</td>\n",
       "      <td>143</td>\n",
       "      <td>149</td>\n",
       "      <td>197</td>\n",
       "      <td>172</td>\n",
       "    </tr>\n",
       "    <tr>\n",
       "      <th>7.375</th>\n",
       "      <td>145</td>\n",
       "      <td>198</td>\n",
       "      <td>197</td>\n",
       "      <td>234</td>\n",
       "      <td>268</td>\n",
       "    </tr>\n",
       "  </tbody>\n",
       "</table>\n",
       "</div>"
      ],
      "text/plain": [
       "lon    61.375  62.125  62.875  63.625  64.375\n",
       "lat                                          \n",
       "4.375      67      79      91      92     109\n",
       "5.125      68      73     103     107     112\n",
       "5.875      92      92     118     113     136\n",
       "6.625     125     143     149     197     172\n",
       "7.375     145     198     197     234     268"
      ]
     },
     "execution_count": 46,
     "metadata": {},
     "output_type": "execute_result"
    }
   ],
   "source": [
    "mam_cent_degree.pivot(index='lat', columns='lon', values='val').iloc[:5, :5]"
   ]
  },
  {
   "cell_type": "code",
   "execution_count": 47,
   "metadata": {},
   "outputs": [
    {
     "data": {
      "text/html": [
       "<div>\n",
       "<style scoped>\n",
       "    .dataframe tbody tr th:only-of-type {\n",
       "        vertical-align: middle;\n",
       "    }\n",
       "\n",
       "    .dataframe tbody tr th {\n",
       "        vertical-align: top;\n",
       "    }\n",
       "\n",
       "    .dataframe thead th {\n",
       "        text-align: right;\n",
       "    }\n",
       "</style>\n",
       "<table border=\"1\" class=\"dataframe\">\n",
       "  <thead>\n",
       "    <tr style=\"text-align: right;\">\n",
       "      <th></th>\n",
       "      <th>val</th>\n",
       "      <th>val_std</th>\n",
       "    </tr>\n",
       "  </thead>\n",
       "  <tbody>\n",
       "    <tr>\n",
       "      <th>count</th>\n",
       "      <td>2401.000000</td>\n",
       "      <td>2.401000e+03</td>\n",
       "    </tr>\n",
       "    <tr>\n",
       "      <th>mean</th>\n",
       "      <td>238.973761</td>\n",
       "      <td>1.080167e-16</td>\n",
       "    </tr>\n",
       "    <tr>\n",
       "      <th>std</th>\n",
       "      <td>108.047720</td>\n",
       "      <td>1.000000e+00</td>\n",
       "    </tr>\n",
       "    <tr>\n",
       "      <th>min</th>\n",
       "      <td>5.000000</td>\n",
       "      <td>-2.165467e+00</td>\n",
       "    </tr>\n",
       "    <tr>\n",
       "      <th>25%</th>\n",
       "      <td>165.000000</td>\n",
       "      <td>-6.846397e-01</td>\n",
       "    </tr>\n",
       "    <tr>\n",
       "      <th>50%</th>\n",
       "      <td>220.000000</td>\n",
       "      <td>-1.756054e-01</td>\n",
       "    </tr>\n",
       "    <tr>\n",
       "      <th>75%</th>\n",
       "      <td>279.000000</td>\n",
       "      <td>3.704496e-01</td>\n",
       "    </tr>\n",
       "    <tr>\n",
       "      <th>max</th>\n",
       "      <td>586.000000</td>\n",
       "      <td>3.211787e+00</td>\n",
       "    </tr>\n",
       "  </tbody>\n",
       "</table>\n",
       "</div>"
      ],
      "text/plain": [
       "               val       val_std\n",
       "count  2401.000000  2.401000e+03\n",
       "mean    238.973761  1.080167e-16\n",
       "std     108.047720  1.000000e+00\n",
       "min       5.000000 -2.165467e+00\n",
       "25%     165.000000 -6.846397e-01\n",
       "50%     220.000000 -1.756054e-01\n",
       "75%     279.000000  3.704496e-01\n",
       "max     586.000000  3.211787e+00"
      ]
     },
     "execution_count": 47,
     "metadata": {},
     "output_type": "execute_result"
    }
   ],
   "source": [
    "mam_cent_degree[['val', 'val_std']].describe()"
   ]
  },
  {
   "cell_type": "code",
   "execution_count": 48,
   "metadata": {},
   "outputs": [
    {
     "data": {
      "text/plain": [
       "<matplotlib.axes._subplots.AxesSubplot at 0x26c06924048>"
      ]
     },
     "execution_count": 48,
     "metadata": {},
     "output_type": "execute_result"
    },
    {
     "data": {
      "image/png": "[encoded data removed]",
      "text/plain": [
       "<matplotlib.figure.Figure at 0x26c0696df60>"
      ]
     },
     "metadata": {},
     "output_type": "display_data"
    }
   ],
   "source": [
    "sns.distplot(mam_cent_degree['val'], hist=False, color='r')\n",
    "sns.distplot(mam_cent_degree_w['val'], hist=False, color='b')"
   ]
  },
  {
   "cell_type": "markdown",
   "metadata": {},
   "source": [
    "#### Betweenness"
   ]
  },
  {
   "cell_type": "code",
   "execution_count": 49,
   "metadata": {},
   "outputs": [
    {
     "data": {
      "text/html": [
       "<div>\n",
       "<style scoped>\n",
       "    .dataframe tbody tr th:only-of-type {\n",
       "        vertical-align: middle;\n",
       "    }\n",
       "\n",
       "    .dataframe tbody tr th {\n",
       "        vertical-align: top;\n",
       "    }\n",
       "\n",
       "    .dataframe thead th {\n",
       "        text-align: right;\n",
       "    }\n",
       "</style>\n",
       "<table border=\"1\" class=\"dataframe\">\n",
       "  <thead>\n",
       "    <tr style=\"text-align: right;\">\n",
       "      <th></th>\n",
       "      <th>lat</th>\n",
       "      <th>lon</th>\n",
       "      <th>val</th>\n",
       "      <th>text</th>\n",
       "      <th>val_0to1</th>\n",
       "      <th>val_std</th>\n",
       "    </tr>\n",
       "  </thead>\n",
       "  <tbody>\n",
       "    <tr>\n",
       "      <th>0</th>\n",
       "      <td>4.375</td>\n",
       "      <td>61.375</td>\n",
       "      <td>659.169077</td>\n",
       "      <td>(4.375, 61.375)=659.1691</td>\n",
       "      <td>0.019446</td>\n",
       "      <td>-0.406616</td>\n",
       "    </tr>\n",
       "    <tr>\n",
       "      <th>1</th>\n",
       "      <td>4.375</td>\n",
       "      <td>62.125</td>\n",
       "      <td>119.065396</td>\n",
       "      <td>(4.375, 62.125)=119.0654</td>\n",
       "      <td>0.003502</td>\n",
       "      <td>-0.597062</td>\n",
       "    </tr>\n",
       "    <tr>\n",
       "      <th>2</th>\n",
       "      <td>4.375</td>\n",
       "      <td>62.875</td>\n",
       "      <td>237.539529</td>\n",
       "      <td>(4.375, 62.875)=237.5395</td>\n",
       "      <td>0.006999</td>\n",
       "      <td>-0.555287</td>\n",
       "    </tr>\n",
       "  </tbody>\n",
       "</table>\n",
       "</div>"
      ],
      "text/plain": [
       "     lat     lon         val                      text  val_0to1   val_std\n",
       "0  4.375  61.375  659.169077  (4.375, 61.375)=659.1691  0.019446 -0.406616\n",
       "1  4.375  62.125  119.065396  (4.375, 62.125)=119.0654  0.003502 -0.597062\n",
       "2  4.375  62.875  237.539529  (4.375, 62.875)=237.5395  0.006999 -0.555287"
      ]
     },
     "execution_count": 49,
     "metadata": {},
     "output_type": "execute_result"
    }
   ],
   "source": [
    "mam_cent_between.head(3)"
   ]
  },
  {
   "cell_type": "code",
   "execution_count": 50,
   "metadata": {},
   "outputs": [
    {
     "data": {
      "text/html": [
       "<div>\n",
       "<style scoped>\n",
       "    .dataframe tbody tr th:only-of-type {\n",
       "        vertical-align: middle;\n",
       "    }\n",
       "\n",
       "    .dataframe tbody tr th {\n",
       "        vertical-align: top;\n",
       "    }\n",
       "\n",
       "    .dataframe thead th {\n",
       "        text-align: right;\n",
       "    }\n",
       "</style>\n",
       "<table border=\"1\" class=\"dataframe\">\n",
       "  <thead>\n",
       "    <tr style=\"text-align: right;\">\n",
       "      <th></th>\n",
       "      <th>lat</th>\n",
       "      <th>lon</th>\n",
       "      <th>val</th>\n",
       "      <th>text</th>\n",
       "      <th>val_0to1</th>\n",
       "      <th>val_std</th>\n",
       "    </tr>\n",
       "  </thead>\n",
       "  <tbody>\n",
       "    <tr>\n",
       "      <th>0</th>\n",
       "      <td>4.375</td>\n",
       "      <td>61.375</td>\n",
       "      <td>486.340079</td>\n",
       "      <td>(4.375, 61.375)=486.3401</td>\n",
       "      <td>0.013591</td>\n",
       "      <td>-0.518394</td>\n",
       "    </tr>\n",
       "    <tr>\n",
       "      <th>1</th>\n",
       "      <td>4.375</td>\n",
       "      <td>62.125</td>\n",
       "      <td>46.816667</td>\n",
       "      <td>(4.375, 62.125)=46.8167</td>\n",
       "      <td>0.001308</td>\n",
       "      <td>-0.688739</td>\n",
       "    </tr>\n",
       "    <tr>\n",
       "      <th>2</th>\n",
       "      <td>4.375</td>\n",
       "      <td>62.875</td>\n",
       "      <td>148.741667</td>\n",
       "      <td>(4.375, 62.875)=148.7417</td>\n",
       "      <td>0.004157</td>\n",
       "      <td>-0.649236</td>\n",
       "    </tr>\n",
       "  </tbody>\n",
       "</table>\n",
       "</div>"
      ],
      "text/plain": [
       "     lat     lon         val                      text  val_0to1   val_std\n",
       "0  4.375  61.375  486.340079  (4.375, 61.375)=486.3401  0.013591 -0.518394\n",
       "1  4.375  62.125   46.816667   (4.375, 62.125)=46.8167  0.001308 -0.688739\n",
       "2  4.375  62.875  148.741667  (4.375, 62.875)=148.7417  0.004157 -0.649236"
      ]
     },
     "execution_count": 50,
     "metadata": {},
     "output_type": "execute_result"
    }
   ],
   "source": [
    "mam_cent_between_w.head(3)"
   ]
  },
  {
   "cell_type": "code",
   "execution_count": 51,
   "metadata": {},
   "outputs": [
    {
     "data": {
      "text/plain": [
       "<matplotlib.axes._subplots.AxesSubplot at 0x26c0a5880b8>"
      ]
     },
     "execution_count": 51,
     "metadata": {},
     "output_type": "execute_result"
    },
    {
     "data": {
      "image/png": "[encoded data removed]",
      "text/plain": [
       "<matplotlib.figure.Figure at 0x26c0a5782b0>"
      ]
     },
     "metadata": {},
     "output_type": "display_data"
    }
   ],
   "source": [
    "sns.distplot(mam_cent_between['val'], hist=False, color='r')\n",
    "sns.distplot(mam_cent_between_w['val'], hist=False, color='b')"
   ]
  },
  {
   "cell_type": "markdown",
   "metadata": {},
   "source": [
    "#### PageRank"
   ]
  },
  {
   "cell_type": "code",
   "execution_count": 52,
   "metadata": {},
   "outputs": [
    {
     "data": {
      "text/html": [
       "<div>\n",
       "<style scoped>\n",
       "    .dataframe tbody tr th:only-of-type {\n",
       "        vertical-align: middle;\n",
       "    }\n",
       "\n",
       "    .dataframe tbody tr th {\n",
       "        vertical-align: top;\n",
       "    }\n",
       "\n",
       "    .dataframe thead th {\n",
       "        text-align: right;\n",
       "    }\n",
       "</style>\n",
       "<table border=\"1\" class=\"dataframe\">\n",
       "  <thead>\n",
       "    <tr style=\"text-align: right;\">\n",
       "      <th></th>\n",
       "      <th>lat</th>\n",
       "      <th>lon</th>\n",
       "      <th>val</th>\n",
       "      <th>text</th>\n",
       "      <th>val_0to1</th>\n",
       "      <th>val_std</th>\n",
       "    </tr>\n",
       "  </thead>\n",
       "  <tbody>\n",
       "    <tr>\n",
       "      <th>0</th>\n",
       "      <td>4.375</td>\n",
       "      <td>61.375</td>\n",
       "      <td>0.000162</td>\n",
       "      <td>(4.375, 61.375)=0.0002</td>\n",
       "      <td>0.112859</td>\n",
       "      <td>-2.128658</td>\n",
       "    </tr>\n",
       "    <tr>\n",
       "      <th>1</th>\n",
       "      <td>4.375</td>\n",
       "      <td>62.125</td>\n",
       "      <td>0.000177</td>\n",
       "      <td>(4.375, 62.125)=0.0002</td>\n",
       "      <td>0.135110</td>\n",
       "      <td>-1.999291</td>\n",
       "    </tr>\n",
       "    <tr>\n",
       "      <th>2</th>\n",
       "      <td>4.375</td>\n",
       "      <td>62.875</td>\n",
       "      <td>0.000193</td>\n",
       "      <td>(4.375, 62.875)=0.0002</td>\n",
       "      <td>0.157667</td>\n",
       "      <td>-1.868147</td>\n",
       "    </tr>\n",
       "  </tbody>\n",
       "</table>\n",
       "</div>"
      ],
      "text/plain": [
       "     lat     lon       val                    text  val_0to1   val_std\n",
       "0  4.375  61.375  0.000162  (4.375, 61.375)=0.0002  0.112859 -2.128658\n",
       "1  4.375  62.125  0.000177  (4.375, 62.125)=0.0002  0.135110 -1.999291\n",
       "2  4.375  62.875  0.000193  (4.375, 62.875)=0.0002  0.157667 -1.868147"
      ]
     },
     "execution_count": 52,
     "metadata": {},
     "output_type": "execute_result"
    }
   ],
   "source": [
    "mam_pagerank.head(3)"
   ]
  },
  {
   "cell_type": "code",
   "execution_count": 53,
   "metadata": {},
   "outputs": [
    {
     "data": {
      "text/html": [
       "<div>\n",
       "<style scoped>\n",
       "    .dataframe tbody tr th:only-of-type {\n",
       "        vertical-align: middle;\n",
       "    }\n",
       "\n",
       "    .dataframe tbody tr th {\n",
       "        vertical-align: top;\n",
       "    }\n",
       "\n",
       "    .dataframe thead th {\n",
       "        text-align: right;\n",
       "    }\n",
       "</style>\n",
       "<table border=\"1\" class=\"dataframe\">\n",
       "  <thead>\n",
       "    <tr style=\"text-align: right;\">\n",
       "      <th></th>\n",
       "      <th>lat</th>\n",
       "      <th>lon</th>\n",
       "      <th>val</th>\n",
       "      <th>text</th>\n",
       "      <th>val_0to1</th>\n",
       "      <th>val_std</th>\n",
       "    </tr>\n",
       "  </thead>\n",
       "  <tbody>\n",
       "    <tr>\n",
       "      <th>0</th>\n",
       "      <td>4.375</td>\n",
       "      <td>61.375</td>\n",
       "      <td>0.000171</td>\n",
       "      <td>(4.375, 61.375)=0.0002</td>\n",
       "      <td>0.114173</td>\n",
       "      <td>-2.022262</td>\n",
       "    </tr>\n",
       "    <tr>\n",
       "      <th>1</th>\n",
       "      <td>4.375</td>\n",
       "      <td>62.125</td>\n",
       "      <td>0.000190</td>\n",
       "      <td>(4.375, 62.125)=0.0002</td>\n",
       "      <td>0.138758</td>\n",
       "      <td>-1.869189</td>\n",
       "    </tr>\n",
       "    <tr>\n",
       "      <th>2</th>\n",
       "      <td>4.375</td>\n",
       "      <td>62.875</td>\n",
       "      <td>0.000204</td>\n",
       "      <td>(4.375, 62.875)=0.0002</td>\n",
       "      <td>0.158322</td>\n",
       "      <td>-1.747378</td>\n",
       "    </tr>\n",
       "  </tbody>\n",
       "</table>\n",
       "</div>"
      ],
      "text/plain": [
       "     lat     lon       val                    text  val_0to1   val_std\n",
       "0  4.375  61.375  0.000171  (4.375, 61.375)=0.0002  0.114173 -2.022262\n",
       "1  4.375  62.125  0.000190  (4.375, 62.125)=0.0002  0.138758 -1.869189\n",
       "2  4.375  62.875  0.000204  (4.375, 62.875)=0.0002  0.158322 -1.747378"
      ]
     },
     "execution_count": 53,
     "metadata": {},
     "output_type": "execute_result"
    }
   ],
   "source": [
    "mam_pagerank_w.head(3)"
   ]
  },
  {
   "cell_type": "code",
   "execution_count": 54,
   "metadata": {},
   "outputs": [
    {
     "data": {
      "text/plain": [
       "<matplotlib.axes._subplots.AxesSubplot at 0x26c0a5a05c0>"
      ]
     },
     "execution_count": 54,
     "metadata": {},
     "output_type": "execute_result"
    },
    {
     "data": {
      "image/png": "[encoded data removed]",
      "text/plain": [
       "<matplotlib.figure.Figure at 0x26c0a5e0c88>"
      ]
     },
     "metadata": {},
     "output_type": "display_data"
    }
   ],
   "source": [
    "sns.distplot(mam_pagerank['val'], hist=False, color='r')\n",
    "sns.distplot(mam_pagerank_w['val'], hist=False, color='b')"
   ]
  },
  {
   "cell_type": "markdown",
   "metadata": {},
   "source": [
    "### Monsoon (JJAS)"
   ]
  },
  {
   "cell_type": "code",
   "execution_count": 55,
   "metadata": {},
   "outputs": [
    {
     "name": "stdout",
     "output_type": "stream",
     "text": [
      "2401 288120\n",
      "1.0\n"
     ]
    }
   ],
   "source": [
    "jjas_graph = TRMM.generate_graph(jjas_sync_matrix, quantile=NETWORK_QUANTILE)\n",
    "print(len(jjas_graph.nodes), len(jjas_graph.edges))\n",
    "print(np.mean([d['weight'] for (x, y, d) in jjas_graph.edges(data=True)]))"
   ]
  },
  {
   "cell_type": "code",
   "execution_count": 56,
   "metadata": {},
   "outputs": [
    {
     "name": "stdout",
     "output_type": "stream",
     "text": [
      "2401 288120\n",
      "0.311414286414867\n"
     ]
    }
   ],
   "source": [
    "jjas_graph_w = TRMM.generate_graph(jjas_sync_matrix, quantile=NETWORK_QUANTILE, set_ge=None)\n",
    "print(len(jjas_graph_w.nodes), len(jjas_graph_w.edges))\n",
    "print(np.mean([d['weight'] for (x, y, d) in jjas_graph_w.edges(data=True)]))"
   ]
  },
  {
   "cell_type": "code",
   "execution_count": 57,
   "metadata": {},
   "outputs": [],
   "source": [
    "jjas_cent_degree, jjas_cent_between, jjas_pagerank = TRMM.calculate_centrality(jjas_graph)"
   ]
  },
  {
   "cell_type": "code",
   "execution_count": 58,
   "metadata": {},
   "outputs": [],
   "source": [
    "jjas_cent_degree_w, jjas_cent_between_w, jjas_pagerank_w = TRMM.calculate_centrality(jjas_graph_w, weighted=True)"
   ]
  },
  {
   "cell_type": "markdown",
   "metadata": {},
   "source": [
    "### Post-Monsoon (OND)"
   ]
  },
  {
   "cell_type": "code",
   "execution_count": 59,
   "metadata": {},
   "outputs": [
    {
     "name": "stdout",
     "output_type": "stream",
     "text": [
      "2401 282060\n",
      "1.0\n"
     ]
    }
   ],
   "source": [
    "ond_graph = TRMM.generate_graph(ond_sync_matrix, quantile=NETWORK_QUANTILE)\n",
    "print(len(ond_graph.nodes), len(ond_graph.edges))\n",
    "print(np.mean([d['weight'] for (x, y, d) in ond_graph.edges(data=True)]))"
   ]
  },
  {
   "cell_type": "code",
   "execution_count": 60,
   "metadata": {},
   "outputs": [
    {
     "name": "stdout",
     "output_type": "stream",
     "text": [
      "2401 282060\n",
      "0.37274413827236413\n"
     ]
    }
   ],
   "source": [
    "ond_graph_w = TRMM.generate_graph(ond_sync_matrix, quantile=NETWORK_QUANTILE, set_ge=None)\n",
    "print(len(ond_graph_w.nodes), len(ond_graph_w.edges))\n",
    "print(np.mean([d['weight'] for (x, y, d) in ond_graph_w.edges(data=True)]))"
   ]
  },
  {
   "cell_type": "code",
   "execution_count": null,
   "metadata": {},
   "outputs": [],
   "source": [
    "ond_cent_degree, ond_cent_between, ond_pagerank = TRMM.calculate_centrality(ond_graph)"
   ]
  },
  {
   "cell_type": "code",
   "execution_count": null,
   "metadata": {},
   "outputs": [],
   "source": [
    "ond_cent_degree_w, ond_cent_between_w, ond_pagerank_w = TRMM.calculate_centrality(ond_graph_w, weighted=True)"
   ]
  },
  {
   "cell_type": "markdown",
   "metadata": {},
   "source": [
    "### Overview"
   ]
  },
  {
   "cell_type": "code",
   "execution_count": null,
   "metadata": {},
   "outputs": [],
   "source": [
    "sns.distplot(mam_cent_degree['val'], hist=False, color='r')\n",
    "sns.distplot(jjas_cent_degree['val'], hist=False, color='g')\n",
    "sns.distplot(ond_cent_degree['val'], hist=False, color='b')"
   ]
  },
  {
   "cell_type": "code",
   "execution_count": null,
   "metadata": {},
   "outputs": [],
   "source": [
    "sns.distplot(mam_cent_between['val'], hist=False, color='r')\n",
    "sns.distplot(jjas_cent_between['val'], hist=False, color='g')\n",
    "sns.distplot(ond_cent_between['val'], hist=False, color='b')"
   ]
  },
  {
   "cell_type": "code",
   "execution_count": null,
   "metadata": {},
   "outputs": [],
   "source": [
    "# applying a log normalization can help with the skewedness\n",
    "\n",
    "sns.distplot(np.log10(mam_cent_between['val']), hist=False, color='r')\n",
    "sns.distplot(np.log10(jjas_cent_between['val']), hist=False, color='g')\n",
    "sns.distplot(np.log10(ond_cent_between['val']), hist=False, color='b')"
   ]
  },
  {
   "cell_type": "code",
   "execution_count": null,
   "metadata": {},
   "outputs": [],
   "source": [
    "sns.distplot(mam_pagerank['val'], hist=False, color='r')\n",
    "sns.distplot(jjas_pagerank['val'], hist=False, color='g')\n",
    "sns.distplot(ond_pagerank['val'], hist=False, color='b')"
   ]
  },
  {
   "cell_type": "markdown",
   "metadata": {
    "collapsed": true
   },
   "source": [
    "## Visualizations"
   ]
  },
  {
   "cell_type": "code",
   "execution_count": null,
   "metadata": {},
   "outputs": [],
   "source": [
    "# global params for all graphs\n",
    "\n",
    "graph_params = dict(\n",
    "    gaussian_filtering=0.6,\n",
    "    cmap='hot_r'\n",
    ")"
   ]
  },
  {
   "cell_type": "markdown",
   "metadata": {},
   "source": [
    "### Pre-Monsoon (MAM)"
   ]
  },
  {
   "cell_type": "code",
   "execution_count": null,
   "metadata": {},
   "outputs": [],
   "source": [
    "# degree\n",
    "\n",
    "Visualization.create_cartopy_vis(mam_cent_degree, title='Degree during Pre-Monsoon (MAM)', filename=f'output/sync_{AGGREGATION_RESOLUTION}_mam_deg.png', **graph_params)"
   ]
  },
  {
   "cell_type": "code",
   "execution_count": null,
   "metadata": {},
   "outputs": [],
   "source": [
    "# weighted degree\n",
    "\n",
    "Visualization.create_cartopy_vis(mam_cent_degree_w, title='Weighted Degree during Pre-Monsoon (MAM)', filename=f'output/sync_{AGGREGATION_RESOLUTION}_mam_deg_weighted.png', **graph_params)"
   ]
  },
  {
   "cell_type": "code",
   "execution_count": null,
   "metadata": {},
   "outputs": [],
   "source": [
    "# betweenness (log normalized)\n",
    "\n",
    "Visualization.create_cartopy_vis(mam_cent_between, log_norm=True, title='Betweenness during Pre-Monsoon (MAM)', filename=f'output/sync_{AGGREGATION_RESOLUTION}_mam_btw.png', **graph_params)"
   ]
  },
  {
   "cell_type": "code",
   "execution_count": null,
   "metadata": {},
   "outputs": [],
   "source": [
    "# weighted betweenness (log normalized)\n",
    "\n",
    "Visualization.create_cartopy_vis(mam_cent_between_w, log_norm=True, title='Weighted Betweenness during Pre-Monsoon (MAM)', filename=f'output/sync_{AGGREGATION_RESOLUTION}_mam_btw_weighted.png', **graph_params)"
   ]
  },
  {
   "cell_type": "code",
   "execution_count": null,
   "metadata": {},
   "outputs": [],
   "source": [
    "# pagerank\n",
    "\n",
    "Visualization.create_cartopy_vis(mam_pagerank, title='PageRank during Pre-Monsoon (MAM)', filename=f'output/sync_{AGGREGATION_RESOLUTION}_mam_pr.png', **graph_params)"
   ]
  },
  {
   "cell_type": "code",
   "execution_count": null,
   "metadata": {},
   "outputs": [],
   "source": [
    "# weighted pagerank\n",
    "\n",
    "Visualization.create_cartopy_vis(mam_pagerank_w, title='Weighted PageRank during Pre-Monsoon (MAM)', filename=f'output/sync_{AGGREGATION_RESOLUTION}_mam_pr_weighted.png', **graph_params)"
   ]
  },
  {
   "cell_type": "markdown",
   "metadata": {},
   "source": [
    "### Monsoon (JJAS)"
   ]
  },
  {
   "cell_type": "code",
   "execution_count": null,
   "metadata": {},
   "outputs": [],
   "source": [
    "Visualization.create_cartopy_vis(jjas_cent_degree, title='Degree during Monsoon (JJAS)', filename=f'output/sync_{AGGREGATION_RESOLUTION}_jjas_deg.png', **graph_params)"
   ]
  },
  {
   "cell_type": "code",
   "execution_count": null,
   "metadata": {},
   "outputs": [],
   "source": [
    "Visualization.create_cartopy_vis(jjas_cent_degree_w, title='Weighted Degree during Monsoon (MAM)', filename=f'output/sync_{AGGREGATION_RESOLUTION}_jjas_deg_weighted.png', **graph_params)"
   ]
  },
  {
   "cell_type": "code",
   "execution_count": null,
   "metadata": {},
   "outputs": [],
   "source": [
    "Visualization.create_cartopy_vis(jjas_cent_between, log_norm=True, title='Betweenness during Monsoon (JJAS)', filename=f'output/sync_{AGGREGATION_RESOLUTION}_jjas_btw.png', **graph_params)"
   ]
  },
  {
   "cell_type": "code",
   "execution_count": null,
   "metadata": {},
   "outputs": [],
   "source": [
    "Visualization.create_cartopy_vis(jjas_cent_between_w, log_norm=True, title='Weighted Betweenness during Monsoon (JJAS)', filename=f'output/sync_{AGGREGATION_RESOLUTION}_jjas_btw_weighted.png', **graph_params)"
   ]
  },
  {
   "cell_type": "code",
   "execution_count": null,
   "metadata": {},
   "outputs": [],
   "source": [
    "Visualization.create_cartopy_vis(jjas_pagerank, title='PageRank during Monsoon (JJAS)', filename=f'output/sync_{AGGREGATION_RESOLUTION}_jjas_pr.png', **graph_params)"
   ]
  },
  {
   "cell_type": "code",
   "execution_count": null,
   "metadata": {},
   "outputs": [],
   "source": [
    "Visualization.create_cartopy_vis(jjas_pagerank_w, title='Weighted PageRank during Monsoon (JJAS)', filename=f'output/sync_{AGGREGATION_RESOLUTION}_jjas_pr_weighted.png', **graph_params)"
   ]
  },
  {
   "cell_type": "markdown",
   "metadata": {},
   "source": [
    "### Post-Monsoon (OND)"
   ]
  },
  {
   "cell_type": "code",
   "execution_count": null,
   "metadata": {},
   "outputs": [],
   "source": [
    "Visualization.create_cartopy_vis(ond_cent_degree, title='Degree during Post-Monsoon (OND)', filename=f'output/sync_{AGGREGATION_RESOLUTION}_ond_deg.png', **graph_params)"
   ]
  },
  {
   "cell_type": "code",
   "execution_count": null,
   "metadata": {},
   "outputs": [],
   "source": [
    "Visualization.create_cartopy_vis(ond_cent_degree_w, title='Weighted Degree during Post-Monsoon (OND)', filename=f'output/sync_{AGGREGATION_RESOLUTION}_ond_deg_weighted.png', **graph_params)"
   ]
  },
  {
   "cell_type": "code",
   "execution_count": null,
   "metadata": {},
   "outputs": [],
   "source": [
    "# ond_cent_between_log = ond_cent_between.copy()\n",
    "# ond_cent_between_log['val'] = np.log(ond_cent_between_log['val'])\n",
    "Visualization.create_cartopy_vis(ond_cent_between, log_norm=True, title='Betweenness during Post-Monsoon (OND)', filename=f'output/sync_{AGGREGATION_RESOLUTION}_ond_btw.png', **graph_params)"
   ]
  },
  {
   "cell_type": "code",
   "execution_count": null,
   "metadata": {},
   "outputs": [],
   "source": [
    "# ond_cent_between_w_log = ond_cent_between_w.copy()\n",
    "# ond_cent_between_w_log['val'] = np.log(ond_cent_between_w_log['val'])\n",
    "Visualization.create_cartopy_vis(ond_cent_between_w, log_norm=True, title='Weighted Betweenness during Post-Monsoon (OND)', filename=f'output/sync_{AGGREGATION_RESOLUTION}_ond_btw_weighted.png', **graph_params)"
   ]
  },
  {
   "cell_type": "code",
   "execution_count": null,
   "metadata": {},
   "outputs": [],
   "source": [
    "Visualization.create_cartopy_vis(ond_pagerank, title='PageRank during Post-Monsoon (OND)', filename=f'output/sync_{AGGREGATION_RESOLUTION}_ond_pr.png', **graph_params)"
   ]
  },
  {
   "cell_type": "code",
   "execution_count": null,
   "metadata": {},
   "outputs": [],
   "source": [
    "Visualization.create_cartopy_vis(ond_pagerank_w, title='Weighted PageRank during Post-Monsoon (OND)', filename=f'output/sync_{AGGREGATION_RESOLUTION}_ond_pr_weighted.png', **graph_params)"
   ]
  },
  {
   "cell_type": "markdown",
   "metadata": {},
   "source": [
    "### Overview"
   ]
  },
  {
   "cell_type": "code",
   "execution_count": null,
   "metadata": {},
   "outputs": [],
   "source": [
    "fig, axes = plt.subplots(3, 3, figsize=(20, 17), subplot_kw=dict(projection=ccrs.PlateCarree()))\n",
    "\n",
    "axes[0, 0].set_title('Pre-Monsoon (MAM)', size=20)\n",
    "axes[0, 1].set_title('Monsoon (JJAS)', size=20)\n",
    "axes[0, 2].set_title('Post-Monsoon (OND)', size=20)\n",
    "# axes[0, 0].set_ylabel('Degree', rotation=0, size=20)\n",
    "# axes[1, 0].set_ylabel('Betweenness', rotation=0, size=20)\n",
    "# axes[2, 0].set_ylabel('PageRank', rotation=0, size=20)\n",
    "\n",
    "Visualization.create_cartopy_vis(mam_cent_degree, ax=axes[0, 0], **graph_params)\n",
    "Visualization.create_cartopy_vis(jjas_cent_degree, ax=axes[0, 1], **graph_params)\n",
    "Visualization.create_cartopy_vis(ond_cent_degree, ax=axes[0, 2], **graph_params)\n",
    "\n",
    "Visualization.create_cartopy_vis(mam_cent_between, log_norm=True, ax=axes[1, 0], **graph_params)\n",
    "Visualization.create_cartopy_vis(jjas_cent_between, log_norm=True, ax=axes[1, 1], **graph_params)\n",
    "Visualization.create_cartopy_vis(ond_cent_between, log_norm=True, ax=axes[1, 2], **graph_params)\n",
    "\n",
    "Visualization.create_cartopy_vis(mam_pagerank, ax=axes[2, 0], **graph_params)\n",
    "Visualization.create_cartopy_vis(jjas_pagerank, ax=axes[2, 1], **graph_params)\n",
    "Visualization.create_cartopy_vis(ond_pagerank, ax=axes[2, 2], **graph_params)\n",
    "\n",
    "# nx.draw_spring(mam_graph, ax=axes[3, 0], node_size=0.3, width=0.01)\n",
    "# nx.draw_spring(jjas_graph, ax=axes[3, 1], node_size=0.3, width=0.01)\n",
    "# nx.draw_spring(ond_graph, ax=axes[3, 2], node_size=0.3, width=0.01)\n",
    "\n",
    "# Visualization.create_cartopy_vis(msl_first, ax=axes[0, 0], title='On 01.03', vis_type='contour', cmap='coolwarm', clabel='hPa')\n",
    "\n",
    "# supttl = fig.suptitle('Average Mean Sea-Level Pressure (ERA)', size=30)\n",
    "# supttl.set_position([0.5, 1.02])\n",
    "plt.tight_layout(w_pad=3.0, h_pad=3.0)\n",
    "plt.savefig(f'output/event_sync_{AGGREGATION_RESOLUTION}-{EE_QUANTILE}.png', bbox_inches='tight')"
   ]
  },
  {
   "cell_type": "code",
   "execution_count": null,
   "metadata": {},
   "outputs": [],
   "source": [
    "fig, axes = plt.subplots(3, 3, figsize=(20, 17), subplot_kw=dict(projection=ccrs.PlateCarree()))\n",
    "\n",
    "axes[0, 0].set_title('Pre-Monsoon (MAM)', size=20)\n",
    "axes[0, 1].set_title('Monsoon (JJAS)', size=20)\n",
    "axes[0, 2].set_title('Post-Monsoon (OND)', size=20)\n",
    "# axes[0, 0].set_ylabel('Degree', rotation=0, size=20)\n",
    "# axes[1, 0].set_ylabel('Betweenness', rotation=0, size=20)\n",
    "# axes[2, 0].set_ylabel('PageRank', rotation=0, size=20)\n",
    "\n",
    "Visualization.create_cartopy_vis(mam_cent_degree_w, ax=axes[0, 0], **graph_params)\n",
    "Visualization.create_cartopy_vis(jjas_cent_degree_w, ax=axes[0, 1], **graph_params)\n",
    "Visualization.create_cartopy_vis(ond_cent_degree_w, ax=axes[0, 2], **graph_params)\n",
    "\n",
    "Visualization.create_cartopy_vis(mam_cent_between_w, ax=axes[1, 0], log_norm=True, **graph_params)\n",
    "Visualization.create_cartopy_vis(jjas_cent_between_w, ax=axes[1, 1], log_norm=True, **graph_params)\n",
    "Visualization.create_cartopy_vis(ond_cent_between_w, ax=axes[1, 2], log_norm=True, **graph_params)\n",
    "\n",
    "Visualization.create_cartopy_vis(mam_pagerank_w, ax=axes[2, 0], **graph_params)\n",
    "Visualization.create_cartopy_vis(jjas_pagerank_w, ax=axes[2, 1], **graph_params)\n",
    "Visualization.create_cartopy_vis(ond_pagerank_w, ax=axes[2, 2], **graph_params)\n",
    "\n",
    "# nx.draw_spring(mam_graph, ax=axes[3, 0], node_size=0.3, width=0.01)\n",
    "# nx.draw_spring(jjas_graph, ax=axes[3, 1], node_size=0.3, width=0.01)\n",
    "# nx.draw_spring(ond_graph, ax=axes[3, 2], node_size=0.3, width=0.01)\n",
    "\n",
    "# Visualization.create_cartopy_vis(msl_first, ax=axes[0, 0], title='On 01.03', vis_type='contour', cmap='coolwarm', clabel='hPa')\n",
    "\n",
    "# supttl = fig.suptitle('Average Mean Sea-Level Pressure (ERA)', size=30)\n",
    "# supttl.set_position([0.5, 1.02])\n",
    "plt.tight_layout(w_pad=3.0, h_pad=3.0)\n",
    "plt.savefig(f'output/event_sync_{AGGREGATION_RESOLUTION}-{EE_QUANTILE}_weighted.png', bbox_inches='tight')"
   ]
  }
 ],
 "metadata": {
  "kernelspec": {
   "display_name": "Python 3",
   "language": "python",
   "name": "python3"
  },
  "language_info": {
   "codemirror_mode": {
    "name": "ipython",
    "version": 3
   },
   "file_extension": ".py",
   "mimetype": "text/x-python",
   "name": "python",
   "nbconvert_exporter": "python",
   "pygments_lexer": "ipython3",
   "version": "3.6.3"
  }
 },
 "nbformat": 4,
 "nbformat_minor": 2
}
